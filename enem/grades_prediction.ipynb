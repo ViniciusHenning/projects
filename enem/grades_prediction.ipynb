{
 "cells": [
  {
   "cell_type": "code",
   "execution_count": 108,
   "metadata": {},
   "outputs": [],
   "source": [
    "import pandas as pd\n",
    "import numpy as np\n",
    "import matplotlib.pyplot as plt\n",
    "import seaborn as sns\n",
    "import warnings\n",
    "\n",
    "from sklearn.preprocessing import LabelEncoder\n",
    "\n",
    "from sklearn.metrics import plot_confusion_matrix\n",
    "from sklearn.metrics import confusion_matrix\n",
    "from sklearn.metrics import accuracy_score\n",
    "from sklearn.metrics import mean_squared_error\n",
    "from sklearn.metrics import classification_report\n",
    "\n",
    "from sklearn.model_selection import train_test_split\n",
    "\n",
    "\n",
    "#from sklearn.model_selection import GridSearchCV\n",
    "#from sklearn.model_selection import KFold\n",
    "#from sklearn.feature_selection import SelectKBest\n",
    "\n",
    "from sklearn.linear_model import LogisticRegression\n",
    "from sklearn.ensemble import RandomForestClassifier\n",
    "from xgboost import XGBClassifier\n",
    "import xgboost as xgb\n",
    "import lightgbm as lgb\n",
    "\n",
    "from pickle import dump\n",
    "\n",
    "warnings.filterwarnings('ignore')\n",
    "\n",
    "\n",
    "pd.options.display.float_format = \"{:,.2f}\".format"
   ]
  },
  {
   "cell_type": "code",
   "execution_count": 2,
   "metadata": {},
   "outputs": [
    {
     "data": {
      "text/html": [
       "<div>\n",
       "<style scoped>\n",
       "    .dataframe tbody tr th:only-of-type {\n",
       "        vertical-align: middle;\n",
       "    }\n",
       "\n",
       "    .dataframe tbody tr th {\n",
       "        vertical-align: top;\n",
       "    }\n",
       "\n",
       "    .dataframe thead th {\n",
       "        text-align: right;\n",
       "    }\n",
       "</style>\n",
       "<table border=\"1\" class=\"dataframe\">\n",
       "  <thead>\n",
       "    <tr style=\"text-align: right;\">\n",
       "      <th></th>\n",
       "      <th>NU_INSCRICAO</th>\n",
       "      <th>NU_ANO</th>\n",
       "      <th>CO_MUNICIPIO_RESIDENCIA</th>\n",
       "      <th>NO_MUNICIPIO_RESIDENCIA</th>\n",
       "      <th>CO_UF_RESIDENCIA</th>\n",
       "      <th>SG_UF_RESIDENCIA</th>\n",
       "      <th>NU_IDADE</th>\n",
       "      <th>TP_SEXO</th>\n",
       "      <th>TP_ESTADO_CIVIL</th>\n",
       "      <th>TP_COR_RACA</th>\n",
       "      <th>...</th>\n",
       "      <th>Q018</th>\n",
       "      <th>Q019</th>\n",
       "      <th>Q020</th>\n",
       "      <th>Q021</th>\n",
       "      <th>Q022</th>\n",
       "      <th>Q023</th>\n",
       "      <th>Q024</th>\n",
       "      <th>Q025</th>\n",
       "      <th>Q026</th>\n",
       "      <th>Q027</th>\n",
       "    </tr>\n",
       "  </thead>\n",
       "  <tbody>\n",
       "    <tr>\n",
       "      <th>0</th>\n",
       "      <td>180008202043</td>\n",
       "      <td>2018</td>\n",
       "      <td>5300108</td>\n",
       "      <td>Brasília</td>\n",
       "      <td>53</td>\n",
       "      <td>DF</td>\n",
       "      <td>44.00</td>\n",
       "      <td>M</td>\n",
       "      <td>1.00</td>\n",
       "      <td>1</td>\n",
       "      <td>...</td>\n",
       "      <td>A</td>\n",
       "      <td>A</td>\n",
       "      <td>A</td>\n",
       "      <td>A</td>\n",
       "      <td>A</td>\n",
       "      <td>A</td>\n",
       "      <td>A</td>\n",
       "      <td>A</td>\n",
       "      <td>B</td>\n",
       "      <td>A</td>\n",
       "    </tr>\n",
       "    <tr>\n",
       "      <th>1</th>\n",
       "      <td>180007197856</td>\n",
       "      <td>2018</td>\n",
       "      <td>2111102</td>\n",
       "      <td>São João dos Patos</td>\n",
       "      <td>21</td>\n",
       "      <td>MA</td>\n",
       "      <td>23.00</td>\n",
       "      <td>F</td>\n",
       "      <td>0.00</td>\n",
       "      <td>3</td>\n",
       "      <td>...</td>\n",
       "      <td>A</td>\n",
       "      <td>B</td>\n",
       "      <td>A</td>\n",
       "      <td>A</td>\n",
       "      <td>B</td>\n",
       "      <td>A</td>\n",
       "      <td>A</td>\n",
       "      <td>A</td>\n",
       "      <td>A</td>\n",
       "      <td>A</td>\n",
       "    </tr>\n",
       "    <tr>\n",
       "      <th>2</th>\n",
       "      <td>180008517434</td>\n",
       "      <td>2018</td>\n",
       "      <td>3530607</td>\n",
       "      <td>Mogi das Cruzes</td>\n",
       "      <td>35</td>\n",
       "      <td>SP</td>\n",
       "      <td>23.00</td>\n",
       "      <td>F</td>\n",
       "      <td>0.00</td>\n",
       "      <td>1</td>\n",
       "      <td>...</td>\n",
       "      <td>A</td>\n",
       "      <td>B</td>\n",
       "      <td>A</td>\n",
       "      <td>A</td>\n",
       "      <td>B</td>\n",
       "      <td>B</td>\n",
       "      <td>B</td>\n",
       "      <td>B</td>\n",
       "      <td>A</td>\n",
       "      <td>A</td>\n",
       "    </tr>\n",
       "    <tr>\n",
       "      <th>3</th>\n",
       "      <td>180007661228</td>\n",
       "      <td>2018</td>\n",
       "      <td>2916401</td>\n",
       "      <td>Itapetinga</td>\n",
       "      <td>29</td>\n",
       "      <td>BA</td>\n",
       "      <td>26.00</td>\n",
       "      <td>F</td>\n",
       "      <td>0.00</td>\n",
       "      <td>3</td>\n",
       "      <td>...</td>\n",
       "      <td>A</td>\n",
       "      <td>B</td>\n",
       "      <td>B</td>\n",
       "      <td>A</td>\n",
       "      <td>C</td>\n",
       "      <td>A</td>\n",
       "      <td>B</td>\n",
       "      <td>B</td>\n",
       "      <td>A</td>\n",
       "      <td>A</td>\n",
       "    </tr>\n",
       "    <tr>\n",
       "      <th>4</th>\n",
       "      <td>180008787987</td>\n",
       "      <td>2018</td>\n",
       "      <td>2918100</td>\n",
       "      <td>Jeremoabo</td>\n",
       "      <td>29</td>\n",
       "      <td>BA</td>\n",
       "      <td>20.00</td>\n",
       "      <td>M</td>\n",
       "      <td>0.00</td>\n",
       "      <td>0</td>\n",
       "      <td>...</td>\n",
       "      <td>A</td>\n",
       "      <td>B</td>\n",
       "      <td>A</td>\n",
       "      <td>A</td>\n",
       "      <td>B</td>\n",
       "      <td>A</td>\n",
       "      <td>B</td>\n",
       "      <td>B</td>\n",
       "      <td>B</td>\n",
       "      <td>A</td>\n",
       "    </tr>\n",
       "  </tbody>\n",
       "</table>\n",
       "<p>5 rows × 137 columns</p>\n",
       "</div>"
      ],
      "text/plain": [
       "   NU_INSCRICAO  NU_ANO  CO_MUNICIPIO_RESIDENCIA NO_MUNICIPIO_RESIDENCIA  \\\n",
       "0  180008202043    2018                  5300108                Brasília   \n",
       "1  180007197856    2018                  2111102      São João dos Patos   \n",
       "2  180008517434    2018                  3530607         Mogi das Cruzes   \n",
       "3  180007661228    2018                  2916401              Itapetinga   \n",
       "4  180008787987    2018                  2918100               Jeremoabo   \n",
       "\n",
       "   CO_UF_RESIDENCIA SG_UF_RESIDENCIA  NU_IDADE TP_SEXO  TP_ESTADO_CIVIL  \\\n",
       "0                53               DF     44.00       M             1.00   \n",
       "1                21               MA     23.00       F             0.00   \n",
       "2                35               SP     23.00       F             0.00   \n",
       "3                29               BA     26.00       F             0.00   \n",
       "4                29               BA     20.00       M             0.00   \n",
       "\n",
       "   TP_COR_RACA  ...  Q018  Q019 Q020  Q021 Q022  Q023  Q024  Q025  Q026  Q027  \n",
       "0            1  ...     A     A    A     A    A     A     A     A     B     A  \n",
       "1            3  ...     A     B    A     A    B     A     A     A     A     A  \n",
       "2            1  ...     A     B    A     A    B     B     B     B     A     A  \n",
       "3            3  ...     A     B    B     A    C     A     B     B     A     A  \n",
       "4            0  ...     A     B    A     A    B     A     B     B     B     A  \n",
       "\n",
       "[5 rows x 137 columns]"
      ]
     },
     "execution_count": 2,
     "metadata": {},
     "output_type": "execute_result"
    }
   ],
   "source": [
    "df2018 = pd.read_csv('DADOS/MICRODADOS_ENEM_2018.csv',\n",
    "                     nrows = 100000, sep = ';', encoding = 'ISO-8859-1')\n",
    "\n",
    "\n",
    "df2018.head()"
   ]
  },
  {
   "cell_type": "markdown",
   "metadata": {},
   "source": [
    "## Data cleaning\n",
    "\n",
    "### Removing some irrelevant columns\n",
    "\n",
    "Some columns can be seen directly as been irrelevant for us, the first of them is\n",
    "the enrollment number, since we are interested in the social information and this\n",
    "is an individual number to each applicant. Another one is the NU_ANO, since it\n",
    "corresponds to the year of the specific national exam. Also 'CO_MUNICIPIO_RESIDENCIA'\n",
    "is equivalent to 'NO_MUNICIPIO_RESIDENCIA' and 'CO_UF_RESIDENCIA' is equivalent to 'SG_UF_RESIDENCIA'."
   ]
  },
  {
   "cell_type": "code",
   "execution_count": 3,
   "metadata": {},
   "outputs": [
    {
     "data": {
      "text/html": [
       "<div>\n",
       "<style scoped>\n",
       "    .dataframe tbody tr th:only-of-type {\n",
       "        vertical-align: middle;\n",
       "    }\n",
       "\n",
       "    .dataframe tbody tr th {\n",
       "        vertical-align: top;\n",
       "    }\n",
       "\n",
       "    .dataframe thead th {\n",
       "        text-align: right;\n",
       "    }\n",
       "</style>\n",
       "<table border=\"1\" class=\"dataframe\">\n",
       "  <thead>\n",
       "    <tr style=\"text-align: right;\">\n",
       "      <th></th>\n",
       "      <th>NO_MUNICIPIO_RESIDENCIA</th>\n",
       "      <th>SG_UF_RESIDENCIA</th>\n",
       "      <th>NU_IDADE</th>\n",
       "      <th>TP_SEXO</th>\n",
       "      <th>TP_ESTADO_CIVIL</th>\n",
       "      <th>TP_COR_RACA</th>\n",
       "      <th>TP_ST_CONCLUSAO</th>\n",
       "      <th>TP_ANO_CONCLUIU</th>\n",
       "      <th>TP_ESCOLA</th>\n",
       "      <th>TP_ENSINO</th>\n",
       "      <th>...</th>\n",
       "      <th>Q018</th>\n",
       "      <th>Q019</th>\n",
       "      <th>Q020</th>\n",
       "      <th>Q021</th>\n",
       "      <th>Q022</th>\n",
       "      <th>Q023</th>\n",
       "      <th>Q024</th>\n",
       "      <th>Q025</th>\n",
       "      <th>Q026</th>\n",
       "      <th>Q027</th>\n",
       "    </tr>\n",
       "  </thead>\n",
       "  <tbody>\n",
       "    <tr>\n",
       "      <th>0</th>\n",
       "      <td>Brasília</td>\n",
       "      <td>DF</td>\n",
       "      <td>44.00</td>\n",
       "      <td>M</td>\n",
       "      <td>1.00</td>\n",
       "      <td>1</td>\n",
       "      <td>2</td>\n",
       "      <td>0</td>\n",
       "      <td>2</td>\n",
       "      <td>1.00</td>\n",
       "      <td>...</td>\n",
       "      <td>A</td>\n",
       "      <td>A</td>\n",
       "      <td>A</td>\n",
       "      <td>A</td>\n",
       "      <td>A</td>\n",
       "      <td>A</td>\n",
       "      <td>A</td>\n",
       "      <td>A</td>\n",
       "      <td>B</td>\n",
       "      <td>A</td>\n",
       "    </tr>\n",
       "    <tr>\n",
       "      <th>1</th>\n",
       "      <td>São João dos Patos</td>\n",
       "      <td>MA</td>\n",
       "      <td>23.00</td>\n",
       "      <td>F</td>\n",
       "      <td>0.00</td>\n",
       "      <td>3</td>\n",
       "      <td>1</td>\n",
       "      <td>5</td>\n",
       "      <td>1</td>\n",
       "      <td>1.00</td>\n",
       "      <td>...</td>\n",
       "      <td>A</td>\n",
       "      <td>B</td>\n",
       "      <td>A</td>\n",
       "      <td>A</td>\n",
       "      <td>B</td>\n",
       "      <td>A</td>\n",
       "      <td>A</td>\n",
       "      <td>A</td>\n",
       "      <td>A</td>\n",
       "      <td>A</td>\n",
       "    </tr>\n",
       "    <tr>\n",
       "      <th>2</th>\n",
       "      <td>Mogi das Cruzes</td>\n",
       "      <td>SP</td>\n",
       "      <td>23.00</td>\n",
       "      <td>F</td>\n",
       "      <td>0.00</td>\n",
       "      <td>1</td>\n",
       "      <td>1</td>\n",
       "      <td>3</td>\n",
       "      <td>1</td>\n",
       "      <td>3.00</td>\n",
       "      <td>...</td>\n",
       "      <td>A</td>\n",
       "      <td>B</td>\n",
       "      <td>A</td>\n",
       "      <td>A</td>\n",
       "      <td>B</td>\n",
       "      <td>B</td>\n",
       "      <td>B</td>\n",
       "      <td>B</td>\n",
       "      <td>A</td>\n",
       "      <td>A</td>\n",
       "    </tr>\n",
       "    <tr>\n",
       "      <th>3</th>\n",
       "      <td>Itapetinga</td>\n",
       "      <td>BA</td>\n",
       "      <td>26.00</td>\n",
       "      <td>F</td>\n",
       "      <td>0.00</td>\n",
       "      <td>3</td>\n",
       "      <td>1</td>\n",
       "      <td>8</td>\n",
       "      <td>1</td>\n",
       "      <td>1.00</td>\n",
       "      <td>...</td>\n",
       "      <td>A</td>\n",
       "      <td>B</td>\n",
       "      <td>B</td>\n",
       "      <td>A</td>\n",
       "      <td>C</td>\n",
       "      <td>A</td>\n",
       "      <td>B</td>\n",
       "      <td>B</td>\n",
       "      <td>A</td>\n",
       "      <td>A</td>\n",
       "    </tr>\n",
       "    <tr>\n",
       "      <th>4</th>\n",
       "      <td>Jeremoabo</td>\n",
       "      <td>BA</td>\n",
       "      <td>20.00</td>\n",
       "      <td>M</td>\n",
       "      <td>0.00</td>\n",
       "      <td>0</td>\n",
       "      <td>2</td>\n",
       "      <td>0</td>\n",
       "      <td>2</td>\n",
       "      <td>1.00</td>\n",
       "      <td>...</td>\n",
       "      <td>A</td>\n",
       "      <td>B</td>\n",
       "      <td>A</td>\n",
       "      <td>A</td>\n",
       "      <td>B</td>\n",
       "      <td>A</td>\n",
       "      <td>B</td>\n",
       "      <td>B</td>\n",
       "      <td>B</td>\n",
       "      <td>A</td>\n",
       "    </tr>\n",
       "  </tbody>\n",
       "</table>\n",
       "<p>5 rows × 128 columns</p>\n",
       "</div>"
      ],
      "text/plain": [
       "  NO_MUNICIPIO_RESIDENCIA SG_UF_RESIDENCIA  NU_IDADE TP_SEXO  TP_ESTADO_CIVIL  \\\n",
       "0                Brasília               DF     44.00       M             1.00   \n",
       "1      São João dos Patos               MA     23.00       F             0.00   \n",
       "2         Mogi das Cruzes               SP     23.00       F             0.00   \n",
       "3              Itapetinga               BA     26.00       F             0.00   \n",
       "4               Jeremoabo               BA     20.00       M             0.00   \n",
       "\n",
       "   TP_COR_RACA  TP_ST_CONCLUSAO  TP_ANO_CONCLUIU  TP_ESCOLA  TP_ENSINO  ...  \\\n",
       "0            1                2                0          2       1.00  ...   \n",
       "1            3                1                5          1       1.00  ...   \n",
       "2            1                1                3          1       3.00  ...   \n",
       "3            3                1                8          1       1.00  ...   \n",
       "4            0                2                0          2       1.00  ...   \n",
       "\n",
       "   Q018  Q019  Q020 Q021  Q022 Q023  Q024  Q025  Q026  Q027  \n",
       "0     A     A     A    A     A    A     A     A     B     A  \n",
       "1     A     B     A    A     B    A     A     A     A     A  \n",
       "2     A     B     A    A     B    B     B     B     A     A  \n",
       "3     A     B     B    A     C    A     B     B     A     A  \n",
       "4     A     B     A    A     B    A     B     B     B     A  \n",
       "\n",
       "[5 rows x 128 columns]"
      ]
     },
     "execution_count": 3,
     "metadata": {},
     "output_type": "execute_result"
    }
   ],
   "source": [
    "cols = ['NU_INSCRICAO', 'NU_ANO', 'CO_MUNICIPIO_RESIDENCIA', 'CO_UF_RESIDENCIA', 'CO_MUNICIPIO_NASCIMENTO', 'CO_UF_NASCIMENTO', 'TP_NACIONALIDADE', 'NO_MUNICIPIO_NASCIMENTO', 'SG_UF_NASCIMENTO']\n",
    "\n",
    "df2018 = df2018.drop(columns = cols)\n",
    "\n",
    "df2018.head()"
   ]
  },
  {
   "cell_type": "markdown",
   "metadata": {},
   "source": [
    "For the model prediction, we are also not interested in information regarding the answers\n",
    "given by the students at the answer card. Nor the test informations, like the test number and so on"
   ]
  },
  {
   "cell_type": "code",
   "execution_count": 4,
   "metadata": {},
   "outputs": [],
   "source": [
    "cols = ['CO_PROVA_CN', 'CO_PROVA_CH', 'CO_PROVA_LC', 'CO_PROVA_MT', 'TX_GABARITO_CN',\n",
    "        'TX_GABARITO_CH', 'TX_GABARITO_LC','TX_GABARITO_MT','TP_STATUS_REDACAO',\n",
    "        'TX_RESPOSTAS_CN', 'TX_RESPOSTAS_CH', 'TX_RESPOSTAS_LC', 'TX_RESPOSTAS_MT', \n",
    "        'NU_NOTA_COMP1', 'NU_NOTA_COMP2', 'NU_NOTA_COMP3', 'NU_NOTA_COMP4', 'NU_NOTA_COMP5']\n",
    "\n",
    "df2018 = df2018.drop(columns = cols)"
   ]
  },
  {
   "cell_type": "markdown",
   "metadata": {},
   "source": [
    "### Analyzing absent applicants\n",
    "\n",
    "The columns containing \"PRESENCA\" in the name, tells us when the applicants were present \n",
    "or not in the test. Let's analyze this and also remove those applicants which were absent"
   ]
  },
  {
   "cell_type": "code",
   "execution_count": 5,
   "metadata": {},
   "outputs": [
    {
     "name": "stdout",
     "output_type": "stream",
     "text": [
      "26932\n",
      "73051\n",
      "15\n",
      "0\n",
      "72936\n",
      "0\n"
     ]
    }
   ],
   "source": [
    "print(len(df2018[['TP_PRESENCA_CN']][df2018.TP_PRESENCA_CN == 0]))\n",
    "print(len(df2018[['TP_PRESENCA_CN']][df2018.TP_PRESENCA_CN == 1]))\n",
    "print(len(df2018[['TP_PRESENCA_CN']][df2018.TP_PRESENCA_CN == 2]))\n",
    "\n",
    "## Removing those which didn't show up for the test\n",
    "\n",
    "df2018 = df2018[(df2018.TP_PRESENCA_CN == 1) & (df2018.TP_PRESENCA_CH == 1) & (df2018.TP_PRESENCA_LC == 1) & (df2018.TP_PRESENCA_MT == 1)]\n",
    "\n",
    "print(len(df2018[['TP_PRESENCA_CN']][df2018.TP_PRESENCA_CN == 0]))\n",
    "print(len(df2018[['TP_PRESENCA_CN']][df2018.TP_PRESENCA_CN == 1]))\n",
    "print(len(df2018[['TP_PRESENCA_CN']][df2018.TP_PRESENCA_CN == 2]))"
   ]
  },
  {
   "cell_type": "markdown",
   "metadata": {},
   "source": [
    "### Analyzing the nan-values"
   ]
  },
  {
   "cell_type": "code",
   "execution_count": 6,
   "metadata": {},
   "outputs": [],
   "source": [
    "df2018.drop(columns = ['TP_PRESENCA_CN', 'TP_PRESENCA_CH', 'TP_PRESENCA_LC', 'TP_PRESENCA_MT'], inplace = True)"
   ]
  },
  {
   "cell_type": "code",
   "execution_count": 7,
   "metadata": {},
   "outputs": [
    {
     "name": "stdout",
     "output_type": "stream",
     "text": [
      "NO_MUNICIPIO_RESIDENCIA            0\n",
      "SG_UF_RESIDENCIA                   0\n",
      "NU_IDADE                           1\n",
      "TP_SEXO                            0\n",
      "TP_ESTADO_CIVIL                 2562\n",
      "TP_COR_RACA                        0\n",
      "TP_ST_CONCLUSAO                    0\n",
      "TP_ANO_CONCLUIU                    0\n",
      "TP_ESCOLA                          0\n",
      "TP_ENSINO                      18093\n",
      "IN_TREINEIRO                       0\n",
      "CO_ESCOLA                      55628\n",
      "CO_MUNICIPIO_ESC               55628\n",
      "NO_MUNICIPIO_ESC               55628\n",
      "CO_UF_ESC                      55628\n",
      "SG_UF_ESC                      55628\n",
      "TP_DEPENDENCIA_ADM_ESC         55628\n",
      "TP_LOCALIZACAO_ESC             55628\n",
      "TP_SIT_FUNC_ESC                55628\n",
      "IN_BAIXA_VISAO                     0\n",
      "IN_CEGUEIRA                        0\n",
      "IN_SURDEZ                          0\n",
      "IN_DEFICIENCIA_AUDITIVA            0\n",
      "IN_SURDO_CEGUEIRA                  0\n",
      "IN_DEFICIENCIA_FISICA              0\n",
      "IN_DEFICIENCIA_MENTAL              0\n",
      "IN_DEFICIT_ATENCAO                 0\n",
      "IN_DISLEXIA                        0\n",
      "IN_DISCALCULIA                     0\n",
      "IN_AUTISMO                         0\n",
      "IN_VISAO_MONOCULAR                 0\n",
      "IN_OUTRA_DEF                       0\n",
      "IN_GESTANTE                        0\n",
      "IN_LACTANTE                        0\n",
      "IN_IDOSO                           0\n",
      "IN_ESTUDA_CLASSE_HOSPITALAR        0\n",
      "IN_SEM_RECURSO                     0\n",
      "IN_BRAILLE                         0\n",
      "IN_AMPLIADA_24                     0\n",
      "IN_AMPLIADA_18                     0\n",
      "IN_LEDOR                           0\n",
      "IN_ACESSO                          0\n",
      "IN_TRANSCRICAO                     0\n",
      "IN_LIBRAS                          0\n",
      "IN_LEITURA_LABIAL                  0\n",
      "IN_MESA_CADEIRA_RODAS              0\n",
      "IN_MESA_CADEIRA_SEPARADA           0\n",
      "IN_APOIO_PERNA                     0\n",
      "IN_GUIA_INTERPRETE                 0\n",
      "IN_COMPUTADOR                      0\n",
      "IN_CADEIRA_ESPECIAL                0\n",
      "IN_CADEIRA_CANHOTO                 0\n",
      "IN_CADEIRA_ACOLCHOADA              0\n",
      "IN_PROVA_DEITADO                   0\n",
      "IN_MOBILIARIO_OBESO                0\n",
      "IN_LAMINA_OVERLAY                  0\n",
      "IN_PROTETOR_AURICULAR              0\n",
      "IN_MEDIDOR_GLICOSE                 0\n",
      "IN_MAQUINA_BRAILE                  0\n",
      "IN_SOROBAN                         0\n",
      "dtype: int64\n",
      "IN_MARCA_PASSO              0\n",
      "IN_SONDA                    0\n",
      "IN_MEDICAMENTOS             0\n",
      "IN_SALA_INDIVIDUAL          0\n",
      "IN_SALA_ESPECIAL            0\n",
      "IN_SALA_ACOMPANHANTE        0\n",
      "IN_MOBILIARIO_ESPECIFICO    0\n",
      "IN_MATERIAL_ESPECIFICO      0\n",
      "IN_NOME_SOCIAL              0\n",
      "CO_MUNICIPIO_PROVA          0\n",
      "NO_MUNICIPIO_PROVA          0\n",
      "CO_UF_PROVA                 0\n",
      "SG_UF_PROVA                 0\n",
      "NU_NOTA_CN                  0\n",
      "NU_NOTA_CH                  0\n",
      "NU_NOTA_LC                  0\n",
      "NU_NOTA_MT                  0\n",
      "TP_LINGUA                   0\n",
      "NU_NOTA_REDACAO             0\n",
      "Q001                        0\n",
      "Q002                        0\n",
      "Q003                        0\n",
      "Q004                        0\n",
      "Q005                        0\n",
      "Q006                        0\n",
      "Q007                        0\n",
      "Q008                        0\n",
      "Q009                        0\n",
      "Q010                        0\n",
      "Q011                        0\n",
      "Q012                        0\n",
      "Q013                        0\n",
      "Q014                        0\n",
      "Q015                        0\n",
      "Q016                        0\n",
      "Q017                        0\n",
      "Q018                        0\n",
      "Q019                        0\n",
      "Q020                        0\n",
      "Q021                        0\n",
      "Q022                        0\n",
      "Q023                        0\n",
      "Q024                        0\n",
      "Q025                        0\n",
      "Q026                        0\n",
      "Q027                        0\n",
      "dtype: int64\n",
      "Series([], dtype: float64)\n"
     ]
    }
   ],
   "source": [
    "print(df2018.iloc[:, : 60].isna().sum())\n",
    "print(df2018.iloc[:, 60: 120].isna().sum())\n",
    "print(df2018.iloc[:, 120: ].isna().sum())"
   ]
  },
  {
   "cell_type": "code",
   "execution_count": 8,
   "metadata": {},
   "outputs": [
    {
     "data": {
      "text/html": [
       "<div>\n",
       "<style scoped>\n",
       "    .dataframe tbody tr th:only-of-type {\n",
       "        vertical-align: middle;\n",
       "    }\n",
       "\n",
       "    .dataframe tbody tr th {\n",
       "        vertical-align: top;\n",
       "    }\n",
       "\n",
       "    .dataframe thead th {\n",
       "        text-align: right;\n",
       "    }\n",
       "</style>\n",
       "<table border=\"1\" class=\"dataframe\">\n",
       "  <thead>\n",
       "    <tr style=\"text-align: right;\">\n",
       "      <th></th>\n",
       "      <th>CO_ESCOLA</th>\n",
       "      <th>CO_MUNICIPIO_ESC</th>\n",
       "      <th>NO_MUNICIPIO_ESC</th>\n",
       "      <th>CO_UF_ESC</th>\n",
       "      <th>SG_UF_ESC</th>\n",
       "      <th>TP_DEPENDENCIA_ADM_ESC</th>\n",
       "      <th>TP_LOCALIZACAO_ESC</th>\n",
       "      <th>TP_SIT_FUNC_ESC</th>\n",
       "    </tr>\n",
       "  </thead>\n",
       "  <tbody>\n",
       "    <tr>\n",
       "      <th>1</th>\n",
       "      <td>NaN</td>\n",
       "      <td>NaN</td>\n",
       "      <td>NaN</td>\n",
       "      <td>NaN</td>\n",
       "      <td>NaN</td>\n",
       "      <td>NaN</td>\n",
       "      <td>NaN</td>\n",
       "      <td>NaN</td>\n",
       "    </tr>\n",
       "    <tr>\n",
       "      <th>5</th>\n",
       "      <td>NaN</td>\n",
       "      <td>NaN</td>\n",
       "      <td>NaN</td>\n",
       "      <td>NaN</td>\n",
       "      <td>NaN</td>\n",
       "      <td>NaN</td>\n",
       "      <td>NaN</td>\n",
       "      <td>NaN</td>\n",
       "    </tr>\n",
       "    <tr>\n",
       "      <th>7</th>\n",
       "      <td>NaN</td>\n",
       "      <td>NaN</td>\n",
       "      <td>NaN</td>\n",
       "      <td>NaN</td>\n",
       "      <td>NaN</td>\n",
       "      <td>NaN</td>\n",
       "      <td>NaN</td>\n",
       "      <td>NaN</td>\n",
       "    </tr>\n",
       "    <tr>\n",
       "      <th>8</th>\n",
       "      <td>23,077,140.00</td>\n",
       "      <td>2,304,400.00</td>\n",
       "      <td>Fortaleza</td>\n",
       "      <td>23.00</td>\n",
       "      <td>CE</td>\n",
       "      <td>2.00</td>\n",
       "      <td>1.00</td>\n",
       "      <td>1.00</td>\n",
       "    </tr>\n",
       "    <tr>\n",
       "      <th>9</th>\n",
       "      <td>NaN</td>\n",
       "      <td>NaN</td>\n",
       "      <td>NaN</td>\n",
       "      <td>NaN</td>\n",
       "      <td>NaN</td>\n",
       "      <td>NaN</td>\n",
       "      <td>NaN</td>\n",
       "      <td>NaN</td>\n",
       "    </tr>\n",
       "  </tbody>\n",
       "</table>\n",
       "</div>"
      ],
      "text/plain": [
       "      CO_ESCOLA  CO_MUNICIPIO_ESC NO_MUNICIPIO_ESC  CO_UF_ESC SG_UF_ESC  \\\n",
       "1           NaN               NaN              NaN        NaN       NaN   \n",
       "5           NaN               NaN              NaN        NaN       NaN   \n",
       "7           NaN               NaN              NaN        NaN       NaN   \n",
       "8 23,077,140.00      2,304,400.00        Fortaleza      23.00        CE   \n",
       "9           NaN               NaN              NaN        NaN       NaN   \n",
       "\n",
       "   TP_DEPENDENCIA_ADM_ESC  TP_LOCALIZACAO_ESC  TP_SIT_FUNC_ESC  \n",
       "1                     NaN                 NaN              NaN  \n",
       "5                     NaN                 NaN              NaN  \n",
       "7                     NaN                 NaN              NaN  \n",
       "8                    2.00                1.00             1.00  \n",
       "9                     NaN                 NaN              NaN  "
      ]
     },
     "execution_count": 8,
     "metadata": {},
     "output_type": "execute_result"
    }
   ],
   "source": [
    "## Let's start by analyzing the following set of columns\n",
    "\n",
    "df2018[['CO_ESCOLA', 'CO_MUNICIPIO_ESC', 'NO_MUNICIPIO_ESC', 'CO_UF_ESC', 'SG_UF_ESC',\n",
    "        'TP_DEPENDENCIA_ADM_ESC', 'TP_LOCALIZACAO_ESC', 'TP_SIT_FUNC_ESC']].head()"
   ]
  },
  {
   "cell_type": "markdown",
   "metadata": {},
   "source": [
    "These columns represent most likely the same information (city and state).\n",
    "However, since most of the high school students study on their own hometown,\n",
    "for most people these information do not bring any extra information .\n",
    "Since most of them are nan-values, let's simply drop them out."
   ]
  },
  {
   "cell_type": "code",
   "execution_count": 9,
   "metadata": {},
   "outputs": [],
   "source": [
    "df2018.drop(columns = ['CO_ESCOLA', 'CO_MUNICIPIO_ESC', 'NO_MUNICIPIO_ESC',\n",
    "                       'CO_UF_ESC', 'SG_UF_ESC', 'TP_DEPENDENCIA_ADM_ESC',\n",
    "                       'TP_LOCALIZACAO_ESC', 'TP_SIT_FUNC_ESC'], inplace = True)"
   ]
  },
  {
   "cell_type": "code",
   "execution_count": 10,
   "metadata": {},
   "outputs": [
    {
     "name": "stdout",
     "output_type": "stream",
     "text": [
      "NO_MUNICIPIO_RESIDENCIA        0\n",
      "SG_UF_RESIDENCIA               0\n",
      "NU_IDADE                       1\n",
      "TP_SEXO                        0\n",
      "TP_ESTADO_CIVIL             2562\n",
      "TP_COR_RACA                    0\n",
      "TP_ST_CONCLUSAO                0\n",
      "TP_ANO_CONCLUIU                0\n",
      "TP_ESCOLA                      0\n",
      "TP_ENSINO                  18093\n",
      "IN_TREINEIRO                   0\n",
      "IN_BAIXA_VISAO                 0\n",
      "IN_CEGUEIRA                    0\n",
      "IN_SURDEZ                      0\n",
      "IN_DEFICIENCIA_AUDITIVA        0\n",
      "dtype: int64\n"
     ]
    }
   ],
   "source": [
    "print(df2018.iloc[:, : 15].isna().sum())"
   ]
  },
  {
   "cell_type": "markdown",
   "metadata": {},
   "source": [
    "The column *TP_ENSINO* corresponds to the kind of school that\n",
    "the student has came from, *i.e.*, regular schools (1), high school\n",
    "done in a shorter time (2) and schools for adults (3). We can take a look\n",
    "on their kind of school and their age to analyse its nan-values and fill\n",
    "at least some of them with some guessing."
   ]
  },
  {
   "cell_type": "code",
   "execution_count": 11,
   "metadata": {},
   "outputs": [
    {
     "data": {
      "text/html": [
       "<div>\n",
       "<style scoped>\n",
       "    .dataframe tbody tr th:only-of-type {\n",
       "        vertical-align: middle;\n",
       "    }\n",
       "\n",
       "    .dataframe tbody tr th {\n",
       "        vertical-align: top;\n",
       "    }\n",
       "\n",
       "    .dataframe thead th {\n",
       "        text-align: right;\n",
       "    }\n",
       "</style>\n",
       "<table border=\"1\" class=\"dataframe\">\n",
       "  <thead>\n",
       "    <tr style=\"text-align: right;\">\n",
       "      <th></th>\n",
       "      <th>NU_IDADE</th>\n",
       "      <th>TP_ENSINO</th>\n",
       "    </tr>\n",
       "  </thead>\n",
       "  <tbody>\n",
       "    <tr>\n",
       "      <th>22</th>\n",
       "      <td>29.00</td>\n",
       "      <td>NaN</td>\n",
       "    </tr>\n",
       "    <tr>\n",
       "      <th>27</th>\n",
       "      <td>19.00</td>\n",
       "      <td>NaN</td>\n",
       "    </tr>\n",
       "    <tr>\n",
       "      <th>31</th>\n",
       "      <td>16.00</td>\n",
       "      <td>NaN</td>\n",
       "    </tr>\n",
       "    <tr>\n",
       "      <th>59</th>\n",
       "      <td>16.00</td>\n",
       "      <td>NaN</td>\n",
       "    </tr>\n",
       "    <tr>\n",
       "      <th>122</th>\n",
       "      <td>15.00</td>\n",
       "      <td>NaN</td>\n",
       "    </tr>\n",
       "    <tr>\n",
       "      <th>174</th>\n",
       "      <td>18.00</td>\n",
       "      <td>NaN</td>\n",
       "    </tr>\n",
       "    <tr>\n",
       "      <th>193</th>\n",
       "      <td>19.00</td>\n",
       "      <td>NaN</td>\n",
       "    </tr>\n",
       "    <tr>\n",
       "      <th>203</th>\n",
       "      <td>41.00</td>\n",
       "      <td>NaN</td>\n",
       "    </tr>\n",
       "    <tr>\n",
       "      <th>230</th>\n",
       "      <td>18.00</td>\n",
       "      <td>NaN</td>\n",
       "    </tr>\n",
       "    <tr>\n",
       "      <th>239</th>\n",
       "      <td>19.00</td>\n",
       "      <td>NaN</td>\n",
       "    </tr>\n",
       "  </tbody>\n",
       "</table>\n",
       "</div>"
      ],
      "text/plain": [
       "     NU_IDADE  TP_ENSINO\n",
       "22      29.00        NaN\n",
       "27      19.00        NaN\n",
       "31      16.00        NaN\n",
       "59      16.00        NaN\n",
       "122     15.00        NaN\n",
       "174     18.00        NaN\n",
       "193     19.00        NaN\n",
       "203     41.00        NaN\n",
       "230     18.00        NaN\n",
       "239     19.00        NaN"
      ]
     },
     "execution_count": 11,
     "metadata": {},
     "output_type": "execute_result"
    }
   ],
   "source": [
    "# Okay, there a bunch of people younger than 17-18 (which is\n",
    "#the age that most people are finishing their high schools), so for\n",
    "#these people we can fill up with regular school right away\n",
    "\n",
    "df2018[['NU_IDADE', 'TP_ENSINO']][df2018.TP_ENSINO.isna()].head(10)"
   ]
  },
  {
   "cell_type": "code",
   "execution_count": 12,
   "metadata": {},
   "outputs": [
    {
     "data": {
      "text/plain": [
       "1.00    60190\n",
       "NaN      8107\n",
       "3.00     4355\n",
       "2.00      284\n",
       "Name: TP_ENSINO, dtype: int64"
      ]
     },
     "execution_count": 12,
     "metadata": {},
     "output_type": "execute_result"
    }
   ],
   "source": [
    "cond = (df2018.TP_ENSINO.isna()) & (df2018.NU_IDADE <= 20)\n",
    "\n",
    "df2018.loc[cond] = df2018.loc[cond].fillna(1)\n",
    "\n",
    "df2018.TP_ENSINO.value_counts(dropna = False)"
   ]
  },
  {
   "cell_type": "markdown",
   "metadata": {},
   "source": [
    "The rest of nan-values probably lie within the groups 2 or 3.\n",
    "However the data is pretty unbalanced and we might join the groups\n",
    "2 and 3 together later on."
   ]
  },
  {
   "cell_type": "code",
   "execution_count": 13,
   "metadata": {},
   "outputs": [
    {
     "name": "stdout",
     "output_type": "stream",
     "text": [
      "NO_MUNICIPIO_RESIDENCIA       0\n",
      "SG_UF_RESIDENCIA              0\n",
      "NU_IDADE                      1\n",
      "TP_SEXO                       0\n",
      "TP_ESTADO_CIVIL            2394\n",
      "TP_COR_RACA                   0\n",
      "TP_ST_CONCLUSAO               0\n",
      "TP_ANO_CONCLUIU               0\n",
      "TP_ESCOLA                     0\n",
      "TP_ENSINO                     0\n",
      "dtype: int64\n"
     ]
    }
   ],
   "source": [
    "df2018.TP_ENSINO = df2018.TP_ENSINO.fillna(2)\n",
    "\n",
    "print(df2018.iloc[:, : 10].isna().sum())"
   ]
  },
  {
   "cell_type": "markdown",
   "metadata": {},
   "source": [
    "### Analyzing the marital status of the applicants"
   ]
  },
  {
   "cell_type": "code",
   "execution_count": 14,
   "metadata": {},
   "outputs": [
    {
     "data": {
      "text/plain": [
       "0.00    63740\n",
       "1.00     5842\n",
       "NaN      2394\n",
       "2.00      908\n",
       "3.00       52\n",
       "Name: TP_ESTADO_CIVIL, dtype: int64"
      ]
     },
     "execution_count": 14,
     "metadata": {},
     "output_type": "execute_result"
    }
   ],
   "source": [
    "## Again, even filling the nan-values properly, it won't help that much\n",
    "## due to unbalanced data. Therefore we will split it later on single and non-single people\n",
    "\n",
    "df2018.TP_ESTADO_CIVIL.value_counts(dropna = False)"
   ]
  },
  {
   "cell_type": "code",
   "execution_count": 15,
   "metadata": {},
   "outputs": [],
   "source": [
    "cond = (df2018.TP_ESTADO_CIVIL.isna()) & (df2018.NU_IDADE <= 25)\n",
    "cols = ['TP_ESTADO_CIVIL', 'NU_IDADE']\n",
    "\n",
    "df2018.loc[cond, cols] = df2018.loc[cond, cols].fillna(0)\n",
    "\n",
    "df2018.TP_ESTADO_CIVIL = df2018.TP_ESTADO_CIVIL.fillna(1)"
   ]
  },
  {
   "cell_type": "code",
   "execution_count": 16,
   "metadata": {},
   "outputs": [
    {
     "name": "stdout",
     "output_type": "stream",
     "text": [
      "NO_MUNICIPIO_RESIDENCIA    0\n",
      "SG_UF_RESIDENCIA           0\n",
      "NU_IDADE                   0\n",
      "TP_SEXO                    0\n",
      "TP_ESTADO_CIVIL            0\n",
      "TP_COR_RACA                0\n",
      "dtype: int64\n"
     ]
    }
   ],
   "source": [
    "# Filling the missing data related to age\n",
    "\n",
    "df2018.NU_IDADE = df2018.NU_IDADE.fillna(round(df2018.NU_IDADE.mean()))\n",
    "\n",
    "print(df2018.iloc[:, : 6].isna().sum())"
   ]
  },
  {
   "cell_type": "markdown",
   "metadata": {},
   "source": [
    "### Dealing with the students which scored zero in the essay\n",
    "\n",
    "When someone scores zero in the essay this applicant will not be able to enroll\n",
    "most of the universties. Therefore, it is safe to drop them out. Let's investigate"
   ]
  },
  {
   "cell_type": "code",
   "execution_count": 17,
   "metadata": {},
   "outputs": [
    {
     "name": "stdout",
     "output_type": "stream",
     "text": [
      "1046\n",
      "0\n"
     ]
    }
   ],
   "source": [
    "print(len(df2018.NU_NOTA_REDACAO[df2018.NU_NOTA_REDACAO == 0]))\n",
    "\n",
    "## If someone scored 0 at the essay it won't be accept in most\n",
    "## of the universities. So we will drop this candidate\n",
    "df2018 = df2018[df2018.NU_NOTA_REDACAO != 0]\n",
    "\n",
    "print(len(df2018.NU_NOTA_REDACAO[df2018.NU_NOTA_REDACAO == 0]))"
   ]
  },
  {
   "cell_type": "code",
   "execution_count": 18,
   "metadata": {},
   "outputs": [],
   "source": [
    "# Checking those students which were present in the tests\n",
    "\n"
   ]
  },
  {
   "cell_type": "markdown",
   "metadata": {},
   "source": [
    "## Some feature engineering\n",
    "\n",
    "There are some information which are not particularly relevant due to how unbalanced is the data in some features.\n",
    "One of them is the marital status. Most people applying is single and the rest is divided into three categories.\n",
    "Might be useful to create:\n",
    "- Single (1) not single (0) instead of marital status.\n",
    "- Regarding the city, it might be worth checking whether the applicant lives in the capital or not."
   ]
  },
  {
   "cell_type": "code",
   "execution_count": 19,
   "metadata": {},
   "outputs": [
    {
     "data": {
      "text/html": [
       "<div>\n",
       "<style scoped>\n",
       "    .dataframe tbody tr th:only-of-type {\n",
       "        vertical-align: middle;\n",
       "    }\n",
       "\n",
       "    .dataframe tbody tr th {\n",
       "        vertical-align: top;\n",
       "    }\n",
       "\n",
       "    .dataframe thead th {\n",
       "        text-align: right;\n",
       "    }\n",
       "</style>\n",
       "<table border=\"1\" class=\"dataframe\">\n",
       "  <thead>\n",
       "    <tr style=\"text-align: right;\">\n",
       "      <th></th>\n",
       "      <th>NO_MUNICIPIO_RESIDENCIA</th>\n",
       "      <th>capital_or_not</th>\n",
       "    </tr>\n",
       "  </thead>\n",
       "  <tbody>\n",
       "    <tr>\n",
       "      <th>1</th>\n",
       "      <td>São João dos Patos</td>\n",
       "      <td>0</td>\n",
       "    </tr>\n",
       "    <tr>\n",
       "      <th>5</th>\n",
       "      <td>João Pessoa</td>\n",
       "      <td>1</td>\n",
       "    </tr>\n",
       "    <tr>\n",
       "      <th>7</th>\n",
       "      <td>Parnaíba</td>\n",
       "      <td>0</td>\n",
       "    </tr>\n",
       "    <tr>\n",
       "      <th>8</th>\n",
       "      <td>Fortaleza</td>\n",
       "      <td>1</td>\n",
       "    </tr>\n",
       "    <tr>\n",
       "      <th>9</th>\n",
       "      <td>Cuiabá</td>\n",
       "      <td>1</td>\n",
       "    </tr>\n",
       "    <tr>\n",
       "      <th>...</th>\n",
       "      <td>...</td>\n",
       "      <td>...</td>\n",
       "    </tr>\n",
       "    <tr>\n",
       "      <th>99994</th>\n",
       "      <td>São Paulo</td>\n",
       "      <td>1</td>\n",
       "    </tr>\n",
       "    <tr>\n",
       "      <th>99995</th>\n",
       "      <td>Sertãozinho</td>\n",
       "      <td>0</td>\n",
       "    </tr>\n",
       "    <tr>\n",
       "      <th>99996</th>\n",
       "      <td>Teresina</td>\n",
       "      <td>1</td>\n",
       "    </tr>\n",
       "    <tr>\n",
       "      <th>99997</th>\n",
       "      <td>São Luís</td>\n",
       "      <td>1</td>\n",
       "    </tr>\n",
       "    <tr>\n",
       "      <th>99999</th>\n",
       "      <td>Patos</td>\n",
       "      <td>0</td>\n",
       "    </tr>\n",
       "  </tbody>\n",
       "</table>\n",
       "<p>71890 rows × 2 columns</p>\n",
       "</div>"
      ],
      "text/plain": [
       "      NO_MUNICIPIO_RESIDENCIA  capital_or_not\n",
       "1          São João dos Patos               0\n",
       "5                 João Pessoa               1\n",
       "7                    Parnaíba               0\n",
       "8                   Fortaleza               1\n",
       "9                      Cuiabá               1\n",
       "...                       ...             ...\n",
       "99994               São Paulo               1\n",
       "99995             Sertãozinho               0\n",
       "99996                Teresina               1\n",
       "99997                São Luís               1\n",
       "99999                   Patos               0\n",
       "\n",
       "[71890 rows x 2 columns]"
      ]
     },
     "execution_count": 19,
     "metadata": {},
     "output_type": "execute_result"
    }
   ],
   "source": [
    "## Creating the capital information\n",
    "\n",
    "state_capitals = ['Rio Branco', 'Macapá', 'Manaus', 'Belém', 'Porto Velho', 'Boa Vista', 'Palmas', 'Maceió', 'Salvador', 'Fortaleza',\n",
    "               'São Luís', 'João Pessoa', 'Recife', 'Teresina', 'Natal', 'Aracaju', 'Goiânia', 'Cuiabá', 'Campo Grande', 'Brasília',\n",
    "               'Vitória', 'Belo Horizonte', 'São Paulo', 'Rio de Janeiro', 'Curitiba', 'Porto Alegre', 'Florianópolis']\n",
    "\n",
    "df2018['capital_or_not'] = df2018['NO_MUNICIPIO_RESIDENCIA'].isin(state_capitals)\n",
    "df2018['capital_or_not'] = df2018['capital_or_not'].apply(lambda row : 1 if row == True else 0)\n",
    "\n",
    "df2018[['NO_MUNICIPIO_RESIDENCIA', 'capital_or_not']]\n",
    "\n",
    "#df2018 = df2018.drop(columns = ['NO_MUNICIPIO_RESIDENCIA'])"
   ]
  },
  {
   "cell_type": "code",
   "execution_count": 20,
   "metadata": {},
   "outputs": [
    {
     "data": {
      "text/html": [
       "<div>\n",
       "<style scoped>\n",
       "    .dataframe tbody tr th:only-of-type {\n",
       "        vertical-align: middle;\n",
       "    }\n",
       "\n",
       "    .dataframe tbody tr th {\n",
       "        vertical-align: top;\n",
       "    }\n",
       "\n",
       "    .dataframe thead th {\n",
       "        text-align: right;\n",
       "    }\n",
       "</style>\n",
       "<table border=\"1\" class=\"dataframe\">\n",
       "  <thead>\n",
       "    <tr style=\"text-align: right;\">\n",
       "      <th></th>\n",
       "      <th>single_or_not</th>\n",
       "      <th>TP_ESTADO_CIVIL</th>\n",
       "    </tr>\n",
       "  </thead>\n",
       "  <tbody>\n",
       "    <tr>\n",
       "      <th>1</th>\n",
       "      <td>1</td>\n",
       "      <td>0.00</td>\n",
       "    </tr>\n",
       "    <tr>\n",
       "      <th>5</th>\n",
       "      <td>1</td>\n",
       "      <td>0.00</td>\n",
       "    </tr>\n",
       "    <tr>\n",
       "      <th>7</th>\n",
       "      <td>0</td>\n",
       "      <td>1.00</td>\n",
       "    </tr>\n",
       "    <tr>\n",
       "      <th>8</th>\n",
       "      <td>1</td>\n",
       "      <td>0.00</td>\n",
       "    </tr>\n",
       "    <tr>\n",
       "      <th>9</th>\n",
       "      <td>1</td>\n",
       "      <td>0.00</td>\n",
       "    </tr>\n",
       "    <tr>\n",
       "      <th>12</th>\n",
       "      <td>1</td>\n",
       "      <td>0.00</td>\n",
       "    </tr>\n",
       "    <tr>\n",
       "      <th>13</th>\n",
       "      <td>1</td>\n",
       "      <td>0.00</td>\n",
       "    </tr>\n",
       "    <tr>\n",
       "      <th>16</th>\n",
       "      <td>1</td>\n",
       "      <td>0.00</td>\n",
       "    </tr>\n",
       "    <tr>\n",
       "      <th>17</th>\n",
       "      <td>1</td>\n",
       "      <td>0.00</td>\n",
       "    </tr>\n",
       "    <tr>\n",
       "      <th>18</th>\n",
       "      <td>1</td>\n",
       "      <td>0.00</td>\n",
       "    </tr>\n",
       "  </tbody>\n",
       "</table>\n",
       "</div>"
      ],
      "text/plain": [
       "    single_or_not  TP_ESTADO_CIVIL\n",
       "1               1             0.00\n",
       "5               1             0.00\n",
       "7               0             1.00\n",
       "8               1             0.00\n",
       "9               1             0.00\n",
       "12              1             0.00\n",
       "13              1             0.00\n",
       "16              1             0.00\n",
       "17              1             0.00\n",
       "18              1             0.00"
      ]
     },
     "execution_count": 20,
     "metadata": {},
     "output_type": "execute_result"
    }
   ],
   "source": [
    "df2018['single_or_not'] = df2018['TP_ESTADO_CIVIL'].apply(lambda row: 1 if row ==  0 else 0)\n",
    "\n",
    "df2018[['single_or_not','TP_ESTADO_CIVIL']].head(10)"
   ]
  },
  {
   "cell_type": "markdown",
   "metadata": {},
   "source": [
    "## Recap the plan\n",
    "\n",
    "The main idea of this project is to show how relevant social status is in the development of someone.\n",
    "Unfortunately Brazil doesn't have, in general, good public schools (apart from the federal ones, which\n",
    "are quite good indeed, but you access them from a test, and again we fall in the same pit, if you have\n",
    "money you can pay for preparatory courses or just good private schools). So the main idea was to developed\n",
    "a regressor which can predict grades based on social information. But I am not particularly specifically\n",
    "on the grades, I could make a classification problem and specify some ranges, for example, if someone is\n",
    "above or below the average of an specific grade.\n",
    "\n",
    "In attempt to do so, let's create 5 columns which are going to be our target variable turning it into\n",
    "a classification problem."
   ]
  },
  {
   "cell_type": "code",
   "execution_count": 21,
   "metadata": {},
   "outputs": [],
   "source": [
    "avg_cn = round(df2018.NU_NOTA_CN.mean())\n",
    "avg_ch = round(df2018.NU_NOTA_CH.mean())\n",
    "avg_lc = round(df2018.NU_NOTA_LC.mean())\n",
    "avg_mt = round(df2018.NU_NOTA_MT.mean())\n",
    "avg_red = round(df2018.NU_NOTA_REDACAO.mean())\n",
    "\n",
    "## Creating the columns for above or below the mean for each subject\n",
    "\n",
    "df2018_clf = df2018.copy()\n",
    "df2018_clf = df2018_clf[df2018_clf.Q026 != 1]\n",
    "df2018_clf['above_below_avg_cn'] = df2018_clf['NU_NOTA_CN'].apply(lambda row: 0 if row < avg_cn else 1)\n",
    "df2018_clf['above_below_avg_ch'] = df2018_clf['NU_NOTA_CH'].apply(lambda row: 0 if row < avg_ch else 1)\n",
    "df2018_clf['above_below_avg_lc'] = df2018_clf['NU_NOTA_LC'].apply(lambda row: 0 if row < avg_lc else 1)\n",
    "df2018_clf['above_below_avg_mt'] = df2018_clf['NU_NOTA_MT'].apply(lambda row: 0 if row < avg_mt else 1)\n",
    "df2018_clf['above_below_avg_red'] = df2018_clf['NU_NOTA_REDACAO'].apply(lambda row: 0 if row < avg_red else 1)"
   ]
  },
  {
   "cell_type": "code",
   "execution_count": 22,
   "metadata": {},
   "outputs": [
    {
     "name": "stdout",
     "output_type": "stream",
     "text": [
      "499\n"
     ]
    },
    {
     "data": {
      "text/html": [
       "<div>\n",
       "<style scoped>\n",
       "    .dataframe tbody tr th:only-of-type {\n",
       "        vertical-align: middle;\n",
       "    }\n",
       "\n",
       "    .dataframe tbody tr th {\n",
       "        vertical-align: top;\n",
       "    }\n",
       "\n",
       "    .dataframe thead th {\n",
       "        text-align: right;\n",
       "    }\n",
       "</style>\n",
       "<table border=\"1\" class=\"dataframe\">\n",
       "  <thead>\n",
       "    <tr style=\"text-align: right;\">\n",
       "      <th></th>\n",
       "      <th>above_below_avg_cn</th>\n",
       "      <th>NU_NOTA_CN</th>\n",
       "    </tr>\n",
       "  </thead>\n",
       "  <tbody>\n",
       "    <tr>\n",
       "      <th>1</th>\n",
       "      <td>1</td>\n",
       "      <td>521.00</td>\n",
       "    </tr>\n",
       "    <tr>\n",
       "      <th>5</th>\n",
       "      <td>0</td>\n",
       "      <td>461.80</td>\n",
       "    </tr>\n",
       "    <tr>\n",
       "      <th>7</th>\n",
       "      <td>1</td>\n",
       "      <td>499.30</td>\n",
       "    </tr>\n",
       "    <tr>\n",
       "      <th>8</th>\n",
       "      <td>0</td>\n",
       "      <td>411.80</td>\n",
       "    </tr>\n",
       "    <tr>\n",
       "      <th>9</th>\n",
       "      <td>0</td>\n",
       "      <td>469.40</td>\n",
       "    </tr>\n",
       "    <tr>\n",
       "      <th>12</th>\n",
       "      <td>0</td>\n",
       "      <td>467.40</td>\n",
       "    </tr>\n",
       "    <tr>\n",
       "      <th>13</th>\n",
       "      <td>1</td>\n",
       "      <td>625.50</td>\n",
       "    </tr>\n",
       "    <tr>\n",
       "      <th>16</th>\n",
       "      <td>0</td>\n",
       "      <td>478.50</td>\n",
       "    </tr>\n",
       "    <tr>\n",
       "      <th>17</th>\n",
       "      <td>1</td>\n",
       "      <td>521.80</td>\n",
       "    </tr>\n",
       "    <tr>\n",
       "      <th>18</th>\n",
       "      <td>0</td>\n",
       "      <td>397.70</td>\n",
       "    </tr>\n",
       "  </tbody>\n",
       "</table>\n",
       "</div>"
      ],
      "text/plain": [
       "    above_below_avg_cn  NU_NOTA_CN\n",
       "1                    1      521.00\n",
       "5                    0      461.80\n",
       "7                    1      499.30\n",
       "8                    0      411.80\n",
       "9                    0      469.40\n",
       "12                   0      467.40\n",
       "13                   1      625.50\n",
       "16                   0      478.50\n",
       "17                   1      521.80\n",
       "18                   0      397.70"
      ]
     },
     "execution_count": 22,
     "metadata": {},
     "output_type": "execute_result"
    }
   ],
   "source": [
    "## Let's check that it is working properly\n",
    "\n",
    "print(avg_cn)\n",
    "\n",
    "df2018_clf[['above_below_avg_cn', 'NU_NOTA_CN']].head(10)"
   ]
  },
  {
   "cell_type": "code",
   "execution_count": 23,
   "metadata": {},
   "outputs": [],
   "source": [
    "## Dropping the scores per se and keeping only the above_below avg\n",
    "\n",
    "df2018_clf = df2018_clf.drop(columns = ['NU_NOTA_CN', 'NU_NOTA_CH', 'NU_NOTA_LC', 'NU_NOTA_MT', 'NU_NOTA_REDACAO'])"
   ]
  },
  {
   "cell_type": "markdown",
   "metadata": {},
   "source": [
    "## Final checks\n",
    "\n",
    "Verifying all the columns and looking for some redundancy\n",
    "and identifying those which will be  categorical"
   ]
  },
  {
   "cell_type": "code",
   "execution_count": 24,
   "metadata": {},
   "outputs": [
    {
     "data": {
      "text/plain": [
       "Index(['NO_MUNICIPIO_RESIDENCIA', 'SG_UF_RESIDENCIA', 'NU_IDADE', 'TP_SEXO',\n",
       "       'TP_ESTADO_CIVIL', 'TP_COR_RACA', 'TP_ST_CONCLUSAO', 'TP_ANO_CONCLUIU',\n",
       "       'TP_ESCOLA', 'TP_ENSINO', 'IN_TREINEIRO', 'IN_BAIXA_VISAO',\n",
       "       'IN_CEGUEIRA', 'IN_SURDEZ', 'IN_DEFICIENCIA_AUDITIVA',\n",
       "       'IN_SURDO_CEGUEIRA', 'IN_DEFICIENCIA_FISICA', 'IN_DEFICIENCIA_MENTAL',\n",
       "       'IN_DEFICIT_ATENCAO', 'IN_DISLEXIA', 'IN_DISCALCULIA', 'IN_AUTISMO',\n",
       "       'IN_VISAO_MONOCULAR', 'IN_OUTRA_DEF', 'IN_GESTANTE', 'IN_LACTANTE',\n",
       "       'IN_IDOSO', 'IN_ESTUDA_CLASSE_HOSPITALAR', 'IN_SEM_RECURSO',\n",
       "       'IN_BRAILLE', 'IN_AMPLIADA_24', 'IN_AMPLIADA_18', 'IN_LEDOR',\n",
       "       'IN_ACESSO', 'IN_TRANSCRICAO', 'IN_LIBRAS', 'IN_LEITURA_LABIAL',\n",
       "       'IN_MESA_CADEIRA_RODAS', 'IN_MESA_CADEIRA_SEPARADA', 'IN_APOIO_PERNA',\n",
       "       'IN_GUIA_INTERPRETE', 'IN_COMPUTADOR', 'IN_CADEIRA_ESPECIAL',\n",
       "       'IN_CADEIRA_CANHOTO', 'IN_CADEIRA_ACOLCHOADA', 'IN_PROVA_DEITADO',\n",
       "       'IN_MOBILIARIO_OBESO', 'IN_LAMINA_OVERLAY', 'IN_PROTETOR_AURICULAR',\n",
       "       'IN_MEDIDOR_GLICOSE', 'IN_MAQUINA_BRAILE', 'IN_SOROBAN',\n",
       "       'IN_MARCA_PASSO', 'IN_SONDA', 'IN_MEDICAMENTOS', 'IN_SALA_INDIVIDUAL',\n",
       "       'IN_SALA_ESPECIAL', 'IN_SALA_ACOMPANHANTE', 'IN_MOBILIARIO_ESPECIFICO',\n",
       "       'IN_MATERIAL_ESPECIFICO', 'IN_NOME_SOCIAL', 'CO_MUNICIPIO_PROVA',\n",
       "       'NO_MUNICIPIO_PROVA', 'CO_UF_PROVA', 'SG_UF_PROVA', 'TP_LINGUA', 'Q001',\n",
       "       'Q002', 'Q003', 'Q004', 'Q005', 'Q006', 'Q007', 'Q008', 'Q009', 'Q010',\n",
       "       'Q011', 'Q012', 'Q013', 'Q014', 'Q015', 'Q016', 'Q017', 'Q018', 'Q019',\n",
       "       'Q020', 'Q021', 'Q022', 'Q023', 'Q024', 'Q025', 'Q026', 'Q027',\n",
       "       'capital_or_not', 'single_or_not', 'above_below_avg_cn',\n",
       "       'above_below_avg_ch', 'above_below_avg_lc', 'above_below_avg_mt',\n",
       "       'above_below_avg_red'],\n",
       "      dtype='object')"
      ]
     },
     "execution_count": 24,
     "metadata": {},
     "output_type": "execute_result"
    }
   ],
   "source": [
    "## for most people the columns  cols remove are redundant to those that people leave., let's drop them\n",
    "cols_remove = ['CO_MUNICIPIO_PROVA', 'NO_MUNICIPIO_PROVA', 'CO_UF_PROVA', 'SG_UF_PROVA']\n",
    "\n",
    "df2018_clf.columns"
   ]
  },
  {
   "cell_type": "code",
   "execution_count": 25,
   "metadata": {},
   "outputs": [],
   "source": [
    "df2018_clf.drop(columns = cols_remove, inplace = True)"
   ]
  },
  {
   "cell_type": "markdown",
   "metadata": {},
   "source": [
    "## Arranging the ordered categorical features\n",
    "\n",
    "Q001 and Q002 corresponds to the parents education level, father and mother, respectively. Despite of not being a direct correspondence, those which achieve a higher level of education tend to have a better chance to haver higher salaries and all that we have already discussed. Let's then set a numerical order to them"
   ]
  },
  {
   "cell_type": "code",
   "execution_count": 57,
   "metadata": {},
   "outputs": [],
   "source": [
    "Q1_Q2 = {'A' : 0, 'B' : 1, 'C' : 2, 'D' : 3, 'E' : 4, 'F' : 5, 'G' : 6, 'H' : -999}\n",
    "\n",
    "#A CORRESPONDS TO NEVER STUDIED AND H CORRESPONDS TO THOSE WHICH DOESN'T HAVE THE INFORMATION\n",
    "\n",
    "## Making the transformation\n",
    "df2018_clf['Q001'] = df2018_clf['Q001'].apply(lambda row : Q1_Q2[row])\n",
    "df2018_clf['Q002'] = df2018_clf['Q002'].apply(lambda row : Q1_Q2[row])"
   ]
  },
  {
   "cell_type": "markdown",
   "metadata": {},
   "source": [
    "Q003 and Q004 correspond to the job of father and mother, respectively.\n",
    "Again, despite of having a direct connection, these classes also correspond\n",
    "to some \"order\" in the \"social ladder\". For example, the drivers are in group\n",
    "C and the owners of small stores/entreprenour with less than 10 employees are\n",
    "in group D. As the former, if you are a driver of a celebrity or of a politician,\n",
    "you might have a very high salary, even being better paid than some medics or high-rank\n",
    "officers, however, that is not generally the case. Also, to what concerns the group\n",
    "D, you were an owner of a loto store 10-15 years ago you would earn per month\n",
    "*way more* than the vast majority of medics, engineers and all the carreers in group E.\n",
    "\n",
    "Since it seems like a \"rule\" let's stick with our plan of analyzing it with certain\n",
    "order."
   ]
  },
  {
   "cell_type": "code",
   "execution_count": 58,
   "metadata": {},
   "outputs": [],
   "source": [
    "Q3_Q4 = {'A' : 1, 'B' : 2, 'C' : 3, 'D' : 4, 'E' : 5, 'F' : -999}\n",
    "\n",
    "# WHERE F CORRESPONDS TO THOSE WHICH DO NOT KNOW\n",
    "\n",
    "## Making the transformation\n",
    "df2018_clf['Q003'] = df2018_clf['Q003'].apply(lambda row : Q3_Q4[row])\n",
    "df2018_clf['Q004'] = df2018_clf['Q004'].apply(lambda row : Q3_Q4[row])"
   ]
  },
  {
   "cell_type": "markdown",
   "metadata": {},
   "source": [
    "We are basically transforming the Q001-Q004 to ordering-categorical data\n",
    "Q005 is a non-categorical data\n",
    "\n",
    "Q006 is about family income, Q007 is about if you have a housekeeper working\n",
    "at your place and how many days. Again, let's set some ordering to them"
   ]
  },
  {
   "cell_type": "code",
   "execution_count": 59,
   "metadata": {},
   "outputs": [],
   "source": [
    "Q6_Q7 = {'A' : 0, 'B' : 1, 'C' : 2, 'D' : 3, 'E' : 4, 'F' : 5, 'G' : 6, 'H' : 7,\n",
    "         'I' : 8, 'J' : 9, 'K' : 10, 'L' : 11, 'M' : 12, 'N' : 13, 'O' : 14, 'P' : 15, 'Q' : 16}\n",
    "\n",
    "# Q006 A CORRESPONDS TO NO INCOME, Q007 CORRESPONDS TO NO HOUSEKEEPER.\n",
    "\n",
    "## Making the transformation\n",
    "df2018_clf['Q006'] = df2018_clf['Q006'].apply(lambda row : Q6_Q7[row])\n",
    "df2018_clf['Q007'] = df2018_clf['Q007'].apply(lambda row : Q6_Q7[row])"
   ]
  },
  {
   "cell_type": "markdown",
   "metadata": {},
   "source": [
    "From Q008 to Q0017 all the questions are regarding to number of rooms,\n",
    "number of bathrooms, etc... in the house. So it also has an ordering in it,\n",
    "so let's stick to the plan and also convert them"
   ]
  },
  {
   "cell_type": "code",
   "execution_count": 60,
   "metadata": {},
   "outputs": [],
   "source": [
    "df2018_clf['Q008'] = df2018_clf['Q008'].apply(lambda row : Q6_Q7[row])\n",
    "df2018_clf['Q009'] = df2018_clf['Q009'].apply(lambda row : Q6_Q7[row])\n",
    "df2018_clf['Q010'] = df2018_clf['Q010'].apply(lambda row : Q6_Q7[row])\n",
    "df2018_clf['Q011'] = df2018_clf['Q011'].apply(lambda row : Q6_Q7[row])\n",
    "df2018_clf['Q012'] = df2018_clf['Q012'].apply(lambda row : Q6_Q7[row])\n",
    "df2018_clf['Q013'] = df2018_clf['Q013'].apply(lambda row : Q6_Q7[row])\n",
    "df2018_clf['Q014'] = df2018_clf['Q014'].apply(lambda row : Q6_Q7[row])\n",
    "df2018_clf['Q015'] = df2018_clf['Q015'].apply(lambda row : Q6_Q7[row])\n",
    "df2018_clf['Q016'] = df2018_clf['Q016'].apply(lambda row : Q6_Q7[row])\n",
    "df2018_clf['Q017'] = df2018_clf['Q017'].apply(lambda row : Q6_Q7[row])"
   ]
  },
  {
   "cell_type": "markdown",
   "metadata": {},
   "source": [
    "From Q018 to Q015 it is basically yes-no question about\n",
    "having TV or not, having internet access or not, so we can\n",
    "also do the same."
   ]
  },
  {
   "cell_type": "code",
   "execution_count": 61,
   "metadata": {},
   "outputs": [],
   "source": [
    "df2018_clf['Q018'] = df2018_clf['Q018'].apply(lambda row : Q6_Q7[row])\n",
    "df2018_clf['Q019'] = df2018_clf['Q019'].apply(lambda row : Q6_Q7[row])\n",
    "df2018_clf['Q020'] = df2018_clf['Q020'].apply(lambda row : Q6_Q7[row])\n",
    "df2018_clf['Q021'] = df2018_clf['Q021'].apply(lambda row : Q6_Q7[row])\n",
    "df2018_clf['Q022'] = df2018_clf['Q022'].apply(lambda row : Q6_Q7[row])\n",
    "df2018_clf['Q023'] = df2018_clf['Q023'].apply(lambda row : Q6_Q7[row])\n",
    "df2018_clf['Q024'] = df2018_clf['Q024'].apply(lambda row : Q6_Q7[row])\n",
    "df2018_clf['Q025'] = df2018_clf['Q025'].apply(lambda row : Q6_Q7[row])"
   ]
  },
  {
   "cell_type": "markdown",
   "metadata": {},
   "source": [
    "Q026 and Q027 could have some ordering if we have more\n",
    "information about them, so let's keep them as they are.\n",
    "\n",
    "## Partial conclusion\n",
    "\n",
    "To sum up, among all the 27 questions the only ones which didn't\n",
    "have an order involved are Q026 and Q027. Consequently,\n",
    "in the next LabelEncoder() all other questions will skept but Q026 and Q027.\n",
    "\n",
    "Taking a closer look on the data, we also see that the column \"TP_ANO_CONCLUIU\"\n",
    "also brings some ordering in it. It tells the year the the applicant finished\n",
    "his highschool. 0 corresponds to \"didn't answer\", 1 corresponds \"finish in the\n",
    "year of the exam\", 2 \"previous year\", so it has some ordering indeed.\n",
    "However, 0 didn't have any directly connect to the other, therefore, lets set\n",
    "it to -999"
   ]
  },
  {
   "cell_type": "code",
   "execution_count": 73,
   "metadata": {},
   "outputs": [
    {
     "name": "stdout",
     "output_type": "stream",
     "text": [
      "['Q001', 'Q002', 'Q003', 'Q004', 'Q005', 'Q006', 'Q007', 'Q008', 'Q009', 'Q010', 'Q011', 'Q012', 'Q013', 'Q014', 'Q015', 'Q016', 'Q017', 'Q018', 'Q019', 'Q020', 'Q021', 'Q022', 'Q023', 'Q024', 'Q025', 'NU_IDADE', 'TP_ANO_CONCLUIU']\n"
     ]
    }
   ],
   "source": [
    "## correcting the TP_ANO_CONCLUIU column\n",
    "\n",
    "df2018_clf['TP_ANO_CONCLUIU'] = df2018_clf['TP_ANO_CONCLUIU'].apply(lambda row : -999 if row == 0 else row)\n",
    "\n",
    "#print(X['TP_ANO_CONCLUIU'].unique())\n",
    "\n",
    "cols_questions = list(df2018_clf.columns[-34: -9])\n",
    "\n",
    "cols = cols_questions + ['NU_IDADE','TP_ANO_CONCLUIU']\n",
    "\n",
    "print(cols)"
   ]
  },
  {
   "cell_type": "code",
   "execution_count": 74,
   "metadata": {},
   "outputs": [],
   "source": [
    "#X.loc[:, X.columns != cols] = X.loc[:, X.columns != cols].apply(LabelEncoder().fit_transform)\n",
    "\n",
    "#X.head()\n",
    "\n",
    "df2018_clf[df2018_clf.columns.difference(cols)] = df2018_clf[df2018_clf.columns.difference(cols)].apply(LabelEncoder().fit_transform)"
   ]
  },
  {
   "cell_type": "code",
   "execution_count": 75,
   "metadata": {},
   "outputs": [],
   "source": [
    "cols = ['above_below_avg_cn', 'above_below_avg_ch', 'above_below_avg_lc', 'above_below_avg_mt', 'above_below_avg_red']\n",
    "\n",
    "X = df2018_clf.drop(columns = cols).copy()\n",
    "\n",
    "y_cn = df2018_clf[cols[0]].copy()\n",
    "y_ch = df2018_clf[cols[1]].copy()\n",
    "y_lc = df2018_clf[cols[2]].copy()\n",
    "y_mt = df2018_clf[cols[3]].copy()\n",
    "y_red = df2018_clf[cols[4]].copy()"
   ]
  },
  {
   "cell_type": "code",
   "execution_count": 77,
   "metadata": {},
   "outputs": [],
   "source": [
    "#Dropping the NO_MUNICIPIO_RESIDENCIA since it would include too much variables after OHE\n",
    "\n",
    "X = X.drop(columns = ['NO_MUNICIPIO_RESIDENCIA'])"
   ]
  },
  {
   "cell_type": "code",
   "execution_count": 93,
   "metadata": {},
   "outputs": [
    {
     "data": {
      "text/html": [
       "<div>\n",
       "<style scoped>\n",
       "    .dataframe tbody tr th:only-of-type {\n",
       "        vertical-align: middle;\n",
       "    }\n",
       "\n",
       "    .dataframe tbody tr th {\n",
       "        vertical-align: top;\n",
       "    }\n",
       "\n",
       "    .dataframe thead th {\n",
       "        text-align: right;\n",
       "    }\n",
       "</style>\n",
       "<table border=\"1\" class=\"dataframe\">\n",
       "  <thead>\n",
       "    <tr style=\"text-align: right;\">\n",
       "      <th></th>\n",
       "      <th>NU_IDADE</th>\n",
       "      <th>TP_SEXO</th>\n",
       "      <th>TP_ANO_CONCLUIU</th>\n",
       "      <th>IN_TREINEIRO</th>\n",
       "      <th>IN_BAIXA_VISAO</th>\n",
       "      <th>IN_CEGUEIRA</th>\n",
       "      <th>IN_SURDEZ</th>\n",
       "      <th>IN_DEFICIENCIA_AUDITIVA</th>\n",
       "      <th>IN_SURDO_CEGUEIRA</th>\n",
       "      <th>IN_DEFICIENCIA_FISICA</th>\n",
       "      <th>...</th>\n",
       "      <th>TP_ST_CONCLUSAO_1</th>\n",
       "      <th>TP_ST_CONCLUSAO_2</th>\n",
       "      <th>TP_ST_CONCLUSAO_3</th>\n",
       "      <th>TP_ESCOLA_0</th>\n",
       "      <th>TP_ESCOLA_1</th>\n",
       "      <th>TP_ESCOLA_2</th>\n",
       "      <th>TP_ESCOLA_3</th>\n",
       "      <th>TP_ENSINO_0</th>\n",
       "      <th>TP_ENSINO_1</th>\n",
       "      <th>TP_ENSINO_2</th>\n",
       "    </tr>\n",
       "  </thead>\n",
       "  <tbody>\n",
       "    <tr>\n",
       "      <th>1</th>\n",
       "      <td>23.00</td>\n",
       "      <td>0</td>\n",
       "      <td>5</td>\n",
       "      <td>0</td>\n",
       "      <td>0</td>\n",
       "      <td>0</td>\n",
       "      <td>0</td>\n",
       "      <td>0</td>\n",
       "      <td>0</td>\n",
       "      <td>0</td>\n",
       "      <td>...</td>\n",
       "      <td>0</td>\n",
       "      <td>0</td>\n",
       "      <td>0</td>\n",
       "      <td>1</td>\n",
       "      <td>0</td>\n",
       "      <td>0</td>\n",
       "      <td>0</td>\n",
       "      <td>1</td>\n",
       "      <td>0</td>\n",
       "      <td>0</td>\n",
       "    </tr>\n",
       "    <tr>\n",
       "      <th>5</th>\n",
       "      <td>23.00</td>\n",
       "      <td>0</td>\n",
       "      <td>5</td>\n",
       "      <td>0</td>\n",
       "      <td>0</td>\n",
       "      <td>0</td>\n",
       "      <td>0</td>\n",
       "      <td>0</td>\n",
       "      <td>0</td>\n",
       "      <td>0</td>\n",
       "      <td>...</td>\n",
       "      <td>0</td>\n",
       "      <td>0</td>\n",
       "      <td>0</td>\n",
       "      <td>1</td>\n",
       "      <td>0</td>\n",
       "      <td>0</td>\n",
       "      <td>0</td>\n",
       "      <td>1</td>\n",
       "      <td>0</td>\n",
       "      <td>0</td>\n",
       "    </tr>\n",
       "    <tr>\n",
       "      <th>7</th>\n",
       "      <td>39.00</td>\n",
       "      <td>1</td>\n",
       "      <td>12</td>\n",
       "      <td>0</td>\n",
       "      <td>0</td>\n",
       "      <td>0</td>\n",
       "      <td>0</td>\n",
       "      <td>0</td>\n",
       "      <td>0</td>\n",
       "      <td>0</td>\n",
       "      <td>...</td>\n",
       "      <td>0</td>\n",
       "      <td>0</td>\n",
       "      <td>0</td>\n",
       "      <td>1</td>\n",
       "      <td>0</td>\n",
       "      <td>0</td>\n",
       "      <td>0</td>\n",
       "      <td>1</td>\n",
       "      <td>0</td>\n",
       "      <td>0</td>\n",
       "    </tr>\n",
       "    <tr>\n",
       "      <th>8</th>\n",
       "      <td>19.00</td>\n",
       "      <td>1</td>\n",
       "      <td>-999</td>\n",
       "      <td>0</td>\n",
       "      <td>0</td>\n",
       "      <td>0</td>\n",
       "      <td>0</td>\n",
       "      <td>0</td>\n",
       "      <td>0</td>\n",
       "      <td>0</td>\n",
       "      <td>...</td>\n",
       "      <td>1</td>\n",
       "      <td>0</td>\n",
       "      <td>0</td>\n",
       "      <td>0</td>\n",
       "      <td>1</td>\n",
       "      <td>0</td>\n",
       "      <td>0</td>\n",
       "      <td>1</td>\n",
       "      <td>0</td>\n",
       "      <td>0</td>\n",
       "    </tr>\n",
       "    <tr>\n",
       "      <th>9</th>\n",
       "      <td>25.00</td>\n",
       "      <td>0</td>\n",
       "      <td>9</td>\n",
       "      <td>0</td>\n",
       "      <td>0</td>\n",
       "      <td>0</td>\n",
       "      <td>0</td>\n",
       "      <td>0</td>\n",
       "      <td>0</td>\n",
       "      <td>0</td>\n",
       "      <td>...</td>\n",
       "      <td>0</td>\n",
       "      <td>0</td>\n",
       "      <td>0</td>\n",
       "      <td>1</td>\n",
       "      <td>0</td>\n",
       "      <td>0</td>\n",
       "      <td>0</td>\n",
       "      <td>1</td>\n",
       "      <td>0</td>\n",
       "      <td>0</td>\n",
       "    </tr>\n",
       "    <tr>\n",
       "      <th>...</th>\n",
       "      <td>...</td>\n",
       "      <td>...</td>\n",
       "      <td>...</td>\n",
       "      <td>...</td>\n",
       "      <td>...</td>\n",
       "      <td>...</td>\n",
       "      <td>...</td>\n",
       "      <td>...</td>\n",
       "      <td>...</td>\n",
       "      <td>...</td>\n",
       "      <td>...</td>\n",
       "      <td>...</td>\n",
       "      <td>...</td>\n",
       "      <td>...</td>\n",
       "      <td>...</td>\n",
       "      <td>...</td>\n",
       "      <td>...</td>\n",
       "      <td>...</td>\n",
       "      <td>...</td>\n",
       "      <td>...</td>\n",
       "      <td>...</td>\n",
       "    </tr>\n",
       "    <tr>\n",
       "      <th>99994</th>\n",
       "      <td>17.00</td>\n",
       "      <td>0</td>\n",
       "      <td>-999</td>\n",
       "      <td>0</td>\n",
       "      <td>0</td>\n",
       "      <td>0</td>\n",
       "      <td>0</td>\n",
       "      <td>0</td>\n",
       "      <td>0</td>\n",
       "      <td>0</td>\n",
       "      <td>...</td>\n",
       "      <td>1</td>\n",
       "      <td>0</td>\n",
       "      <td>0</td>\n",
       "      <td>0</td>\n",
       "      <td>0</td>\n",
       "      <td>0</td>\n",
       "      <td>1</td>\n",
       "      <td>1</td>\n",
       "      <td>0</td>\n",
       "      <td>0</td>\n",
       "    </tr>\n",
       "    <tr>\n",
       "      <th>99995</th>\n",
       "      <td>24.00</td>\n",
       "      <td>0</td>\n",
       "      <td>5</td>\n",
       "      <td>0</td>\n",
       "      <td>0</td>\n",
       "      <td>0</td>\n",
       "      <td>0</td>\n",
       "      <td>0</td>\n",
       "      <td>0</td>\n",
       "      <td>0</td>\n",
       "      <td>...</td>\n",
       "      <td>0</td>\n",
       "      <td>0</td>\n",
       "      <td>0</td>\n",
       "      <td>1</td>\n",
       "      <td>0</td>\n",
       "      <td>0</td>\n",
       "      <td>0</td>\n",
       "      <td>1</td>\n",
       "      <td>0</td>\n",
       "      <td>0</td>\n",
       "    </tr>\n",
       "    <tr>\n",
       "      <th>99996</th>\n",
       "      <td>19.00</td>\n",
       "      <td>1</td>\n",
       "      <td>1</td>\n",
       "      <td>0</td>\n",
       "      <td>0</td>\n",
       "      <td>0</td>\n",
       "      <td>0</td>\n",
       "      <td>0</td>\n",
       "      <td>0</td>\n",
       "      <td>0</td>\n",
       "      <td>...</td>\n",
       "      <td>0</td>\n",
       "      <td>0</td>\n",
       "      <td>0</td>\n",
       "      <td>1</td>\n",
       "      <td>0</td>\n",
       "      <td>0</td>\n",
       "      <td>0</td>\n",
       "      <td>1</td>\n",
       "      <td>0</td>\n",
       "      <td>0</td>\n",
       "    </tr>\n",
       "    <tr>\n",
       "      <th>99997</th>\n",
       "      <td>17.00</td>\n",
       "      <td>0</td>\n",
       "      <td>-999</td>\n",
       "      <td>0</td>\n",
       "      <td>0</td>\n",
       "      <td>0</td>\n",
       "      <td>0</td>\n",
       "      <td>0</td>\n",
       "      <td>0</td>\n",
       "      <td>0</td>\n",
       "      <td>...</td>\n",
       "      <td>1</td>\n",
       "      <td>0</td>\n",
       "      <td>0</td>\n",
       "      <td>0</td>\n",
       "      <td>0</td>\n",
       "      <td>0</td>\n",
       "      <td>1</td>\n",
       "      <td>1</td>\n",
       "      <td>0</td>\n",
       "      <td>0</td>\n",
       "    </tr>\n",
       "    <tr>\n",
       "      <th>99999</th>\n",
       "      <td>17.00</td>\n",
       "      <td>1</td>\n",
       "      <td>-999</td>\n",
       "      <td>0</td>\n",
       "      <td>0</td>\n",
       "      <td>0</td>\n",
       "      <td>0</td>\n",
       "      <td>0</td>\n",
       "      <td>0</td>\n",
       "      <td>0</td>\n",
       "      <td>...</td>\n",
       "      <td>1</td>\n",
       "      <td>0</td>\n",
       "      <td>0</td>\n",
       "      <td>0</td>\n",
       "      <td>1</td>\n",
       "      <td>0</td>\n",
       "      <td>0</td>\n",
       "      <td>1</td>\n",
       "      <td>0</td>\n",
       "      <td>0</td>\n",
       "    </tr>\n",
       "  </tbody>\n",
       "</table>\n",
       "<p>71890 rows × 132 columns</p>\n",
       "</div>"
      ],
      "text/plain": [
       "       NU_IDADE  TP_SEXO  TP_ANO_CONCLUIU  IN_TREINEIRO  IN_BAIXA_VISAO  \\\n",
       "1         23.00        0                5             0               0   \n",
       "5         23.00        0                5             0               0   \n",
       "7         39.00        1               12             0               0   \n",
       "8         19.00        1             -999             0               0   \n",
       "9         25.00        0                9             0               0   \n",
       "...         ...      ...              ...           ...             ...   \n",
       "99994     17.00        0             -999             0               0   \n",
       "99995     24.00        0                5             0               0   \n",
       "99996     19.00        1                1             0               0   \n",
       "99997     17.00        0             -999             0               0   \n",
       "99999     17.00        1             -999             0               0   \n",
       "\n",
       "       IN_CEGUEIRA  IN_SURDEZ  IN_DEFICIENCIA_AUDITIVA  IN_SURDO_CEGUEIRA  \\\n",
       "1                0          0                        0                  0   \n",
       "5                0          0                        0                  0   \n",
       "7                0          0                        0                  0   \n",
       "8                0          0                        0                  0   \n",
       "9                0          0                        0                  0   \n",
       "...            ...        ...                      ...                ...   \n",
       "99994            0          0                        0                  0   \n",
       "99995            0          0                        0                  0   \n",
       "99996            0          0                        0                  0   \n",
       "99997            0          0                        0                  0   \n",
       "99999            0          0                        0                  0   \n",
       "\n",
       "       IN_DEFICIENCIA_FISICA  ...  TP_ST_CONCLUSAO_1  TP_ST_CONCLUSAO_2  \\\n",
       "1                          0  ...                  0                  0   \n",
       "5                          0  ...                  0                  0   \n",
       "7                          0  ...                  0                  0   \n",
       "8                          0  ...                  1                  0   \n",
       "9                          0  ...                  0                  0   \n",
       "...                      ...  ...                ...                ...   \n",
       "99994                      0  ...                  1                  0   \n",
       "99995                      0  ...                  0                  0   \n",
       "99996                      0  ...                  0                  0   \n",
       "99997                      0  ...                  1                  0   \n",
       "99999                      0  ...                  1                  0   \n",
       "\n",
       "       TP_ST_CONCLUSAO_3  TP_ESCOLA_0  TP_ESCOLA_1  TP_ESCOLA_2  TP_ESCOLA_3  \\\n",
       "1                      0            1            0            0            0   \n",
       "5                      0            1            0            0            0   \n",
       "7                      0            1            0            0            0   \n",
       "8                      0            0            1            0            0   \n",
       "9                      0            1            0            0            0   \n",
       "...                  ...          ...          ...          ...          ...   \n",
       "99994                  0            0            0            0            1   \n",
       "99995                  0            1            0            0            0   \n",
       "99996                  0            1            0            0            0   \n",
       "99997                  0            0            0            0            1   \n",
       "99999                  0            0            1            0            0   \n",
       "\n",
       "       TP_ENSINO_0  TP_ENSINO_1  TP_ENSINO_2  \n",
       "1                1            0            0  \n",
       "5                1            0            0  \n",
       "7                1            0            0  \n",
       "8                1            0            0  \n",
       "9                1            0            0  \n",
       "...            ...          ...          ...  \n",
       "99994            1            0            0  \n",
       "99995            1            0            0  \n",
       "99996            1            0            0  \n",
       "99997            1            0            0  \n",
       "99999            1            0            0  \n",
       "\n",
       "[71890 rows x 132 columns]"
      ]
     },
     "execution_count": 93,
     "metadata": {},
     "output_type": "execute_result"
    }
   ],
   "source": [
    "cat_col = ['SG_UF_RESIDENCIA', 'TP_ESTADO_CIVIL', 'TP_COR_RACA', 'TP_ST_CONCLUSAO',\n",
    "          'TP_ESCOLA', 'TP_ENSINO']\n",
    "\n",
    "\n",
    "X_ohe = pd.get_dummies(X[cat_col], columns = cat_col)\n",
    "\n",
    "X_ohe = pd.concat([X.drop(columns = cat_col), X_ohe], axis=1, join=\"inner\")"
   ]
  },
  {
   "cell_type": "markdown",
   "metadata": {},
   "source": [
    "## Testing some models\n",
    "\n",
    "Our baseline model is going to be a simple logistic regression model.\n",
    "Let's see how it performs and try some more sofisticated models like\n",
    "RandomForest, XGBoost, LightGBM, etc..."
   ]
  },
  {
   "cell_type": "code",
   "execution_count": 99,
   "metadata": {},
   "outputs": [
    {
     "name": "stdout",
     "output_type": "stream",
     "text": [
      "Accuracy for the testing set: 0.5983 \n",
      "Accuracy for the testing set: 0.5984 \n"
     ]
    }
   ],
   "source": [
    "#from sklearn.feature_selection import SelectKBest, chi2\n",
    "\n",
    "## Train_test_splot\n",
    "X_train, X_test, y_train, y_test = train_test_split(X_ohe, y_cn, train_size = 0.8, random_state = 0)\n",
    "\n",
    "clf_lr = LogisticRegression(random_state = 0)\n",
    "clf_lr.fit(X_train, y_train)\n",
    "\n",
    "y_pred = clf_lr.predict(X_test)\n",
    "\n",
    "\n",
    "print('Accuracy for the testing set: {} '.format(round(accuracy_score(y_train, clf_lr.predict(X_train)), 4))) \n",
    "print('Accuracy for the testing set: {} '.format(round(accuracy_score(y_test, y_pred), 4))) \n",
    "#print (confusion_matrix(y_test, y_pred))\n",
    "\n",
    "#plot_confusion_matrix(y_true = y_test, estimator = clf_rf, X = X_test)"
   ]
  },
  {
   "cell_type": "code",
   "execution_count": 101,
   "metadata": {},
   "outputs": [],
   "source": [
    "threshold_list = []\n",
    "accuracy_list  = []\n",
    "\n",
    "for threshold in np.arange(0.1, 1, 0.01):\n",
    "    threshold = round(threshold, 2)\n",
    "    predicted_proba = clf_lr.predict_proba(X_test)\n",
    "    predicted = (predicted_proba [:,1] >= threshold).astype('int')\n",
    "\n",
    "    accuracy = accuracy_score(y_test, predicted)\n",
    "    \n",
    "    threshold_list.append(threshold)\n",
    "    accuracy_list.append(accuracy)"
   ]
  },
  {
   "cell_type": "code",
   "execution_count": 104,
   "metadata": {},
   "outputs": [
    {
     "data": {
      "image/png": "[encoded data removed]",
      "text/plain": [
       "<Figure size 720x432 with 1 Axes>"
      ]
     },
     "metadata": {
      "needs_background": "light"
     },
     "output_type": "display_data"
    }
   ],
   "source": [
    "fig, ax = plt.subplots(figsize = (10, 6))\n",
    "\n",
    "ax.set_xlabel('Threshold', fontsize = 14)\n",
    "ax.set_ylabel('Accuracy', fontsize = 14)\n",
    "ax.plot(threshold_list, accuracy_list, color = 'black', alpha = 0.6)\n",
    "ax.axvline(x=0.5, color = 'tomato', linestyle = '--', label = 'threshold = 0.5')\n",
    "ax.set_title('Max accuracy of \\n{}'.format(round(max(accuracy_list), 4)))\n",
    "\n",
    "plt.legend()\n",
    "\n",
    "plt.show()"
   ]
  },
  {
   "cell_type": "markdown",
   "metadata": {},
   "source": [
    "For saving some time, let's save the data used so far as csv files\n",
    "to be easier to use from now on"
   ]
  },
  {
   "cell_type": "code",
   "execution_count": 107,
   "metadata": {},
   "outputs": [],
   "source": [
    "X.to_csv('X.csv', index = False)\n",
    "X_ohe.to_csv('X_ohe.csv', index = False)\n",
    "df2018_clf['above_below_avg_cn'].to_csv('y_cn.csv', index = False)\n",
    "df2018_clf['above_below_avg_ch'].to_csv('y_ch.csv', index = False)\n",
    "df2018_clf['above_below_avg_lc'].to_csv('y_lc.csv', index = False)\n",
    "df2018_clf['above_below_avg_mt'].to_csv('y_mt.csv', index = False)\n",
    "df2018_clf['above_below_avg_red'].to_csv('y_red.csv', index = False)"
   ]
  },
  {
   "cell_type": "code",
   "execution_count": null,
   "metadata": {},
   "outputs": [],
   "source": []
  },
  {
   "cell_type": "code",
   "execution_count": null,
   "metadata": {},
   "outputs": [],
   "source": []
  },
  {
   "cell_type": "code",
   "execution_count": null,
   "metadata": {},
   "outputs": [],
   "source": []
  },
  {
   "cell_type": "code",
   "execution_count": null,
   "metadata": {},
   "outputs": [],
   "source": []
  },
  {
   "cell_type": "code",
   "execution_count": null,
   "metadata": {},
   "outputs": [],
   "source": []
  },
  {
   "cell_type": "code",
   "execution_count": null,
   "metadata": {},
   "outputs": [],
   "source": []
  },
  {
   "cell_type": "code",
   "execution_count": null,
   "metadata": {},
   "outputs": [],
   "source": []
  },
  {
   "cell_type": "code",
   "execution_count": null,
   "metadata": {},
   "outputs": [],
   "source": []
  },
  {
   "cell_type": "code",
   "execution_count": null,
   "metadata": {},
   "outputs": [],
   "source": []
  },
  {
   "cell_type": "code",
   "execution_count": null,
   "metadata": {},
   "outputs": [],
   "source": []
  },
  {
   "cell_type": "code",
   "execution_count": null,
   "metadata": {},
   "outputs": [],
   "source": []
  },
  {
   "cell_type": "code",
   "execution_count": null,
   "metadata": {},
   "outputs": [],
   "source": []
  },
  {
   "cell_type": "markdown",
   "metadata": {},
   "source": [
    "## Analyzing the features which are clearly not categorical\n",
    "\n",
    "Let's split the data into X and y and treat and encode the categorical features"
   ]
  },
  {
   "cell_type": "markdown",
   "metadata": {},
   "source": [
    "## Testing some models\n",
    "\n",
    "Our baseline model is going to be a simple logistic regression model.\n",
    "However, in an attempt to do so, we will try to understand the most relevant\n",
    "features of our problem."
   ]
  },
  {
   "cell_type": "code",
   "execution_count": 28,
   "metadata": {},
   "outputs": [],
   "source": [
    "## Scaling the data for PCA analysis\n",
    "\n",
    "from sklearn.preprocessing import StandardScaler\n",
    "scaler = StandardScaler()\n",
    "\n",
    "X_scaled = scaler.fit_transform(X)"
   ]
  },
  {
   "cell_type": "code",
   "execution_count": 50,
   "metadata": {},
   "outputs": [],
   "source": [
    "from sklearn.decomposition import PCA\n",
    "\n",
    "pca = PCA(40)\n",
    "\n",
    "pca.fit(X_scaled)\n",
    "pca_data = pca.transform(X_scaled)"
   ]
  },
  {
   "cell_type": "code",
   "execution_count": 55,
   "metadata": {},
   "outputs": [
    {
     "data": {
      "image/png": "[encoded data removed]",
      "text/plain": [
       "<Figure size 864x576 with 1 Axes>"
      ]
     },
     "metadata": {
      "needs_background": "light"
     },
     "output_type": "display_data"
    }
   ],
   "source": [
    "## Percentage of the variation\n",
    "per_variation = np.round(pca.explained_variance_ratio_*100, decimals = 1)\n",
    "\n",
    "## Labels for the principal components\n",
    "labels = [str(x) for x in range(1, len(per_variation) + 1)]\n",
    "\n",
    "\n",
    "fig, ax = plt.subplots(figsize = (12, 8))\n",
    "\n",
    "ax.bar(x = range(1, len(per_variation) + 1), height = per_variation, tick_label = labels)\n",
    "\n",
    "n_components = len(per_variation)\n",
    "total_var = round(per_variation.sum(), 2)\n",
    "n_total = len(X.columns)\n",
    "\n",
    "ax.set_ylabel('Percentage of explained variance')\n",
    "ax.set_xlabel('Principal components')\n",
    "ax.set_title('The first {} components of a total of {} \\naccounting for {}% of the variation'.format(n_components, n_total, total_var))\n",
    "\n",
    "ax.axhline(y = 1, c = 'red', linestyle = '--')\n",
    "\n",
    "plt.show()"
   ]
  },
  {
   "cell_type": "code",
   "execution_count": 43,
   "metadata": {},
   "outputs": [
    {
     "data": {
      "text/plain": [
       "52.199999999999996"
      ]
     },
     "execution_count": 43,
     "metadata": {},
     "output_type": "execute_result"
    }
   ],
   "source": [
    "per_variation.sum()"
   ]
  },
  {
   "cell_type": "markdown",
   "metadata": {},
   "source": [
    "Let's start by analyzing the natural science subject (it will serve as a model for the rest as well)\n",
    "\n"
   ]
  },
  {
   "cell_type": "code",
   "execution_count": 25,
   "metadata": {},
   "outputs": [
    {
     "data": {
      "image/png": "[encoded data removed]",
      "text/plain": [
       "<Figure size 432x288 with 1 Axes>"
      ]
     },
     "metadata": {
      "needs_background": "light"
     },
     "output_type": "display_data"
    }
   ],
   "source": [
    "## Analyzing the distribution of cn \n",
    "\n",
    "sns.countplot(y_cn)\n",
    "plt.show()"
   ]
  },
  {
   "cell_type": "markdown",
   "metadata": {},
   "source": [
    "Let's start creating a baseline model using a RF classifier. Afterwards we can try\n",
    "to perform some optimization and then testing other models"
   ]
  },
  {
   "cell_type": "code",
   "execution_count": 27,
   "metadata": {},
   "outputs": [],
   "source": []
  },
  {
   "cell_type": "markdown",
   "metadata": {},
   "source": [
    "## Testing a Random Forest Classifier - a baseline model"
   ]
  },
  {
   "cell_type": "code",
   "execution_count": 28,
   "metadata": {},
   "outputs": [],
   "source": [
    "# Creating the classifier\n",
    "\n",
    "X_train, X_test, y_train, y_test = train_test_split(X, y_cn, train_size = 0.8, random_state = 0)\n",
    "\n",
    "clf_rf = RandomForestClassifier()\n",
    "\n",
    "clf_rf.fit(X_train, y_train)\n",
    "\n",
    "y_pred = clf_rf.predict(X_test)"
   ]
  },
  {
   "cell_type": "code",
   "execution_count": 30,
   "metadata": {},
   "outputs": [
    {
     "name": "stdout",
     "output_type": "stream",
     "text": [
      "Accuracy: 0.664 \n",
      "[[63919 16604]\n",
      " [33073 34239]]\n"
     ]
    },
    {
     "data": {
      "image/png": "[encoded data removed]",
      "text/plain": [
       "<Figure size 432x288 with 2 Axes>"
      ]
     },
     "metadata": {
      "needs_background": "light"
     },
     "output_type": "display_data"
    }
   ],
   "source": [
    "print('Accuracy: {} '.format(round(accuracy_score(y_test, y_pred), 4))) \n",
    "print (confusion_matrix(y_test, y_pred))\n",
    "\n",
    "plot_confusion_matrix(y_true = y_test, estimator = clf_rf, X = X_test)\n",
    "\n",
    "plt.show()"
   ]
  },
  {
   "cell_type": "markdown",
   "metadata": {},
   "source": [
    "Okay, so the model is not as good as I expected, let's see if it's possible\n",
    "to improve the model's performance by dropping some components."
   ]
  },
  {
   "cell_type": "code",
   "execution_count": 32,
   "metadata": {},
   "outputs": [],
   "source": [
    "def plot_feature_importance(model):\n",
    "    feature_imp = pd.DataFrame(sorted(zip(model.feature_importances_,X.columns[:15])),\n",
    "                               columns=['Value','Feature'])\n",
    "\n",
    "    plt.figure(figsize=(14, 8))\n",
    "    sns.barplot(x=\"Value\", y=\"Feature\", data = feature_imp.sort_values(by=\"Value\", ascending=False))\n",
    "    plt.title('Features', fontsize = 16)\n",
    "    plt.tight_layout()\n",
    "    plt.show()"
   ]
  },
  {
   "cell_type": "code",
   "execution_count": 32,
   "metadata": {},
   "outputs": [
    {
     "data": {
      "image/png": "[encoded data removed]",
      "text/plain": [
       "<Figure size 1008x576 with 1 Axes>"
      ]
     },
     "metadata": {
      "needs_background": "light"
     },
     "output_type": "display_data"
    }
   ],
   "source": [
    "plot_feature_importance(clf)"
   ]
  },
  {
   "cell_type": "markdown",
   "metadata": {},
   "source": [
    "## Partial discussion\n",
    "\n",
    "So we observe that among the 15 most important features of our model those last\n",
    "four ones have basically no impact in this baseline model. Let's as a first try,\n",
    "then discard all the features below \"IN_TREINEIRO\" and see if it improves our models accuracy."
   ]
  },
  {
   "cell_type": "code",
   "execution_count": 31,
   "metadata": {},
   "outputs": [],
   "source": [
    "cols = ['NU_IDADE', 'TP_ANO_CONCLUIU', 'SG_UF_RESIDENCIA', 'TP_SEXO',\n",
    "        'TP_COR_RACA', 'NO_MUNICIPIO_RESIDENCIA', 'TP_ENSINO', 'TP_ESCOLA',\n",
    "        'TP_ST_CONCLUSAO', 'TP_ESTADO_CIVIL', 'IN_TREINEIRO']\n",
    "\n",
    "X_min = X[cols].copy()\n",
    "\n",
    "# Creating the classifier\n",
    "\n",
    "X_train, X_test, y_train, y_test = train_test_split(X_min, y_cn, train_size = 0.8, random_state = 0)\n",
    "\n",
    "clf_min = RandomForestClassifier()\n",
    "\n",
    "clf_min.fit(X_train, y_train)\n",
    "\n",
    "y_pred = clf_min.predict(X_test)"
   ]
  },
  {
   "cell_type": "code",
   "execution_count": 33,
   "metadata": {},
   "outputs": [
    {
     "name": "stdout",
     "output_type": "stream",
     "text": [
      "Accuracy: 0.5976 \n",
      "[[53409 27114]\n",
      " [32377 34935]]\n"
     ]
    },
    {
     "data": {
      "image/png": "[encoded data removed]",
      "text/plain": [
       "<Figure size 432x288 with 2 Axes>"
      ]
     },
     "metadata": {
      "needs_background": "light"
     },
     "output_type": "display_data"
    }
   ],
   "source": [
    "print('Accuracy: {} '.format(round(accuracy_score(y_test, y_pred), 4))) \n",
    "print (confusion_matrix(y_test, y_pred))\n",
    "\n",
    "plot_confusion_matrix(y_true = y_test, estimator = clf_min, X = X_test)\n",
    "\n",
    "plt.show()"
   ]
  },
  {
   "cell_type": "markdown",
   "metadata": {},
   "source": [
    "This decision decreases the model's performance. Let's see if we add the questions\n",
    "regarding the social information"
   ]
  },
  {
   "cell_type": "code",
   "execution_count": 34,
   "metadata": {},
   "outputs": [],
   "source": [
    "#list(X_min.columns)+list(X.columns[-29:-4])\n",
    "cols_test = list(X_min.columns)+list(X.columns[-29:-4])\n",
    "\n",
    "X_min = X[cols_test].copy()"
   ]
  },
  {
   "cell_type": "code",
   "execution_count": 49,
   "metadata": {},
   "outputs": [],
   "source": [
    "# Creating the classifier\n",
    "\n",
    "X_train, X_test, y_train, y_test = train_test_split(X_min, y_cn, train_size = 0.8, random_state = 0)\n",
    "\n",
    "clf = RandomForestClassifier()\n",
    "\n",
    "clf.fit(X_train, y_train)\n",
    "\n",
    "y_pred = clf.predict(X_test)"
   ]
  },
  {
   "cell_type": "code",
   "execution_count": 50,
   "metadata": {},
   "outputs": [
    {
     "name": "stdout",
     "output_type": "stream",
     "text": [
      "Accuracy: 0.66 \n",
      "[[62904 17619]\n",
      " [33187 34125]]\n"
     ]
    },
    {
     "data": {
      "image/png": "[encoded data removed]",
      "text/plain": [
       "<Figure size 432x288 with 2 Axes>"
      ]
     },
     "metadata": {
      "needs_background": "light"
     },
     "output_type": "display_data"
    }
   ],
   "source": [
    "print('Accuracy: {} '.format(round(accuracy_score(y_test, y_pred), 2))) \n",
    "print (confusion_matrix(y_test, y_pred))\n",
    "\n",
    "plot_confusion_matrix(y_true = y_test, estimator = clf, X = X_test)\n",
    "\n",
    "plt.show()\n",
    "\n",
    "#Accuracy: 0.66 \n",
    "#[[63960 16563]\n",
    "#[33107 34205]]\n"
   ]
  },
  {
   "cell_type": "markdown",
   "metadata": {},
   "source": [
    "## Comparison between the two confusion matrices\n",
    "\n",
    "- We observe that after removing the features our model essentially predicted wrongly\n",
    "1000 more people which scored below the mean (it predicts that they scored above the mean),\n",
    "although our accuracy was kept the same. However, the changes in the confusion matrix\n",
    "were not in the direction we are looking for. The main concern of our model is to predict\n",
    "those which are scoring below the average. Since our new model is spoting rhougly 1000 people\n",
    "less in the above of average label, we might stick with the full model and try to decrease\n",
    "the number of features afterwards.\n",
    "\n",
    "\n",
    "## Next steps\n",
    "\n",
    "Sure that trying to go beyond the baseline model might lead to an accuracy improvement,\n",
    "however we are simply using a RF classifier for the prediction, we aim to use later on\n",
    "XGBoost, LightGBM and CatBoost, whereas the first seems to have some problems with large\n",
    "amount of features the other two seems to perform better with large amount of categorical\n",
    "features.\n",
    "- There are a huge amount of the features related to social information that might not be\n",
    "properly handled by the *LabelEncoder*, which despite not having a value per se, they have\n",
    "important implications on the \"social ladder\" for example, generally parents with higher\n",
    "salaries can enroll their children in better schools and it, consequently, might affect\n",
    "the grade. Let's then go through all the questions and handle them properly."
   ]
  },
  {
   "cell_type": "code",
   "execution_count": 35,
   "metadata": {},
   "outputs": [],
   "source": [
    "cols = ['above_below_avg_cn', 'above_below_avg_ch', 'above_below_avg_lc', 'above_below_avg_mt', 'above_below_avg_red']\n",
    "\n",
    "X = df2018_clf.drop(columns = cols).copy()\n"
   ]
  },
  {
   "cell_type": "markdown",
   "metadata": {},
   "source": [
    "Q001 and Q002 corresponds to the parents education level, father and mother, respectively.\n",
    "Despite of not being a direct correspondence, those which achieve a higher level of education\n",
    "**tend** to have a better chance to haver higher salaries and all that we have already discussed.\n",
    "Let's then set a numerical order to them"
   ]
  },
  {
   "cell_type": "code",
   "execution_count": 42,
   "metadata": {},
   "outputs": [],
   "source": [
    "#X.loc[:, X.columns != cols] = X.loc[:, X.columns != cols].apply(LabelEncoder().fit_transform)\n",
    "\n",
    "#X.head()\n",
    "\n",
    "X[X.columns.difference(cols)] = X[X.columns.difference(cols)].apply(LabelEncoder().fit_transform)"
   ]
  },
  {
   "cell_type": "code",
   "execution_count": 62,
   "metadata": {},
   "outputs": [],
   "source": [
    "# Creating the classifier with the new featuretable\n",
    "\n",
    "X_train, X_test, y_train, y_test = train_test_split(X, y_cn, train_size = 0.8, random_state = 0)\n",
    "\n",
    "clf = RandomForestClassifier()\n",
    "\n",
    "clf.fit(X_train, y_train)\n",
    "\n",
    "y_pred = clf.predict(X_test)"
   ]
  },
  {
   "cell_type": "code",
   "execution_count": 63,
   "metadata": {},
   "outputs": [
    {
     "name": "stdout",
     "output_type": "stream",
     "text": [
      "Accuracy: 0.66 \n",
      "[[63755 16768]\n",
      " [32892 34420]]\n"
     ]
    },
    {
     "data": {
      "image/png": "[encoded data removed]",
      "text/plain": [
       "<Figure size 432x288 with 2 Axes>"
      ]
     },
     "metadata": {
      "needs_background": "light"
     },
     "output_type": "display_data"
    }
   ],
   "source": [
    "print('Accuracy: {} '.format(round(accuracy_score(y_test, y_pred), 2))) \n",
    "print (confusion_matrix(y_test, y_pred))\n",
    "\n",
    "plot_confusion_matrix(y_true = y_test, estimator = clf, X = X_test)\n",
    "\n",
    "plt.show()\n",
    "#[[63960 16563]\n",
    "#[33107 34205]]"
   ]
  },
  {
   "cell_type": "code",
   "execution_count": 64,
   "metadata": {},
   "outputs": [
    {
     "data": {
      "image/png": "[encoded data removed]",
      "text/plain": [
       "<Figure size 1008x576 with 1 Axes>"
      ]
     },
     "metadata": {
      "needs_background": "light"
     },
     "output_type": "display_data"
    }
   ],
   "source": [
    "plot_feature_importance(clf)"
   ]
  },
  {
   "cell_type": "code",
   "execution_count": 65,
   "metadata": {},
   "outputs": [],
   "source": [
    "cols_test = list(X_min.columns)+list(X.columns[-29:-4])\n",
    "\n",
    "X_min = X[cols_test].copy()"
   ]
  },
  {
   "cell_type": "code",
   "execution_count": 68,
   "metadata": {},
   "outputs": [],
   "source": [
    "# Creating the classifier with the new featuretable\n",
    "\n",
    "X_train, X_test, y_train, y_test = train_test_split(X_min, y_cn, train_size = 0.8, random_state = 0)\n",
    "\n",
    "clf = RandomForestClassifier()\n",
    "\n",
    "clf.fit(X_train, y_train)\n",
    "\n",
    "y_pred = clf.predict(X_test)"
   ]
  },
  {
   "cell_type": "code",
   "execution_count": 69,
   "metadata": {},
   "outputs": [
    {
     "name": "stdout",
     "output_type": "stream",
     "text": [
      "Accuracy: 0.65 \n",
      "[[62490 18033]\n",
      " [33061 34251]]\n"
     ]
    },
    {
     "data": {
      "image/png": "[encoded data removed]",
      "text/plain": [
       "<Figure size 432x288 with 2 Axes>"
      ]
     },
     "metadata": {
      "needs_background": "light"
     },
     "output_type": "display_data"
    }
   ],
   "source": [
    "print('Accuracy: {} '.format(round(accuracy_score(y_test, y_pred), 2))) \n",
    "print (confusion_matrix(y_test, y_pred))\n",
    "\n",
    "plot_confusion_matrix(y_true = y_test, estimator = clf, X = X_test)\n",
    "\n",
    "plt.show()"
   ]
  },
  {
   "cell_type": "markdown",
   "metadata": {},
   "source": [
    "## Saving the data for future purpose\n",
    "\n",
    "Before going into XGBoost classifier, let's save the data already treated"
   ]
  },
  {
   "cell_type": "code",
   "execution_count": 47,
   "metadata": {},
   "outputs": [],
   "source": [
    "#X.to_csv('X.csv')\n",
    "#X_min.to_csv('X_min.csv')\n",
    "df2018_clf['above_below_avg_cn'].to_csv('y_cn.csv')\n",
    "df2018_clf['above_below_avg_ch'].to_csv('y_ch.csv')\n",
    "df2018_clf['above_below_avg_lc'].to_csv('y_lc.csv')\n",
    "df2018_clf['above_below_avg_mt'].to_csv('y_mt.csv')\n",
    "df2018_clf['above_below_avg_red'].to_csv('y_red.csv')"
   ]
  },
  {
   "cell_type": "markdown",
   "metadata": {},
   "source": [
    "## XGboost classifier\n",
    "\n",
    "Let's start analyzing other classifiers and see how they perform\n",
    "on our dataset prior to any hyperparameter tunning"
   ]
  },
  {
   "cell_type": "code",
   "execution_count": 12,
   "metadata": {},
   "outputs": [],
   "source": [
    "X_min = pd.read_csv('X_min.csv', index_col = [0])\n",
    "y_cn = pd.read_csv('y_cn.csv', index_col = [0])"
   ]
  },
  {
   "cell_type": "code",
   "execution_count": 83,
   "metadata": {},
   "outputs": [
    {
     "name": "stdout",
     "output_type": "stream",
     "text": [
      "Accuracy: 0.67 \n",
      "[[63548 16975]\n",
      " [32197 35115]]\n"
     ]
    },
    {
     "data": {
      "image/png": "[encoded data removed]",
      "text/plain": [
       "<Figure size 432x288 with 2 Axes>"
      ]
     },
     "metadata": {
      "needs_background": "light"
     },
     "output_type": "display_data"
    }
   ],
   "source": [
    "X_train, X_test, y_train, y_test = train_test_split(X_min, y_cn, train_size = 0.8,\n",
    "                                                    random_state = 0)\n",
    "\n",
    "clf = XGBClassifier(objective = 'binary:logistic', seed = 0)\n",
    "\n",
    "clf.fit(X_train, y_train, verbose = False,\n",
    "        eval_metric = 'logloss',\n",
    "        eval_set = [(X_test, y_test)],\n",
    "        early_stopping_rounds = 10)\n",
    "\n",
    "y_pred = clf.predict(X_test)\n",
    "\n",
    "print('Accuracy: {} '.format(round(accuracy_score(y_test, y_pred), 2))) \n",
    "print (confusion_matrix(y_test, y_pred))\n",
    "\n",
    "plot_confusion_matrix(y_true = y_test, estimator = clf, X = X_test)\n",
    "\n",
    "plt.show()"
   ]
  },
  {
   "cell_type": "code",
   "execution_count": 37,
   "metadata": {},
   "outputs": [
    {
     "name": "stdout",
     "output_type": "stream",
     "text": [
      "Accuracy: 0.67 \n",
      "[[63548 16975]\n",
      " [32197 35115]]\n"
     ]
    },
    {
     "data": {
      "image/png": "[encoded data removed]",
      "text/plain": [
       "<Figure size 432x288 with 2 Axes>"
      ]
     },
     "metadata": {
      "needs_background": "light"
     },
     "output_type": "display_data"
    }
   ],
   "source": [
    "## Lets check X_min without the city category\n",
    "\n",
    "X_min2 = X_min.drop(columns = ['NO_MUNICIPIO_RESIDENCIA'])\n",
    "\n",
    "X_train, X_test, y_train, y_test = train_test_split(X_min2, y_cn, train_size = 0.8,\n",
    "                                                    random_state = 0)\n",
    "\n",
    "clf = XGBClassifier(objective = 'binary:logistic', seed = 0)\n",
    "\n",
    "clf.fit(X_train, y_train, verbose = False,\n",
    "        eval_metric = 'logloss',\n",
    "        eval_set= [(X_test, y_test)],\n",
    "        early_stopping_rounds = 10)\n",
    "\n",
    "y_pred = clf.predict(X_test)\n",
    "\n",
    "print('Accuracy: {} '.format(round(accuracy_score(y_test, y_pred), 2))) \n",
    "print (confusion_matrix(y_test, y_pred))\n",
    "\n",
    "plot_confusion_matrix(y_true = y_test, estimator = clf, X = X_test)\n",
    "\n",
    "plt.show()"
   ]
  },
  {
   "cell_type": "markdown",
   "metadata": {},
   "source": [
    "Nice, without any parameter tuning it got one percent better.\n",
    "Also, we after removing the city we managed to  increase the number\n",
    "of predictions for those which scored below the mean.\n",
    "\n",
    "It is rather common to see improvements of 5% to 10% after\n",
    "parameter tuning, so we expect to cross the threshold of 70%.\n",
    "\n",
    "Lets start by looking at the number of trees in our forest"
   ]
  },
  {
   "cell_type": "code",
   "execution_count": 38,
   "metadata": {},
   "outputs": [
    {
     "name": "stdout",
     "output_type": "stream",
     "text": [
      "20\n",
      "40\n",
      "60\n",
      "80\n",
      "100\n",
      "120\n",
      "140\n",
      "160\n",
      "180\n",
      "200\n",
      "220\n",
      "240\n",
      "260\n",
      "280\n",
      "300\n",
      "320\n",
      "340\n",
      "360\n",
      "380\n",
      "400\n"
     ]
    }
   ],
   "source": [
    "X_min = X_min2.copy()\n",
    "\n",
    "er_train = []\n",
    "er_test = []\n",
    "n_ests = []\n",
    "\n",
    "## Setting the feature table and the target into the DMatrix format\n",
    "D_train = xgb.DMatrix(X_train, label = y_train)\n",
    "D_test = xgb.DMatrix(X_test, label = y_test)\n",
    "\n",
    "## Some parameters that won't be updated\n",
    "eval_metric = ['auc', 'error']\n",
    "eval_set = [(X_train, y_train), (X_test, y_test)]\n",
    "\n",
    "for n_estimators in range(20, 420, 20):\n",
    "    clf = XGBClassifier(objective = 'binary:logistic', seed = 0,\n",
    "                        max_depth = 2, n_estimators = n_estimators)\n",
    "\n",
    "    clf.fit(X_train, y_train, verbose = False,\n",
    "            eval_metric = eval_metric,\n",
    "            eval_set = eval_set,\n",
    "            early_stopping_rounds = 50)\n",
    "\n",
    "    y_pred_train = clf.predict(X_train)\n",
    "    y_pred_test = clf.predict(X_test)\n",
    "    \n",
    "    error_train = round(1 - accuracy_score(y_train, y_pred_train), 2)\n",
    "    error_test = round(1 - accuracy_score(y_test, y_pred_test), 2)\n",
    "    \n",
    "    er_train.append(error_train)\n",
    "    er_test.append(error_test)\n",
    "    n_ests.append(n_estimators)\n",
    "    print(n_estimators)\n",
    "    "
   ]
  },
  {
   "cell_type": "code",
   "execution_count": 39,
   "metadata": {},
   "outputs": [
    {
     "data": {
      "image/png": "[encoded data removed]",
      "text/plain": [
       "<Figure size 432x288 with 1 Axes>"
      ]
     },
     "metadata": {
      "needs_background": "light"
     },
     "output_type": "display_data"
    }
   ],
   "source": [
    "fig, ax = plt.subplots()\n",
    "\n",
    "ax.plot(n_ests, er_train, label = 'Train error')\n",
    "ax.plot(n_ests, er_test, label = 'Test error', alpha = 0.6)\n",
    "\n",
    "plt.legend()\n",
    "plt.show()"
   ]
  },
  {
   "cell_type": "markdown",
   "metadata": {},
   "source": [
    "Checking its fine tune"
   ]
  },
  {
   "cell_type": "code",
   "execution_count": 40,
   "metadata": {},
   "outputs": [
    {
     "name": "stdout",
     "output_type": "stream",
     "text": [
      "20\n",
      "40\n",
      "60\n",
      "80\n",
      "100\n",
      "120\n",
      "140\n",
      "160\n"
     ]
    }
   ],
   "source": [
    "er_train = []\n",
    "er_test = []\n",
    "n_ests = []\n",
    "\n",
    "for n_estimators in range(20, 180, 20):\n",
    "    clf = XGBClassifier(objective = 'binary:logistic', seed = 0,\n",
    "                        max_depth = 6, n_estimators = n_estimators)\n",
    "\n",
    "    clf.fit(X_train, y_train, verbose = False,\n",
    "            eval_metric = eval_metric,\n",
    "            eval_set = eval_set,\n",
    "            early_stopping_rounds = 50)\n",
    "\n",
    "    y_pred_train = clf.predict(X_train)\n",
    "    y_pred_test = clf.predict(X_test)\n",
    "    \n",
    "    error_train = round(1 - accuracy_score(y_train, y_pred_train), 2)\n",
    "    error_test = round(1 - accuracy_score(y_test, y_pred_test), 2)\n",
    "    \n",
    "    er_train.append(error_train)\n",
    "    er_test.append(error_test)\n",
    "    n_ests.append(n_estimators)\n",
    "    print(n_estimators)\n",
    "    "
   ]
  },
  {
   "cell_type": "code",
   "execution_count": 41,
   "metadata": {},
   "outputs": [
    {
     "data": {
      "image/png": "[encoded data removed]",
      "text/plain": [
       "<Figure size 432x288 with 1 Axes>"
      ]
     },
     "metadata": {
      "needs_background": "light"
     },
     "output_type": "display_data"
    }
   ],
   "source": [
    "fig, ax = plt.subplots()\n",
    "\n",
    "ax.plot(n_ests, er_train, label = 'Train error')\n",
    "ax.plot(n_ests, er_test, label = 'Test error', alpha = 0.6)\n",
    "\n",
    "plt.legend()\n",
    "plt.show()"
   ]
  },
  {
   "cell_type": "markdown",
   "metadata": {},
   "source": [
    "Let's them keep 120 trees and we will tune the other parameters below\n",
    "\n",
    "### Max depth optimization"
   ]
  },
  {
   "cell_type": "code",
   "execution_count": 48,
   "metadata": {},
   "outputs": [
    {
     "name": "stdout",
     "output_type": "stream",
     "text": [
      "Accuracy analysis for 2 levels in the tree:\n",
      " \n",
      "Accuracy on the training set: 0.67\n",
      "Accuracy on the testing set: 0.67\n",
      "----------------------------------------------\n",
      " \n",
      "Accuracy analysis for 5 levels in the tree:\n",
      " \n",
      "Accuracy on the training set: 0.67\n",
      "Accuracy on the testing set: 0.67\n",
      "----------------------------------------------\n",
      " \n",
      "Accuracy analysis for 10 levels in the tree:\n",
      " \n",
      "Accuracy on the training set: 0.69\n",
      "Accuracy on the testing set: 0.67\n",
      "----------------------------------------------\n",
      " \n",
      "Accuracy analysis for 20 levels in the tree:\n",
      " \n",
      "Accuracy on the training set: 0.88\n",
      "Accuracy on the testing set: 0.64\n",
      "----------------------------------------------\n",
      " \n"
     ]
    }
   ],
   "source": [
    "for max_depth in [2, 5, 10, 20]:\n",
    "    clf = XGBClassifier(objective = 'binary:logistic', seed = 0,\n",
    "                        n_estimators = 120,\n",
    "                        max_depth = max_depth)\n",
    "\n",
    "    clf.fit(X_train, y_train, verbose = False,\n",
    "            eval_metric = eval_metric,\n",
    "            eval_set = eval_set,\n",
    "            early_stopping_rounds = 12)\n",
    "\n",
    "    y_pred_train = clf.predict(X_train)\n",
    "    y_pred_test = clf.predict(X_test)\n",
    "    \n",
    "    acc_train = round(accuracy_score(y_train, y_pred_train), 2)\n",
    "    acc_test = round(accuracy_score(y_test, y_pred_test), 2)\n",
    "    \n",
    "    \n",
    "    print ('Accuracy analysis for {} levels in the tree:'.format(max_depth))\n",
    "    print (' ')\n",
    "    print ('Accuracy on the training set: {}'.format(acc_train))\n",
    "    print ('Accuracy on the testing set: {}'.format(acc_test))\n",
    "    print ('----------------------------------------------')\n",
    "    print (' ')"
   ]
  },
  {
   "cell_type": "markdown",
   "metadata": {},
   "source": [
    "Interestingly we clearly observe a beginning of overfitting for max_depth = 10\n",
    "it becomes astonishing for max_depth = 20, where the accuracy on the training\n",
    "set goes up, to 0.88, and the accuracy on the testing set drops to 0.64. Let's\n",
    "stick with max_depth = 3, for instance.\n",
    "\n",
    "### Learning rate - eta - optimization"
   ]
  },
  {
   "cell_type": "code",
   "execution_count": 49,
   "metadata": {},
   "outputs": [
    {
     "name": "stdout",
     "output_type": "stream",
     "text": [
      "Accuracy analysis for eta = 0.01\n",
      " \n",
      "Accuracy on the training set: 0.64\n",
      "Accuracy on the testing set: 0.64\n",
      "----------------------------------------------\n",
      " \n",
      "Accuracy analysis for eta = 0.05\n",
      " \n",
      "Accuracy on the training set: 0.66\n",
      "Accuracy on the testing set: 0.66\n",
      "----------------------------------------------\n",
      " \n",
      "Accuracy analysis for eta = 0.1\n",
      " \n",
      "Accuracy on the training set: 0.67\n",
      "Accuracy on the testing set: 0.66\n",
      "----------------------------------------------\n",
      " \n",
      "Accuracy analysis for eta = 0.3\n",
      " \n",
      "Accuracy on the training set: 0.67\n",
      "Accuracy on the testing set: 0.67\n",
      "----------------------------------------------\n",
      " \n"
     ]
    }
   ],
   "source": [
    "for eta  in [0.01, 0.05, 0.1, 0.3]:\n",
    "    clf = XGBClassifier(objective = 'binary:logistic', seed = 0,\n",
    "                        n_estimators = 120, max_depth = 3,\n",
    "                        eta = eta)\n",
    "\n",
    "    clf.fit(X_train, y_train, verbose = False,\n",
    "            eval_metric = eval_metric,\n",
    "            eval_set = eval_set,\n",
    "            early_stopping_rounds = 12)\n",
    "\n",
    "    y_pred_train = clf.predict(X_train)\n",
    "    y_pred_test = clf.predict(X_test)\n",
    "    \n",
    "    acc_train = round(accuracy_score(y_train, y_pred_train), 2)\n",
    "    acc_test = round(accuracy_score(y_test, y_pred_test), 2)\n",
    "    \n",
    "    \n",
    "    print ('Accuracy analysis for eta = {}'.format(eta))\n",
    "    print (' ')\n",
    "    print ('Accuracy on the training set: {}'.format(acc_train))\n",
    "    print ('Accuracy on the testing set: {}'.format(acc_test))\n",
    "    print ('----------------------------------------------')\n",
    "    print (' ')"
   ]
  },
  {
   "cell_type": "markdown",
   "metadata": {},
   "source": [
    "We observe that for eta = 0.01 we do not even reach the baseline model's\n",
    "accuracy (0.67), we stop prior to that on 0.64. Let's increase the number of \n",
    "trees to go further in the boosting process and see how far we can get"
   ]
  },
  {
   "cell_type": "code",
   "execution_count": 52,
   "metadata": {},
   "outputs": [
    {
     "name": "stdout",
     "output_type": "stream",
     "text": [
      "Accuracy analysis for eta = 0.01\n",
      " \n",
      "Accuracy on the training set: 0.67\n",
      "Accuracy on the testing set: 0.66\n",
      "----------------------------------------------\n",
      " \n"
     ]
    }
   ],
   "source": [
    "clf = XGBClassifier(objective = 'binary:logistic', seed = 0,\n",
    "                    n_estimators = 1200, max_depth = 3,\n",
    "                    eta = 0.01)\n",
    "\n",
    "clf.fit(X_train, y_train, verbose = False,\n",
    "        eval_metric = eval_metric,\n",
    "        eval_set = eval_set,\n",
    "        early_stopping_rounds = 120)\n",
    "\n",
    "y_pred_train = clf.predict(X_train)\n",
    "y_pred_test = clf.predict(X_test)\n",
    "\n",
    "acc_train = round(accuracy_score(y_train, y_pred_train), 2)\n",
    "acc_test = round(accuracy_score(y_test, y_pred_test), 2)\n",
    "\n",
    "\n",
    "print ('Accuracy analysis for eta = {}'.format(0.01))\n",
    "print (' ')\n",
    "print ('Accuracy on the training set: {}'.format(acc_train))\n",
    "print ('Accuracy on the testing set: {}'.format(acc_test))\n",
    "print ('----------------------------------------------')\n",
    "print (' ')"
   ]
  },
  {
   "cell_type": "markdown",
   "metadata": {},
   "source": [
    "Okay, so we stick with our eta = 0.3 since it has no further improvement.\n",
    "\n",
    "### Bagging parameters\n",
    "\n",
    "XGBoost alows us to perform bagging as one of the features to avoid overfitting.\n",
    "Although it seems we are not doing so, let's investigate if we can achieve a\n",
    "better accuracy by changing the percentage of rows chosen for the boosting\n",
    "and the percentage of features used"
   ]
  },
  {
   "cell_type": "code",
   "execution_count": 55,
   "metadata": {},
   "outputs": [
    {
     "name": "stdout",
     "output_type": "stream",
     "text": [
      "Accuracy analysis for a subsample of 0.7\n",
      " \n",
      "Accuracy on the training set: 0.67\n",
      "Accuracy on the testing set: 0.67\n",
      "----------------------------------------------\n",
      " \n",
      "Accuracy analysis for a subsample of 0.75\n",
      " \n",
      "Accuracy on the training set: 0.67\n",
      "Accuracy on the testing set: 0.67\n",
      "----------------------------------------------\n",
      " \n",
      "Accuracy analysis for a subsample of 0.8\n",
      " \n",
      "Accuracy on the training set: 0.67\n",
      "Accuracy on the testing set: 0.67\n",
      "----------------------------------------------\n",
      " \n",
      "Accuracy analysis for a subsample of 0.85\n",
      " \n",
      "Accuracy on the training set: 0.67\n",
      "Accuracy on the testing set: 0.67\n",
      "----------------------------------------------\n",
      " \n",
      "Accuracy analysis for a subsample of 0.9\n",
      " \n",
      "Accuracy on the training set: 0.67\n",
      "Accuracy on the testing set: 0.67\n",
      "----------------------------------------------\n",
      " \n"
     ]
    }
   ],
   "source": [
    "for subsample  in [0.7, 0.75, 0.8, 0.85, 0.9]:\n",
    "    clf = XGBClassifier(objective = 'binary:logistic', seed = 0,\n",
    "                        n_estimators = 120, max_depth = 3, eta = 0.3,\n",
    "                        subsample = subsample)\n",
    "\n",
    "    clf.fit(X_train, y_train, verbose = False,\n",
    "            eval_metric = eval_metric,\n",
    "            eval_set = eval_set,\n",
    "            early_stopping_rounds = 12)\n",
    "\n",
    "    y_pred_train = clf.predict(X_train)\n",
    "    y_pred_test = clf.predict(X_test)\n",
    "    \n",
    "    acc_train = round(accuracy_score(y_train, y_pred_train), 2)\n",
    "    acc_test = round(accuracy_score(y_test, y_pred_test), 2)\n",
    "    \n",
    "    \n",
    "    print ('Accuracy analysis for a subsample of {}'.format(subsample))\n",
    "    print (' ')\n",
    "    print ('Accuracy on the training set: {}'.format(acc_train))\n",
    "    print ('Accuracy on the testing set: {}'.format(acc_test))\n",
    "    print ('----------------------------------------------')\n",
    "    print (' ')"
   ]
  },
  {
   "cell_type": "code",
   "execution_count": 57,
   "metadata": {},
   "outputs": [
    {
     "name": "stdout",
     "output_type": "stream",
     "text": [
      "Accuracy analysis for 0.7 percentage of features\n",
      " \n",
      "Accuracy on the training set: 0.67\n",
      "Accuracy on the testing set: 0.67\n",
      "----------------------------------------------\n",
      " \n",
      "Accuracy analysis for 0.75 percentage of features\n",
      " \n",
      "Accuracy on the training set: 0.67\n",
      "Accuracy on the testing set: 0.67\n",
      "----------------------------------------------\n",
      " \n",
      "Accuracy analysis for 0.8 percentage of features\n",
      " \n",
      "Accuracy on the training set: 0.67\n",
      "Accuracy on the testing set: 0.67\n",
      "----------------------------------------------\n",
      " \n",
      "Accuracy analysis for 0.85 percentage of features\n",
      " \n",
      "Accuracy on the training set: 0.67\n",
      "Accuracy on the testing set: 0.67\n",
      "----------------------------------------------\n",
      " \n",
      "Accuracy analysis for 0.9 percentage of features\n",
      " \n",
      "Accuracy on the training set: 0.67\n",
      "Accuracy on the testing set: 0.67\n",
      "----------------------------------------------\n",
      " \n"
     ]
    }
   ],
   "source": [
    "## Percentage of features\n",
    "\n",
    "for colsample_bytree  in [0.7, 0.75, 0.8, 0.85, 0.9]:\n",
    "    clf = XGBClassifier(objective = 'binary:logistic', seed = 0,\n",
    "                        n_estimators = 120, max_depth = 3, eta = 0.3, subsample = 0.8,\n",
    "                        colsample_bytree = colsample_bytree\n",
    "                        )\n",
    "\n",
    "    clf.fit(X_train, y_train, verbose = False,\n",
    "            eval_metric = eval_metric,\n",
    "            eval_set = eval_set,\n",
    "            early_stopping_rounds = 12)\n",
    "\n",
    "    y_pred_train = clf.predict(X_train)\n",
    "    y_pred_test = clf.predict(X_test)\n",
    "    \n",
    "    acc_train = round(accuracy_score(y_train, y_pred_train), 2)\n",
    "    acc_test = round(accuracy_score(y_test, y_pred_test), 2)\n",
    "    \n",
    "    \n",
    "    print ('Accuracy analysis for {} percentage of features'.format(colsample_bytree))\n",
    "    print (' ')\n",
    "    print ('Accuracy on the training set: {}'.format(acc_train))\n",
    "    print ('Accuracy on the testing set: {}'.format(acc_test))\n",
    "    print ('----------------------------------------------')\n",
    "    print (' ')"
   ]
  },
  {
   "cell_type": "markdown",
   "metadata": {},
   "source": [
    "Cool, probably due to the amount of data that we have, using a smaller\n",
    "part of the features seems to not affect the model's performance.\n",
    "\n",
    "Another idea that come to my mind is: *what if we only provide the\n",
    "social information to the model? How does it perform?*\n",
    "\n",
    "Lets take a quick look on it starting by the RandomForest model"
   ]
  },
  {
   "cell_type": "code",
   "execution_count": 81,
   "metadata": {},
   "outputs": [
    {
     "data": {
      "text/html": [
       "<div>\n",
       "<style scoped>\n",
       "    .dataframe tbody tr th:only-of-type {\n",
       "        vertical-align: middle;\n",
       "    }\n",
       "\n",
       "    .dataframe tbody tr th {\n",
       "        vertical-align: top;\n",
       "    }\n",
       "\n",
       "    .dataframe thead th {\n",
       "        text-align: right;\n",
       "    }\n",
       "</style>\n",
       "<table border=\"1\" class=\"dataframe\">\n",
       "  <thead>\n",
       "    <tr style=\"text-align: right;\">\n",
       "      <th></th>\n",
       "      <th>Q001</th>\n",
       "      <th>Q002</th>\n",
       "      <th>Q003</th>\n",
       "      <th>Q004</th>\n",
       "      <th>Q005</th>\n",
       "      <th>Q006</th>\n",
       "      <th>Q007</th>\n",
       "      <th>Q008</th>\n",
       "      <th>Q009</th>\n",
       "      <th>Q010</th>\n",
       "      <th>...</th>\n",
       "      <th>Q016</th>\n",
       "      <th>Q017</th>\n",
       "      <th>Q018</th>\n",
       "      <th>Q019</th>\n",
       "      <th>Q020</th>\n",
       "      <th>Q021</th>\n",
       "      <th>Q022</th>\n",
       "      <th>Q023</th>\n",
       "      <th>Q024</th>\n",
       "      <th>Q025</th>\n",
       "    </tr>\n",
       "  </thead>\n",
       "  <tbody>\n",
       "    <tr>\n",
       "      <th>1</th>\n",
       "      <td>1</td>\n",
       "      <td>1</td>\n",
       "      <td>0</td>\n",
       "      <td>0</td>\n",
       "      <td>3</td>\n",
       "      <td>1</td>\n",
       "      <td>0</td>\n",
       "      <td>1</td>\n",
       "      <td>2</td>\n",
       "      <td>0</td>\n",
       "      <td>...</td>\n",
       "      <td>0</td>\n",
       "      <td>0</td>\n",
       "      <td>0</td>\n",
       "      <td>1</td>\n",
       "      <td>0</td>\n",
       "      <td>0</td>\n",
       "      <td>1</td>\n",
       "      <td>0</td>\n",
       "      <td>0</td>\n",
       "      <td>0</td>\n",
       "    </tr>\n",
       "    <tr>\n",
       "      <th>5</th>\n",
       "      <td>2</td>\n",
       "      <td>3</td>\n",
       "      <td>2</td>\n",
       "      <td>1</td>\n",
       "      <td>0</td>\n",
       "      <td>1</td>\n",
       "      <td>0</td>\n",
       "      <td>1</td>\n",
       "      <td>2</td>\n",
       "      <td>0</td>\n",
       "      <td>...</td>\n",
       "      <td>1</td>\n",
       "      <td>0</td>\n",
       "      <td>0</td>\n",
       "      <td>1</td>\n",
       "      <td>0</td>\n",
       "      <td>0</td>\n",
       "      <td>1</td>\n",
       "      <td>0</td>\n",
       "      <td>1</td>\n",
       "      <td>1</td>\n",
       "    </tr>\n",
       "    <tr>\n",
       "      <th>7</th>\n",
       "      <td>0</td>\n",
       "      <td>4</td>\n",
       "      <td>0</td>\n",
       "      <td>3</td>\n",
       "      <td>3</td>\n",
       "      <td>7</td>\n",
       "      <td>0</td>\n",
       "      <td>1</td>\n",
       "      <td>2</td>\n",
       "      <td>0</td>\n",
       "      <td>...</td>\n",
       "      <td>0</td>\n",
       "      <td>0</td>\n",
       "      <td>0</td>\n",
       "      <td>2</td>\n",
       "      <td>1</td>\n",
       "      <td>0</td>\n",
       "      <td>1</td>\n",
       "      <td>0</td>\n",
       "      <td>1</td>\n",
       "      <td>1</td>\n",
       "    </tr>\n",
       "    <tr>\n",
       "      <th>8</th>\n",
       "      <td>3</td>\n",
       "      <td>3</td>\n",
       "      <td>2</td>\n",
       "      <td>1</td>\n",
       "      <td>6</td>\n",
       "      <td>2</td>\n",
       "      <td>0</td>\n",
       "      <td>1</td>\n",
       "      <td>2</td>\n",
       "      <td>0</td>\n",
       "      <td>...</td>\n",
       "      <td>0</td>\n",
       "      <td>0</td>\n",
       "      <td>0</td>\n",
       "      <td>1</td>\n",
       "      <td>1</td>\n",
       "      <td>0</td>\n",
       "      <td>1</td>\n",
       "      <td>0</td>\n",
       "      <td>0</td>\n",
       "      <td>0</td>\n",
       "    </tr>\n",
       "    <tr>\n",
       "      <th>9</th>\n",
       "      <td>2</td>\n",
       "      <td>2</td>\n",
       "      <td>2</td>\n",
       "      <td>1</td>\n",
       "      <td>0</td>\n",
       "      <td>2</td>\n",
       "      <td>0</td>\n",
       "      <td>1</td>\n",
       "      <td>1</td>\n",
       "      <td>0</td>\n",
       "      <td>...</td>\n",
       "      <td>0</td>\n",
       "      <td>0</td>\n",
       "      <td>0</td>\n",
       "      <td>1</td>\n",
       "      <td>0</td>\n",
       "      <td>0</td>\n",
       "      <td>1</td>\n",
       "      <td>0</td>\n",
       "      <td>0</td>\n",
       "      <td>0</td>\n",
       "    </tr>\n",
       "  </tbody>\n",
       "</table>\n",
       "<p>5 rows × 25 columns</p>\n",
       "</div>"
      ],
      "text/plain": [
       "   Q001  Q002  Q003  Q004  Q005  Q006  Q007  Q008  Q009  Q010  ...  Q016  \\\n",
       "1     1     1     0     0     3     1     0     1     2     0  ...     0   \n",
       "5     2     3     2     1     0     1     0     1     2     0  ...     1   \n",
       "7     0     4     0     3     3     7     0     1     2     0  ...     0   \n",
       "8     3     3     2     1     6     2     0     1     2     0  ...     0   \n",
       "9     2     2     2     1     0     2     0     1     1     0  ...     0   \n",
       "\n",
       "   Q017  Q018  Q019  Q020  Q021  Q022  Q023  Q024  Q025  \n",
       "1     0     0     1     0     0     1     0     0     0  \n",
       "5     0     0     1     0     0     1     0     1     1  \n",
       "7     0     0     2     1     0     1     0     1     1  \n",
       "8     0     0     1     1     0     1     0     0     0  \n",
       "9     0     0     1     0     0     1     0     0     0  \n",
       "\n",
       "[5 rows x 25 columns]"
      ]
     },
     "execution_count": 81,
     "metadata": {},
     "output_type": "execute_result"
    }
   ],
   "source": [
    "X_qtn = X_min.iloc[:, 10:].copy()\n",
    "\n",
    "X_qtn.head()"
   ]
  },
  {
   "cell_type": "code",
   "execution_count": 99,
   "metadata": {},
   "outputs": [
    {
     "name": "stdout",
     "output_type": "stream",
     "text": [
      "Accuracy for the training set: 1.0 \n",
      "Accuracy for the testing set: 0.66 \n"
     ]
    },
    {
     "data": {
      "image/png": "[encoded data removed]",
      "text/plain": [
       "<Figure size 432x288 with 2 Axes>"
      ]
     },
     "metadata": {
      "needs_background": "light"
     },
     "output_type": "display_data"
    },
    {
     "data": {
      "image/png": "[encoded data removed]",
      "text/plain": [
       "<Figure size 432x288 with 2 Axes>"
      ]
     },
     "metadata": {
      "needs_background": "light"
     },
     "output_type": "display_data"
    }
   ],
   "source": [
    "X_train, X_test, y_train, y_test = train_test_split(X_min, y_cn, train_size = 0.8,\n",
    "                                                    random_state = 0)\n",
    "\n",
    "clf = RandomForestClassifier(max_features = 'sqrt')\n",
    "\n",
    "clf.fit(X_train, y_train)\n",
    "\n",
    "y_pred_train = clf.predict(X_train)\n",
    "y_pred_test = clf.predict(X_test)\n",
    "\n",
    "print('Accuracy for the training set: {} '.format(round(accuracy_score(y_train, y_pred_train), 2))) \n",
    "print('Accuracy for the testing set: {} '.format(round(accuracy_score(y_test, y_pred_test), 2)))\n",
    "\n",
    "plot_confusion_matrix(y_true = y_test, estimator = clf, X = X_test)\n",
    "plot_confusion_matrix(y_true = y_train, estimator = clf, X = X_train)\n",
    "\n",
    "plt.show()"
   ]
  },
  {
   "cell_type": "markdown",
   "metadata": {},
   "source": [
    "Wow! Okay, quite surprising! For sure we are performing some\n",
    "overfitting, but can we do better with that? Lets find out.\n",
    "If it doesn't work and we keep stuck at .66~.67 of accuracy,\n",
    "we might move on to LightGBM"
   ]
  },
  {
   "cell_type": "code",
   "execution_count": 97,
   "metadata": {},
   "outputs": [
    {
     "data": {
      "text/plain": [
       "{'bootstrap': True,\n",
       " 'ccp_alpha': 0.0,\n",
       " 'class_weight': None,\n",
       " 'criterion': 'gini',\n",
       " 'max_depth': None,\n",
       " 'max_features': 'auto',\n",
       " 'max_leaf_nodes': None,\n",
       " 'max_samples': None,\n",
       " 'min_impurity_decrease': 0.0,\n",
       " 'min_impurity_split': None,\n",
       " 'min_samples_leaf': 1,\n",
       " 'min_samples_split': 2,\n",
       " 'min_weight_fraction_leaf': 0.0,\n",
       " 'n_estimators': 100,\n",
       " 'n_jobs': None,\n",
       " 'oob_score': False,\n",
       " 'random_state': None,\n",
       " 'verbose': 0,\n",
       " 'warm_start': False}"
      ]
     },
     "execution_count": 97,
     "metadata": {},
     "output_type": "execute_result"
    }
   ],
   "source": [
    "clf.get_params()"
   ]
  },
  {
   "cell_type": "markdown",
   "metadata": {},
   "source": [
    "Okay, quite easy to see why we have so much overfitting. It is a well with no bottom haha.\n",
    "Let's start by setting a max_depth"
   ]
  },
  {
   "cell_type": "code",
   "execution_count": 104,
   "metadata": {},
   "outputs": [
    {
     "name": "stdout",
     "output_type": "stream",
     "text": [
      "Accuracy for the training set: 0.65 \n",
      "Accuracy for the testing set: 0.65 \n",
      "Accuracy for the training set: 0.65 \n",
      "Accuracy for the testing set: 0.65 \n",
      "Accuracy for the training set: 0.66 \n",
      "Accuracy for the testing set: 0.66 \n",
      "Accuracy for the training set: 0.82 \n",
      "Accuracy for the testing set: 0.66 \n"
     ]
    }
   ],
   "source": [
    "for max_depth in [3, 5, 10, 20]:\n",
    "    clf = RandomForestClassifier(max_depth = max_depth, max_features = 'sqrt')\n",
    "\n",
    "    clf.fit(X_train, y_train)\n",
    "\n",
    "    y_pred_train = clf.predict(X_train)\n",
    "    y_pred_test = clf.predict(X_test)\n",
    "\n",
    "    print('Accuracy for the training set: {} '.format(round(accuracy_score(y_train, y_pred_train), 2))) \n",
    "    print('Accuracy for the testing set: {} '.format(round(accuracy_score(y_test, y_pred_test), 2)))"
   ]
  },
  {
   "cell_type": "markdown",
   "metadata": {},
   "source": [
    "Although we see a small improvement for max_depth = 10. We start seeing the overfitting\n",
    "taking off for max_depth = 20, as we have seen before.\n",
    "\n",
    "Now, let's move towards LightGBM and see how it performs, try to make some\n",
    "hyperparameter tunning and see how it performs, if we have any improvement.\n",
    "\n",
    "## LightGBM classifier\n",
    "\n",
    "Let's start by taking into account all the features similar to what we have done before"
   ]
  },
  {
   "cell_type": "code",
   "execution_count": 54,
   "metadata": {},
   "outputs": [],
   "source": [
    "X = pd.read_csv('X.csv', index_col = 'Unnamed: 0')\n",
    "y_cn = pd.read_csv('y_cn.csv', index_col = 'Unnamed: 0')"
   ]
  },
  {
   "cell_type": "code",
   "execution_count": 55,
   "metadata": {},
   "outputs": [
    {
     "name": "stdout",
     "output_type": "stream",
     "text": [
      "Accuracy for the training set: 0.68 \n",
      "Accuracy for the testing set: 0.67 \n"
     ]
    }
   ],
   "source": [
    "X_train, X_test, y_train, y_test = train_test_split(X, y_cn, test_size = 0.2, random_state = 0)\n",
    "\n",
    "\n",
    "clf = lgb.LGBMClassifier()\n",
    "\n",
    "clf.fit(X_train, y_train)\n",
    "\n",
    "y_pred_train = clf.predict(X_train)\n",
    "y_pred_test = clf.predict(X_test)\n",
    "\n",
    "print('Accuracy for the training set: {} '.format(round(accuracy_score(y_train, y_pred_train), 2))) \n",
    "print('Accuracy for the testing set: {} '.format(round(accuracy_score(y_test, y_pred_test), 2)))"
   ]
  },
  {
   "cell_type": "markdown",
   "metadata": {},
   "source": [
    "Schön! This is quite good. Using the baseline model of LightGBM we observe\n",
    "that we obtained the best score in testing set and a not much higher score\n",
    "in the training set, which might be a spot light in the end of this dark tunnel.\n",
    "Let's perform the same tests as before and see what happens.\n",
    "\n",
    "### Feature importance"
   ]
  },
  {
   "cell_type": "code",
   "execution_count": 56,
   "metadata": {},
   "outputs": [
    {
     "data": {
      "image/png": "[encoded data removed]",
      "text/plain": [
       "<Figure size 864x576 with 1 Axes>"
      ]
     },
     "metadata": {
      "needs_background": "light"
     },
     "output_type": "display_data"
    }
   ],
   "source": [
    "feature_importance = lgb.plot_importance(clf, max_num_features = 25, figsize = (12, 8))\n",
    "\n",
    "plt.show()"
   ]
  },
  {
   "cell_type": "markdown",
   "metadata": {},
   "source": [
    "That's trully amazing! It was already expected that the social questions\n",
    "would play an important role in the model, although it was not observed\n",
    "directly in the feature importance that we have worked before. However,\n",
    "we also have seen that adding them to the first 15 most important features\n",
    "increased models accuracy in roughly 10%. This time we observe that they\n",
    "already started appearing in the first top5 features, where Q006 is related\n",
    "to the income of the family and Q027 is related to the kind of school\n",
    "that the applicants studied during high school. Just amazing :-)\n",
    "\n",
    "Let's analyze what happens if stick with only the first 25 features"
   ]
  },
  {
   "cell_type": "code",
   "execution_count": 57,
   "metadata": {},
   "outputs": [
    {
     "data": {
      "text/html": [
       "<div>\n",
       "<style scoped>\n",
       "    .dataframe tbody tr th:only-of-type {\n",
       "        vertical-align: middle;\n",
       "    }\n",
       "\n",
       "    .dataframe tbody tr th {\n",
       "        vertical-align: top;\n",
       "    }\n",
       "\n",
       "    .dataframe thead th {\n",
       "        text-align: right;\n",
       "    }\n",
       "</style>\n",
       "<table border=\"1\" class=\"dataframe\">\n",
       "  <thead>\n",
       "    <tr style=\"text-align: right;\">\n",
       "      <th></th>\n",
       "      <th>Q008</th>\n",
       "      <th>Q013</th>\n",
       "      <th>Q019</th>\n",
       "      <th>Q022</th>\n",
       "      <th>Q004</th>\n",
       "      <th>Q001</th>\n",
       "      <th>NO_MUNICIPIO_PROVA</th>\n",
       "      <th>NO_MUNICIPIO_RESIDENCIA</th>\n",
       "      <th>TP_SEXO</th>\n",
       "      <th>Q003</th>\n",
       "      <th>...</th>\n",
       "      <th>SG_UF_RESIDENCIA</th>\n",
       "      <th>TP_ST_CONCLUSAO</th>\n",
       "      <th>Q005</th>\n",
       "      <th>TP_LINGUA</th>\n",
       "      <th>TP_ESCOLA</th>\n",
       "      <th>Q027</th>\n",
       "      <th>Q006</th>\n",
       "      <th>CO_MUNICIPIO_PROVA</th>\n",
       "      <th>TP_ANO_CONCLUIU</th>\n",
       "      <th>NU_IDADE</th>\n",
       "    </tr>\n",
       "  </thead>\n",
       "  <tbody>\n",
       "    <tr>\n",
       "      <th>1</th>\n",
       "      <td>1</td>\n",
       "      <td>0</td>\n",
       "      <td>1</td>\n",
       "      <td>1</td>\n",
       "      <td>1</td>\n",
       "      <td>1</td>\n",
       "      <td>1488</td>\n",
       "      <td>4680</td>\n",
       "      <td>0</td>\n",
       "      <td>1</td>\n",
       "      <td>...</td>\n",
       "      <td>9</td>\n",
       "      <td>0</td>\n",
       "      <td>4</td>\n",
       "      <td>0</td>\n",
       "      <td>0</td>\n",
       "      <td>0</td>\n",
       "      <td>1</td>\n",
       "      <td>281</td>\n",
       "      <td>5</td>\n",
       "      <td>23.00</td>\n",
       "    </tr>\n",
       "    <tr>\n",
       "      <th>5</th>\n",
       "      <td>1</td>\n",
       "      <td>0</td>\n",
       "      <td>1</td>\n",
       "      <td>1</td>\n",
       "      <td>2</td>\n",
       "      <td>2</td>\n",
       "      <td>814</td>\n",
       "      <td>2455</td>\n",
       "      <td>0</td>\n",
       "      <td>3</td>\n",
       "      <td>...</td>\n",
       "      <td>14</td>\n",
       "      <td>0</td>\n",
       "      <td>1</td>\n",
       "      <td>1</td>\n",
       "      <td>0</td>\n",
       "      <td>0</td>\n",
       "      <td>1</td>\n",
       "      <td>515</td>\n",
       "      <td>5</td>\n",
       "      <td>23.00</td>\n",
       "    </tr>\n",
       "    <tr>\n",
       "      <th>7</th>\n",
       "      <td>1</td>\n",
       "      <td>0</td>\n",
       "      <td>2</td>\n",
       "      <td>1</td>\n",
       "      <td>4</td>\n",
       "      <td>0</td>\n",
       "      <td>1117</td>\n",
       "      <td>3412</td>\n",
       "      <td>1</td>\n",
       "      <td>1</td>\n",
       "      <td>...</td>\n",
       "      <td>16</td>\n",
       "      <td>0</td>\n",
       "      <td>4</td>\n",
       "      <td>0</td>\n",
       "      <td>0</td>\n",
       "      <td>0</td>\n",
       "      <td>7</td>\n",
       "      <td>315</td>\n",
       "      <td>12</td>\n",
       "      <td>39.00</td>\n",
       "    </tr>\n",
       "    <tr>\n",
       "      <th>8</th>\n",
       "      <td>1</td>\n",
       "      <td>0</td>\n",
       "      <td>1</td>\n",
       "      <td>1</td>\n",
       "      <td>2</td>\n",
       "      <td>3</td>\n",
       "      <td>567</td>\n",
       "      <td>1700</td>\n",
       "      <td>1</td>\n",
       "      <td>3</td>\n",
       "      <td>...</td>\n",
       "      <td>5</td>\n",
       "      <td>1</td>\n",
       "      <td>7</td>\n",
       "      <td>0</td>\n",
       "      <td>1</td>\n",
       "      <td>0</td>\n",
       "      <td>2</td>\n",
       "      <td>368</td>\n",
       "      <td>-999</td>\n",
       "      <td>19.00</td>\n",
       "    </tr>\n",
       "    <tr>\n",
       "      <th>9</th>\n",
       "      <td>1</td>\n",
       "      <td>0</td>\n",
       "      <td>1</td>\n",
       "      <td>1</td>\n",
       "      <td>2</td>\n",
       "      <td>2</td>\n",
       "      <td>476</td>\n",
       "      <td>1362</td>\n",
       "      <td>0</td>\n",
       "      <td>3</td>\n",
       "      <td>...</td>\n",
       "      <td>12</td>\n",
       "      <td>0</td>\n",
       "      <td>1</td>\n",
       "      <td>1</td>\n",
       "      <td>0</td>\n",
       "      <td>0</td>\n",
       "      <td>2</td>\n",
       "      <td>1630</td>\n",
       "      <td>9</td>\n",
       "      <td>25.00</td>\n",
       "    </tr>\n",
       "  </tbody>\n",
       "</table>\n",
       "<p>5 rows × 25 columns</p>\n",
       "</div>"
      ],
      "text/plain": [
       "   Q008  Q013  Q019  Q022  Q004  Q001  NO_MUNICIPIO_PROVA  \\\n",
       "1     1     0     1     1     1     1                1488   \n",
       "5     1     0     1     1     2     2                 814   \n",
       "7     1     0     2     1     4     0                1117   \n",
       "8     1     0     1     1     2     3                 567   \n",
       "9     1     0     1     1     2     2                 476   \n",
       "\n",
       "   NO_MUNICIPIO_RESIDENCIA  TP_SEXO  Q003  ...  SG_UF_RESIDENCIA  \\\n",
       "1                     4680        0     1  ...                 9   \n",
       "5                     2455        0     3  ...                14   \n",
       "7                     3412        1     1  ...                16   \n",
       "8                     1700        1     3  ...                 5   \n",
       "9                     1362        0     3  ...                12   \n",
       "\n",
       "   TP_ST_CONCLUSAO  Q005  TP_LINGUA  TP_ESCOLA  Q027  Q006  \\\n",
       "1                0     4          0          0     0     1   \n",
       "5                0     1          1          0     0     1   \n",
       "7                0     4          0          0     0     7   \n",
       "8                1     7          0          1     0     2   \n",
       "9                0     1          1          0     0     2   \n",
       "\n",
       "   CO_MUNICIPIO_PROVA  TP_ANO_CONCLUIU  NU_IDADE  \n",
       "1                 281                5     23.00  \n",
       "5                 515                5     23.00  \n",
       "7                 315               12     39.00  \n",
       "8                 368             -999     19.00  \n",
       "9                1630                9     25.00  \n",
       "\n",
       "[5 rows x 25 columns]"
      ]
     },
     "execution_count": 57,
     "metadata": {},
     "output_type": "execute_result"
    }
   ],
   "source": [
    "features_25 = []\n",
    "for feature in feature_importance.get_yticklabels():\n",
    "    features_25.append(feature.get_text())\n",
    "\n",
    "X_25 = X[features_25].copy()\n",
    "X_25.head()"
   ]
  },
  {
   "cell_type": "code",
   "execution_count": 58,
   "metadata": {},
   "outputs": [
    {
     "name": "stdout",
     "output_type": "stream",
     "text": [
      "Accuracy for the training set: 0.6755 \n",
      "Accuracy for the testing set: 0.6725 \n"
     ]
    }
   ],
   "source": [
    "X_train, X_test, y_train, y_test = train_test_split(X_25, y_cn, test_size = 0.2, random_state = 0)\n",
    "\n",
    "clf_red = lgb.LGBMClassifier()\n",
    "\n",
    "clf_red.fit(X_train, y_train)\n",
    "\n",
    "y_pred_train = clf_red.predict(X_train)\n",
    "y_pred_test = clf_red.predict(X_test)\n",
    "\n",
    "print('Accuracy for the training set: {} '.format(round(accuracy_score(y_train, y_pred_train), 4))) \n",
    "print('Accuracy for the testing set: {} '.format(round(accuracy_score(y_test, y_pred_test), 4)))"
   ]
  },
  {
   "cell_type": "markdown",
   "metadata": {},
   "source": [
    "So we can drammatically reduce the number of feature (95 to 25 features)\n",
    "and keep the same accuracy.\n",
    "\n",
    "### Hyperparameter tunning in LightGBM\n",
    "\n",
    "Despite of all similarities, LightGBM has a a significant\n",
    "difference when compared to XGBoost: whereas the latter\n",
    "is based in the is a tree growth based algorithm and the\n",
    "main ways to control the complexity of the tree is through max_depth,\n",
    "that is not directly true for the former. LightGBM bases itself\n",
    "on the number of leaves, which might be connect to how shallow/deeper\n",
    "is the tree, but **not necessarily**. For further information check the\n",
    "[documentation](https://lightgbm.readthedocs.io/en/latest/Parameters-Tuning.html)"
   ]
  },
  {
   "cell_type": "code",
   "execution_count": 169,
   "metadata": {},
   "outputs": [
    {
     "name": "stdout",
     "output_type": "stream",
     "text": [
      "Accuracy analysis for 2 leaves\n",
      " \n",
      "Accuracy for the training set: 0.663 \n",
      "Accuracy for the testing set: 0.662 \n",
      "------------------------------------------------------------\n",
      "Accuracy analysis for 4 leaves\n",
      " \n",
      "Accuracy for the training set: 0.668 \n",
      "Accuracy for the testing set: 0.667 \n",
      "------------------------------------------------------------\n",
      "Accuracy analysis for 8 leaves\n",
      " \n",
      "Accuracy for the training set: 0.671 \n",
      "Accuracy for the testing set: 0.67 \n",
      "------------------------------------------------------------\n",
      "Accuracy analysis for 32 leaves\n",
      " \n",
      "Accuracy for the training set: 0.675 \n",
      "Accuracy for the testing set: 0.672 \n",
      "------------------------------------------------------------\n",
      "Accuracy analysis for 64 leaves\n",
      " \n",
      "Accuracy for the training set: 0.679 \n",
      "Accuracy for the testing set: 0.672 \n",
      "------------------------------------------------------------\n",
      "Accuracy analysis for 128 leaves\n",
      " \n",
      "Accuracy for the training set: 0.686 \n",
      "Accuracy for the testing set: 0.672 \n",
      "------------------------------------------------------------\n",
      "Accuracy analysis for 256 leaves\n",
      " \n",
      "Accuracy for the training set: 0.696 \n",
      "Accuracy for the testing set: 0.672 \n",
      "------------------------------------------------------------\n",
      "Accuracy analysis for 512 leaves\n",
      " \n",
      "Accuracy for the training set: 0.716 \n",
      "Accuracy for the testing set: 0.672 \n",
      "------------------------------------------------------------\n",
      "Accuracy analysis for 1024 leaves\n",
      " \n",
      "Accuracy for the training set: 0.753 \n",
      "Accuracy for the testing set: 0.669 \n",
      "------------------------------------------------------------\n",
      "Accuracy analysis for 2056 leaves\n",
      " \n",
      "Accuracy for the training set: 0.811 \n",
      "Accuracy for the testing set: 0.666 \n",
      "------------------------------------------------------------\n"
     ]
    }
   ],
   "source": [
    "for num_leaves in [2, 4, 8, 32, 64, 128, 256, 512, 1024, 2056]:\n",
    "    clf = lgb.LGBMClassifier(num_leaves = num_leaves)\n",
    "\n",
    "    clf.fit(X_train, y_train)\n",
    "\n",
    "    y_pred_train = clf.predict(X_train)\n",
    "    y_pred_test = clf.predict(X_test)\n",
    "\n",
    "    print('Accuracy analysis for {} leaves'.format(num_leaves))\n",
    "    print(' ')\n",
    "    print('Accuracy for the training set: {} '.format(round(accuracy_score(y_train, y_pred_train), 3))) \n",
    "    print('Accuracy for the testing set: {} '.format(round(accuracy_score(y_test, y_pred_test), 3)))\n",
    "    print('------------------------------------------------------------')"
   ]
  },
  {
   "cell_type": "markdown",
   "metadata": {},
   "source": [
    "We observe that from 8 to 32 leaves we have a small improvement\n",
    "in the accuracy for the testing set and an even bigger accuracy\n",
    "improvement in the training set. From 32 to onwards this discrepancy\n",
    "keep increasing and one doesn't have observer any improvement in the\n",
    "accuracy of the testing set. Therefore, let's keep num_leaves = 32.\n",
    "It could also be okay to take num_leaves, but let's stick with the former.\n",
    "\n",
    "\n",
    "### Minimum data in leaf tuning\n",
    "This tells us about the minimum amount of data to be in in a leaf. This\n",
    "is quite helpful in some cases because it helps to avoid trees to grow\n",
    "too deeply. However, in our case it is not that helpful, since we are\n",
    "basically not overfitting. But let's play with some values."
   ]
  },
  {
   "cell_type": "code",
   "execution_count": 174,
   "metadata": {},
   "outputs": [
    {
     "name": "stdout",
     "output_type": "stream",
     "text": [
      "[LightGBM] [Warning] min_data_in_leaf is set=20, min_child_samples=20 will be ignored. Current value: min_data_in_leaf=20\n",
      "Accuracy analysis for minimum of 20 per leaf\n",
      " \n",
      "Accuracy for the training set: 0.671 \n",
      "Accuracy for the testing set: 0.67 \n",
      "------------------------------------------------------------\n",
      "[LightGBM] [Warning] min_data_in_leaf is set=100, min_child_samples=20 will be ignored. Current value: min_data_in_leaf=100\n",
      "Accuracy analysis for minimum of 100 per leaf\n",
      " \n",
      "Accuracy for the training set: 0.671 \n",
      "Accuracy for the testing set: 0.67 \n",
      "------------------------------------------------------------\n",
      "[LightGBM] [Warning] min_data_in_leaf is set=1000, min_child_samples=20 will be ignored. Current value: min_data_in_leaf=1000\n",
      "Accuracy analysis for minimum of 1000 per leaf\n",
      " \n",
      "Accuracy for the training set: 0.671 \n",
      "Accuracy for the testing set: 0.67 \n",
      "------------------------------------------------------------\n",
      "[LightGBM] [Warning] min_data_in_leaf is set=5000, min_child_samples=20 will be ignored. Current value: min_data_in_leaf=5000\n",
      "Accuracy analysis for minimum of 5000 per leaf\n",
      " \n",
      "Accuracy for the training set: 0.671 \n",
      "Accuracy for the testing set: 0.67 \n",
      "------------------------------------------------------------\n",
      "[LightGBM] [Warning] min_data_in_leaf is set=10000, min_child_samples=20 will be ignored. Current value: min_data_in_leaf=10000\n",
      "Accuracy analysis for minimum of 10000 per leaf\n",
      " \n",
      "Accuracy for the training set: 0.671 \n",
      "Accuracy for the testing set: 0.669 \n",
      "------------------------------------------------------------\n"
     ]
    }
   ],
   "source": [
    "for min_child_samples in [20, 100, 1000, 5000, int(1e4)]:# default = 20\n",
    "    clf = lgb.LGBMClassifier(num_leaves = 8, min_data_in_leaf = min_child_samples)\n",
    "\n",
    "    clf.fit(X_train, y_train)\n",
    "\n",
    "    y_pred_train = clf.predict(X_train)\n",
    "    y_pred_test = clf.predict(X_test)\n",
    "\n",
    "    print('Accuracy analysis for minimum of {} per leaf'.format(min_child_samples))\n",
    "    print(' ')\n",
    "    print('Accuracy for the training set: {} '.format(round(accuracy_score(y_train, y_pred_train), 3))) \n",
    "    print('Accuracy for the testing set: {} '.format(round(accuracy_score(y_test, y_pred_test), 3)))\n",
    "    print('------------------------------------------------------------')"
   ]
  },
  {
   "cell_type": "markdown",
   "metadata": {},
   "source": [
    "As we expected it played no role in our model's improvement. Let's try other parameters\n",
    "\n",
    "### Learning rate and number of iterations"
   ]
  },
  {
   "cell_type": "code",
   "execution_count": 179,
   "metadata": {
    "scrolled": false
   },
   "outputs": [
    {
     "name": "stdout",
     "output_type": "stream",
     "text": [
      "Accuracy analysis for 0.01 of learning rate\n",
      " \n",
      "Accuracy for the training set: 0.671 \n",
      "Accuracy for the testing set: 0.67 \n",
      "------------------------------------------------------------\n",
      "[LightGBM] [Warning] num_iterations is set=1000, num_trees=1000 will be ignored. Current value: num_iterations=1000\n",
      "Accuracy analysis for 0.05 of learning rate\n",
      " \n",
      "Accuracy for the training set: 0.676 \n",
      "Accuracy for the testing set: 0.673 \n",
      "------------------------------------------------------------\n",
      "[LightGBM] [Warning] num_iterations is set=1000, num_trees=1000 will be ignored. Current value: num_iterations=1000\n",
      "Accuracy analysis for 0.1 of learning rate\n",
      " \n",
      "Accuracy for the training set: 0.679 \n",
      "Accuracy for the testing set: 0.674 \n",
      "------------------------------------------------------------\n",
      "[LightGBM] [Warning] num_iterations is set=1000, num_trees=1000 will be ignored. Current value: num_iterations=1000\n",
      "Accuracy analysis for 0.3 of learning rate\n",
      " \n",
      "Accuracy for the training set: 0.687 \n",
      "Accuracy for the testing set: 0.673 \n",
      "------------------------------------------------------------\n"
     ]
    }
   ],
   "source": [
    "num_iterations = 1000\n",
    "\n",
    "for eta in [0.01, 0.05, 0.1, 0.3]:\n",
    "    clf = lgb.LGBMClassifier(num_leaves = 8, learning_rate = eta, num_trees = num_iterations)\n",
    "\n",
    "    clf.fit(X_train, y_train)\n",
    "\n",
    "    y_pred_train = clf.predict(X_train)\n",
    "    y_pred_test = clf.predict(X_test)\n",
    "\n",
    "    print('Accuracy analysis for {} of learning rate'.format(eta))\n",
    "    print(' ')\n",
    "    print('Accuracy for the training set: {} '.format(round(accuracy_score(y_train, y_pred_train), 3))) \n",
    "    print('Accuracy for the testing set: {} '.format(round(accuracy_score(y_test, y_pred_test), 3)))\n",
    "    print('------------------------------------------------------------')"
   ]
  },
  {
   "cell_type": "markdown",
   "metadata": {},
   "source": [
    "Schön! We managed to improve it a little bit!!! However, we\n",
    "might be able to improve it even more. Let's see what happens if\n",
    "we increase the number of trees (for eta = 0.01 we didn't reach the\n",
    "the values associated to 0.05 nor 0.1. To what concerns eta = 0.3,\n",
    "we can drop it now, since we see that it is overshooting the minimum."
   ]
  },
  {
   "cell_type": "code",
   "execution_count": 10,
   "metadata": {},
   "outputs": [
    {
     "name": "stdout",
     "output_type": "stream",
     "text": [
      "[LightGBM] [Warning] num_iterations is set=10000, num_trees=10000 will be ignored. Current value: num_iterations=10000\n",
      "Accuracy analysis for 0.01 of learning rate\n",
      " \n",
      "Accuracy for the training set: 0.679 \n",
      "Accuracy for the testing set: 0.674 \n",
      "------------------------------------------------------------\n",
      "[LightGBM] [Warning] num_iterations is set=10000, num_trees=10000 will be ignored. Current value: num_iterations=10000\n",
      "Accuracy analysis for 0.05 of learning rate\n",
      " \n",
      "Accuracy for the training set: 0.693 \n",
      "Accuracy for the testing set: 0.673 \n",
      "------------------------------------------------------------\n",
      "[LightGBM] [Warning] num_iterations is set=10000, num_trees=10000 will be ignored. Current value: num_iterations=10000\n",
      "Accuracy analysis for 0.1 of learning rate\n",
      " \n",
      "Accuracy for the training set: 0.707 \n",
      "Accuracy for the testing set: 0.671 \n",
      "------------------------------------------------------------\n"
     ]
    }
   ],
   "source": [
    "num_trees = 10000\n",
    "\n",
    "for eta in [0.01, 0.05, 0.1]:\n",
    "    clf = lgb.LGBMClassifier(num_leaves = 8, learning_rate = eta, num_trees = num_trees)\n",
    "\n",
    "    clf.fit(X_train, y_train)\n",
    "\n",
    "    y_pred_train = clf.predict(X_train)\n",
    "    y_pred_test = clf.predict(X_test)\n",
    "   \n",
    "    eval_set = (X_test, y_test)\n",
    "    early_stopping_rounds = 50\n",
    "    \n",
    "    print('Accuracy analysis for {} of learning rate'.format(eta))\n",
    "    print(' ')\n",
    "    print('Accuracy for the training set: {} '.format(round(accuracy_score(y_train, y_pred_train), 3))) \n",
    "    print('Accuracy for the testing set: {} '.format(round(accuracy_score(y_test, y_pred_test), 3)))\n",
    "    print('------------------------------------------------------------')"
   ]
  },
  {
   "cell_type": "markdown",
   "metadata": {},
   "source": [
    "Accuracy analysis for 0.1 of learning rate\n",
    " \n",
    "Accuracy for the training set: 0.679 \n",
    "Accuracy for the testing set: 0.674 \n",
    "\n",
    "#### Comparing the result for 1000 and 10000 trees\n",
    "We observe that regarding eta = 0.01, one obtains an increament\n",
    "in the accuracy of the testing set of 3%, and 8% in the training set.\n",
    "On the other hand, when eta = 0.05 there is no improvement in\n",
    "the accuracy of the testing set and an improvement of more than 10%\n",
    "in the training set. Finally, for eta = 0.1 we observe a deacrement\n",
    "in the accuracy of the testing set and also in the training set.\n",
    "\n",
    "So there are two options for us, eta = 0.01 and num_trees = 10000\n",
    "or eta = 0.1 and num_trees = 1000 (our previous example). So, obviously,\n",
    "the latter is the option."
   ]
  },
  {
   "cell_type": "markdown",
   "metadata": {},
   "source": [
    "# Partial conclusion about what has been achieved so far\n",
    "\n",
    "### About the models\n",
    "\n",
    "For this problem specifically we observed that the baseline models, all of them,\n",
    "started with accuracy above 60%, but we didn't manage to increase its accuracy\n",
    "much beyond that, even after a detailed parameter tunning in lightgbm and xgboost.\n",
    "A proper feature engineering might be necessary if one wants to improve its accuracy\n",
    "and cross the 70% border. An idea to be implemented later is the creation of a \n",
    "\"social status parameter\", which is a composition of several parameters in a single one.\n",
    "\n",
    "\n",
    "However, before embarking in this journey, let's do some stuff before:\n",
    "\n",
    "1) Let's analyze the ROC curve of our model and see how it is possible, by changing\n",
    "the threshold, to improve the model's accuracy.\n",
    "\n",
    "2) Understand better whether this small improvement can have any impact or not."
   ]
  },
  {
   "cell_type": "code",
   "execution_count": 59,
   "metadata": {},
   "outputs": [
    {
     "name": "stdout",
     "output_type": "stream",
     "text": [
      "Accuracy for the training set: 0.679 \n",
      "Accuracy for the testing set: 0.6735 \n",
      "------------------------------------------------------------\n"
     ]
    }
   ],
   "source": [
    "clf_lgbm = lgb.LGBMClassifier(num_leaves = 8, learning_rate = 0.1, num_iterations = 1000, random_state = 0)\n",
    "\n",
    "clf_lgbm.fit(X_train, y_train)\n",
    "\n",
    "y_pred_train = clf_lgbm.predict(X_train)\n",
    "y_pred_test = clf_lgbm.predict(X_test)\n",
    "\n",
    "print('Accuracy for the training set: {} '.format(round(accuracy_score(y_train, y_pred_train), 4))) \n",
    "print('Accuracy for the testing set: {} '.format(round(accuracy_score(y_test, y_pred_test), 4)))\n",
    "print('------------------------------------------------------------')\n",
    "\n",
    "## Accuracy of Random Forest: 0.664 "
   ]
  },
  {
   "cell_type": "code",
   "execution_count": 60,
   "metadata": {},
   "outputs": [],
   "source": [
    "threshold_list = []\n",
    "accuracy_list  = []\n",
    "for threshold in np.arange(0.1, 1, 0.01):\n",
    "    threshold = round(threshold, 2)\n",
    "    predicted_proba = clf_lgbm.predict_proba(X_test)\n",
    "    predicted = (predicted_proba [:,1] >= threshold).astype('int')\n",
    "\n",
    "    accuracy = accuracy_score(y_test, predicted)\n",
    "    \n",
    "    threshold_list.append(threshold)\n",
    "    accuracy_list.append(accuracy)"
   ]
  },
  {
   "cell_type": "code",
   "execution_count": 61,
   "metadata": {},
   "outputs": [
    {
     "data": {
      "image/png": "[encoded data removed]",
      "text/plain": [
       "<Figure size 432x288 with 1 Axes>"
      ]
     },
     "metadata": {
      "needs_background": "light"
     },
     "output_type": "display_data"
    }
   ],
   "source": [
    "fig, ax = plt.subplots()\n",
    "\n",
    "ax.set_xlabel('Threshold', fontsize = 14)\n",
    "ax.set_ylabel('Accuracy', fontsize = 14)\n",
    "ax.plot(threshold_list, accuracy_list, color = 'black', alpha = 0.6)\n",
    "ax.axvline(x=0.5, color = 'tomato', linestyle = '--', label = 'threshold = 0.5')\n",
    "ax.set_title('Max accuracy of \\n{}'.format(round(max(accuracy_list), 4)))\n",
    "\n",
    "plt.legend()\n",
    "\n",
    "plt.show()"
   ]
  },
  {
   "cell_type": "markdown",
   "metadata": {},
   "source": [
    "So we observe that indeed this was the better split that we could have done.\n",
    "Let's then check whether this small improvement has any impact or not.\n",
    "\n",
    "## Final conclusion about the natural science classification problem\n",
    "\n",
    "This small improvement is related to students all over the country and it has\n",
    "for sure an impact on the brazilian economy (and we will analyze how much soon\n",
    "that could help). Nowadays we are facing a lot of problems regarding people which\n",
    "do not trust scientific evidences. A program like this could help identifying\n",
    "the need, or not, of hiring more teachers of physics, chemistry and biology for\n",
    "an specific area in the country.\n",
    "\n",
    "Firstly, lets analyze the following: *TP_DEPENDENCIA_ADM_ESC* contains the kind of school\n",
    "that the applicant came from. Let's see if indeed the majority are coming from public schools"
   ]
  },
  {
   "cell_type": "code",
   "execution_count": 77,
   "metadata": {},
   "outputs": [
    {
     "name": "stdout",
     "output_type": "stream",
     "text": [
      "Number of applicants which didn't reply: TP_DEPENDENCIA_ADM_ESC    722625\n",
      "dtype: int64\n"
     ]
    },
    {
     "data": {
      "image/png": "[encoded data removed]",
      "text/plain": [
       "<Figure size 432x288 with 1 Axes>"
      ]
     },
     "metadata": {
      "needs_background": "light"
     },
     "output_type": "display_data"
    }
   ],
   "source": [
    "df_tp_escola = pd.read_csv('DADOS/MICRODADOS_ENEM_2018.csv', usecols = ['TP_DEPENDENCIA_ADM_ESC'],\n",
    "                           nrows = 1000000, sep = ';', encoding = 'ISO-8859-1')\n",
    "\n",
    "\n",
    "print (\"Number of applicants which didn't reply: {}\".format(df_tp_escola.isna().sum()))\n",
    "\n",
    "sns.countplot(df_tp_escola.TP_DEPENDENCIA_ADM_ESC)\n",
    "plt.show()\n",
    "\n",
    "##We observe that among those which replied, the vast majority are from public schools"
   ]
  },
  {
   "cell_type": "code",
   "execution_count": 89,
   "metadata": {},
   "outputs": [
    {
     "name": "stdout",
     "output_type": "stream",
     "text": [
      "Percentage of students in public school: 78.02\n"
     ]
    }
   ],
   "source": [
    "public = len(df_tp_escola[df_tp_escola.TP_DEPENDENCIA_ADM_ESC == 2] )\n",
    "total = df_tp_escola.TP_DEPENDENCIA_ADM_ESC.notna().sum()\n",
    "\n",
    "percentage = round(100*public/total, 2)\n",
    "\n",
    "print('Percentage of students in public school: {}'.format(percentage))\n",
    "\n",
    "## Let's extrapolate this value for all the applicants."
   ]
  },
  {
   "cell_type": "markdown",
   "metadata": {},
   "source": [
    "### Identifying the amount of students from public schools\n",
    "\n",
    "Since the average of applicants in enem last year was around [5 millions](https://veja.abril.com.br/educacao/com-5-milhoes-de-inscritos-confirmados-enem-segue-tendencia-de-queda/)\n",
    "we are going to assume that $78\\pm 7.8\\%$ were from public schools. Being\n",
    "conservative regarding these numbers, let's take the lower bound of $71.2\\%$.\n",
    "Therefore, 3.560.000 students were from public schools and are paid by the government.\n",
    "\n",
    "### Identifying the amount of Physics, Chemistry and Biology teachers necessary\n",
    "\n",
    "The classes in public high schools have the average of $30.5$ students per class, according\n",
    "to the [Ministery of Education](http://portal.mec.gov.br/component/tags/tag/media.).\n",
    "Since to complete the studies one needs three years, it means that one student is going\n",
    "to have nine teachers in natural sciences along the high school.\n",
    "\n",
    "As we have 3.560.000 students from public schools applying to ENEM, these students, when\n",
    "grouped together, represent $3.560.000/30.5 \\simeq 116.721$ classes, such that each of\n",
    "these classes during the high school have had $116.721*9 = 1.050.492$ teachers in natural\n",
    "science. However, the relation is not one teacher per class. Physics and Chemistry for\n",
    "example have three classes during the week, while Biology has two. Let's take as fixed\n",
    "value three classes a week. Since most teachers have 20 hours of working hour in class,\n",
    "it means that each of them have around 7 classes per year. Therefore, we need to divide\n",
    "the number $1.050.492/7 \\simeq 150.070$ and the **number of teachers** to train the students\n",
    "go through the public high schools is $\\simeq 150.070$.\n",
    "\n",
    "\n",
    "%%%Ensino Médio: R\\% 2.872,00\n",
    "\n",
    "### Project of a governmental plan to improve Science in Brazil\n",
    "\n",
    "After looking the data, the Federal government observes that there are more students\n",
    "below the mean rather than above the mean as we show below"
   ]
  },
  {
   "cell_type": "code",
   "execution_count": 101,
   "metadata": {},
   "outputs": [
    {
     "name": "stdout",
     "output_type": "stream",
     "text": [
      "In Brazil 45.56% of the students are above the mean, whereas 54.44% are below the mean in Natural Sciences\n"
     ]
    }
   ],
   "source": [
    "above = round(100*y_cn.above_below_avg_cn.sum()/len(y_cn), 2)\n",
    "below = 100 - above\n",
    "\n",
    "n_above = y_cn.above_below_avg_cn.sum()\n",
    "n_below = len(y_cn) - n_above\n",
    "\n",
    "print('In Brazil {}% of the students are above the mean, whereas {}% are below the mean in Natural Sciences'.format(above, below))"
   ]
  },
  {
   "cell_type": "code",
   "execution_count": 104,
   "metadata": {},
   "outputs": [
    {
     "name": "stdout",
     "output_type": "stream",
     "text": [
      "336774\n",
      "402401\n"
     ]
    }
   ],
   "source": [
    "print(n_above)\n",
    "print(n_below)"
   ]
  },
  {
   "cell_type": "markdown",
   "metadata": {},
   "source": [
    "The government then decides to develop a plan to have at least $50+1\\%$\n",
    "of the students above the mean in Natural Sciences (which implies). For doing so,\n",
    "they decided to hire more teachers for reinforcement classes for the three\n",
    "natural sciences subjects.\n",
    "\n",
    "Since they cannot ensure that investing in $51 - 45.56\\% = 5.44\\%$ will be approved\n",
    "right away, they decided to take a margin of error and they want to take four times\n",
    "more students. That is: $5.44\\%*4 = 21.76\\%$ of the students which were below the mean.\n",
    "On the other hand, there is no way to identify these students right away and there is\n",
    "where the model developed here becomes quite handy.\n",
    "\n",
    "Among the students, one wants to identify those $21.76\\%$ of those which are below the mean,\n",
    "i.e., $21.76\\%$ of $402401 = 87563$ students that will join our special classes for three years.\n",
    "\n",
    "Our baseline model using all the predictors had an accuracy of $0.664$, and taking the most\n",
    "important features in the random forest model it drops drastically to $0.5976$. Using my knowledge\n",
    "on the field I managed to add some a couple of more features and increased it back to $0.66$\n",
    "using only 1/3 to 1/4 of the initial features.\n",
    "\n",
    "\n",
    "### Accuracy: 0.664\n",
    "### Accuracy: 0.5976"
   ]
  },
  {
   "cell_type": "code",
   "execution_count": 103,
   "metadata": {},
   "outputs": [
    {
     "name": "stdout",
     "output_type": "stream",
     "text": [
      "336774\n",
      "402401\n"
     ]
    }
   ],
   "source": []
  },
  {
   "cell_type": "code",
   "execution_count": null,
   "metadata": {},
   "outputs": [],
   "source": []
  },
  {
   "cell_type": "code",
   "execution_count": null,
   "metadata": {},
   "outputs": [],
   "source": []
  },
  {
   "cell_type": "code",
   "execution_count": null,
   "metadata": {},
   "outputs": [],
   "source": []
  }
 ],
 "metadata": {
  "kernelspec": {
   "display_name": "Python 3",
   "language": "python",
   "name": "python3"
  },
  "language_info": {
   "codemirror_mode": {
    "name": "ipython",
    "version": 3
   },
   "file_extension": ".py",
   "mimetype": "text/x-python",
   "name": "python",
   "nbconvert_exporter": "python",
   "pygments_lexer": "ipython3",
   "version": "3.8.5"
  }
 },
 "nbformat": 4,
 "nbformat_minor": 4
}
