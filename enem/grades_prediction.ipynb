{
 "cells": [
  {
   "cell_type": "markdown",
   "metadata": {},
   "source": [
    "# Main ideas and Motivation\n",
    "\n",
    "- This notebook brings a careful preparation/feature engineering of\n",
    "the ENEM data for a classification problem where one is looking to identify\n",
    "whether a candidate will be above the or below the mean based on the social\n",
    "information.\n",
    "\n",
    "-The first idea would be to carry out the investigation for all the five\n",
    "subjects of the ENEM test, however, I am pretty satisfied with the stuff that I have handled/learned\n",
    "in this project so far, so I decided to stop working on it. However, as a message\n",
    "for the future (if I decided to come back to it): after carefully taking care of the\n",
    "data, it seems not much relevant what kind of classification model is used, a\n",
    "better feature engineering is necessary. The main ideas regarding the latter is\n",
    "the creation of two to three \"social grades\" based on the information given by the\n",
    "candidate and assign different weights to them (like those which are directly related to income\n",
    "and those that don't).\n",
    "\n",
    "- I have worked with four algorithms here: Logistic Regression, Random Forest,\n",
    "XGBoost and LightGBM, where the last two I have done an in-depth hyparameter tunning.\n",
    "\n",
    "\n",
    "- My main motivation for this project is: since I came from a state public school\n",
    "in Rio de Janeiro and with a higher degree on hands, I wanted to better understand\n",
    "the real relevance of social level/status in education access of the students. Also,\n",
    "as a Physicist/scientist, I believe that Brazil is going through a serious Scientific\n",
    "crisis, from the economical and social point of view. The highest power of the republic\n",
    "is taking (or at least trying to take) actions which is totally against scientific measures,\n",
    "and [according to specialists](https://www.youtube.com/watch?v=A1roAHtuTPQ) \n",
    "this might lead to severe problems related to gene mutation. Therefore, I believe that \n",
    "we need to seriously make people aware about scientific research.\n",
    "\n",
    "- One of the criticism that I took is that I should turn my work onto something\n",
    "value and try to extract impact from it. Regarding that, I managed to have a model's\n",
    "performance improvement of $1.2\\%$ on the classification of students/applicants\n",
    "which were below or above the mean in natural sciences in $2018$. Although it is a small\n",
    "number, I decided to check the relevance of this $1.2\\%$ in a Gedanken experiment of:\n",
    "hiring more teachers for public schools in natural sciences (Physics, Chemistry and Biology),\n",
    "for helping those students which have a bigger chance of scoring below the mean.\n",
    "In a cycle of three years, this $1.2\\%$ reflects in an up to $128$ millions in Brazilian\n",
    "reais that can be saved by correcting classifying the students. Although that is a small\n",
    "value compared to the Brazilian GNP this money could be used in different ways, for example:\n",
    "\n",
    "For the federal government, according to the [UNICAMP website](https://www.unicamp.br/unicamp/coronavirus/quanto-custa), $128\\cdot10^6$ is equivalent to:\n",
    "\n",
    "- Test almost 1.9 million Brazilian people for COVID-19;\n",
    "- Implantation of a little over 700 ICU rooms;\n",
    "- For attending 1000 ICU rooms for COVID-patients, it costs $207000R\\$$ in medical supplies.\n",
    "One could mantain these ICU for almost two years.\n",
    "\n",
    "Also, related to the education per se, it is informed that during 2020 [$143.3$](https://g1.globo.com/educacao/noticia/2021/02/21/ministerio-da-educacao-nao-gasta-o-dinheiro-que-tem-disponivel-e-sofre-reducao-de-recursos-em-2020-aponta-relatorio.ghtml)\n",
    "billions Brazilian reais was reserved to the education. Accordingly to our value, that is approximatelly\n",
    "$0.01\\%$ of the total income used in the entire education in the country.\n",
    "\n",
    "Another interesting example regarding education, according to [this news](https://g1.globo.com/educacao/noticia/2019/09/02/capes-deixa-de-oferecer-5613-bolsas-a-partir-deste-mes-e-preve-economia-de-r-544-milhoes-em-4-anos.ghtml)\n",
    "the federal funding agency was planning to cancel 5.613 scholarships for PhD\n",
    "and Master researchers and that would allow them to save 544 millions in Brazilian reais\n",
    "in four years, which corresponds to 136 millions in one year. Our calculation basic\n",
    "improvement shows a saving of 32 millions per year, which corresponds to roughly $25\\%$\n",
    "of this value."
   ]
  },
  {
   "cell_type": "markdown",
   "metadata": {},
   "source": [
    "# Content\n",
    "\n",
    "* [Data cleaning](#data_cleaning)\n",
    "* [Ordering some categorical features](#ordering_categorical)\n",
    "* [Logistic Regression model](#logistic_regression)\n",
    "* [Different thresholds for the Logistic Regression](#diff_thresholds_lr)\n",
    "* [Random Forest classifier](#rf)\n",
    "    * [Feature importance (FI) discussion](#rf_feat_imp)\n",
    "    * [New FI after removing some features that were blurring the model](#rf_feat_imp2)\n",
    "* [XGBoost Classifier and hyperparameter tuning](#xgb_classifier)\n",
    "* [LightGBM Classifier](#lgbm)\n",
    "    * [FI using LightGBM](#fi_lgbm)\n",
    "    * [Partial conclusion about lightgbm and previous models](#partial_conclusion)\n",
    "    * [Investigating different thresholds](#diff_th_lgbm)\n",
    "* [Final Conclusion about the Classification problem and understanding the improvement](#final_conc)\n",
    "* [Different analysis that could have been done](#diff_path)<a id='diff_path'></a>"
   ]
  },
  {
   "cell_type": "code",
   "execution_count": null,
   "metadata": {},
   "outputs": [],
   "source": [
    "import pandas as pd\n",
    "import numpy as np\n",
    "import matplotlib.pyplot as plt\n",
    "\n",
    "from sklearn.preprocessing import LabelEncoder\n",
    "\n",
    "from sklearn.metrics import plot_confusion_matrix\n",
    "from sklearn.metrics import confusion_matrix\n",
    "from sklearn.metrics import accuracy_score\n",
    "from sklearn.metrics import classification_report\n",
    "\n",
    "from sklearn.model_selection import train_test_split\n",
    "from sklearn.model_selection import cross_val_score\n",
    "\n",
    "from sklearn.linear_model import LogisticRegression\n",
    "from sklearn.ensemble import RandomForestClassifier\n",
    "from xgboost import XGBClassifier\n",
    "import xgboost as xgb\n",
    "import lightgbm as lgb\n",
    "\n",
    "from pickle import dump\n",
    "\n",
    "warnings.filterwarnings('ignore')\n",
    "\n",
    "\n",
    "pd.options.display.float_format = \"{:,.2f}\".format"
   ]
  },
  {
   "cell_type": "code",
   "execution_count": 2,
   "metadata": {},
   "outputs": [
    {
     "data": {
      "text/html": [
       "<div>\n",
       "<style scoped>\n",
       "    .dataframe tbody tr th:only-of-type {\n",
       "        vertical-align: middle;\n",
       "    }\n",
       "\n",
       "    .dataframe tbody tr th {\n",
       "        vertical-align: top;\n",
       "    }\n",
       "\n",
       "    .dataframe thead th {\n",
       "        text-align: right;\n",
       "    }\n",
       "</style>\n",
       "<table border=\"1\" class=\"dataframe\">\n",
       "  <thead>\n",
       "    <tr style=\"text-align: right;\">\n",
       "      <th></th>\n",
       "      <th>NU_INSCRICAO</th>\n",
       "      <th>NU_ANO</th>\n",
       "      <th>CO_MUNICIPIO_RESIDENCIA</th>\n",
       "      <th>NO_MUNICIPIO_RESIDENCIA</th>\n",
       "      <th>CO_UF_RESIDENCIA</th>\n",
       "      <th>SG_UF_RESIDENCIA</th>\n",
       "      <th>NU_IDADE</th>\n",
       "      <th>TP_SEXO</th>\n",
       "      <th>TP_ESTADO_CIVIL</th>\n",
       "      <th>TP_COR_RACA</th>\n",
       "      <th>...</th>\n",
       "      <th>Q018</th>\n",
       "      <th>Q019</th>\n",
       "      <th>Q020</th>\n",
       "      <th>Q021</th>\n",
       "      <th>Q022</th>\n",
       "      <th>Q023</th>\n",
       "      <th>Q024</th>\n",
       "      <th>Q025</th>\n",
       "      <th>Q026</th>\n",
       "      <th>Q027</th>\n",
       "    </tr>\n",
       "  </thead>\n",
       "  <tbody>\n",
       "    <tr>\n",
       "      <th>0</th>\n",
       "      <td>180008202043</td>\n",
       "      <td>2018</td>\n",
       "      <td>5300108</td>\n",
       "      <td>Brasília</td>\n",
       "      <td>53</td>\n",
       "      <td>DF</td>\n",
       "      <td>44.00</td>\n",
       "      <td>M</td>\n",
       "      <td>1.00</td>\n",
       "      <td>1</td>\n",
       "      <td>...</td>\n",
       "      <td>A</td>\n",
       "      <td>A</td>\n",
       "      <td>A</td>\n",
       "      <td>A</td>\n",
       "      <td>A</td>\n",
       "      <td>A</td>\n",
       "      <td>A</td>\n",
       "      <td>A</td>\n",
       "      <td>B</td>\n",
       "      <td>A</td>\n",
       "    </tr>\n",
       "    <tr>\n",
       "      <th>1</th>\n",
       "      <td>180007197856</td>\n",
       "      <td>2018</td>\n",
       "      <td>2111102</td>\n",
       "      <td>São João dos Patos</td>\n",
       "      <td>21</td>\n",
       "      <td>MA</td>\n",
       "      <td>23.00</td>\n",
       "      <td>F</td>\n",
       "      <td>0.00</td>\n",
       "      <td>3</td>\n",
       "      <td>...</td>\n",
       "      <td>A</td>\n",
       "      <td>B</td>\n",
       "      <td>A</td>\n",
       "      <td>A</td>\n",
       "      <td>B</td>\n",
       "      <td>A</td>\n",
       "      <td>A</td>\n",
       "      <td>A</td>\n",
       "      <td>A</td>\n",
       "      <td>A</td>\n",
       "    </tr>\n",
       "    <tr>\n",
       "      <th>2</th>\n",
       "      <td>180008517434</td>\n",
       "      <td>2018</td>\n",
       "      <td>3530607</td>\n",
       "      <td>Mogi das Cruzes</td>\n",
       "      <td>35</td>\n",
       "      <td>SP</td>\n",
       "      <td>23.00</td>\n",
       "      <td>F</td>\n",
       "      <td>0.00</td>\n",
       "      <td>1</td>\n",
       "      <td>...</td>\n",
       "      <td>A</td>\n",
       "      <td>B</td>\n",
       "      <td>A</td>\n",
       "      <td>A</td>\n",
       "      <td>B</td>\n",
       "      <td>B</td>\n",
       "      <td>B</td>\n",
       "      <td>B</td>\n",
       "      <td>A</td>\n",
       "      <td>A</td>\n",
       "    </tr>\n",
       "    <tr>\n",
       "      <th>3</th>\n",
       "      <td>180007661228</td>\n",
       "      <td>2018</td>\n",
       "      <td>2916401</td>\n",
       "      <td>Itapetinga</td>\n",
       "      <td>29</td>\n",
       "      <td>BA</td>\n",
       "      <td>26.00</td>\n",
       "      <td>F</td>\n",
       "      <td>0.00</td>\n",
       "      <td>3</td>\n",
       "      <td>...</td>\n",
       "      <td>A</td>\n",
       "      <td>B</td>\n",
       "      <td>B</td>\n",
       "      <td>A</td>\n",
       "      <td>C</td>\n",
       "      <td>A</td>\n",
       "      <td>B</td>\n",
       "      <td>B</td>\n",
       "      <td>A</td>\n",
       "      <td>A</td>\n",
       "    </tr>\n",
       "    <tr>\n",
       "      <th>4</th>\n",
       "      <td>180008787987</td>\n",
       "      <td>2018</td>\n",
       "      <td>2918100</td>\n",
       "      <td>Jeremoabo</td>\n",
       "      <td>29</td>\n",
       "      <td>BA</td>\n",
       "      <td>20.00</td>\n",
       "      <td>M</td>\n",
       "      <td>0.00</td>\n",
       "      <td>0</td>\n",
       "      <td>...</td>\n",
       "      <td>A</td>\n",
       "      <td>B</td>\n",
       "      <td>A</td>\n",
       "      <td>A</td>\n",
       "      <td>B</td>\n",
       "      <td>A</td>\n",
       "      <td>B</td>\n",
       "      <td>B</td>\n",
       "      <td>B</td>\n",
       "      <td>A</td>\n",
       "    </tr>\n",
       "  </tbody>\n",
       "</table>\n",
       "<p>5 rows × 137 columns</p>\n",
       "</div>"
      ],
      "text/plain": [
       "   NU_INSCRICAO  NU_ANO  CO_MUNICIPIO_RESIDENCIA NO_MUNICIPIO_RESIDENCIA  \\\n",
       "0  180008202043    2018                  5300108                Brasília   \n",
       "1  180007197856    2018                  2111102      São João dos Patos   \n",
       "2  180008517434    2018                  3530607         Mogi das Cruzes   \n",
       "3  180007661228    2018                  2916401              Itapetinga   \n",
       "4  180008787987    2018                  2918100               Jeremoabo   \n",
       "\n",
       "   CO_UF_RESIDENCIA SG_UF_RESIDENCIA  NU_IDADE TP_SEXO  TP_ESTADO_CIVIL  \\\n",
       "0                53               DF     44.00       M             1.00   \n",
       "1                21               MA     23.00       F             0.00   \n",
       "2                35               SP     23.00       F             0.00   \n",
       "3                29               BA     26.00       F             0.00   \n",
       "4                29               BA     20.00       M             0.00   \n",
       "\n",
       "   TP_COR_RACA  ...  Q018  Q019 Q020  Q021 Q022  Q023  Q024  Q025  Q026  Q027  \n",
       "0            1  ...     A     A    A     A    A     A     A     A     B     A  \n",
       "1            3  ...     A     B    A     A    B     A     A     A     A     A  \n",
       "2            1  ...     A     B    A     A    B     B     B     B     A     A  \n",
       "3            3  ...     A     B    B     A    C     A     B     B     A     A  \n",
       "4            0  ...     A     B    A     A    B     A     B     B     B     A  \n",
       "\n",
       "[5 rows x 137 columns]"
      ]
     },
     "execution_count": 2,
     "metadata": {},
     "output_type": "execute_result"
    }
   ],
   "source": [
    "df2018 = pd.read_csv('DADOS/MICRODADOS_ENEM_2018.csv',\n",
    "                     nrows = 100000, sep = ';', encoding = 'ISO-8859-1')\n",
    "\n",
    "\n",
    "df2018.head()"
   ]
  },
  {
   "cell_type": "markdown",
   "metadata": {},
   "source": [
    "## Data cleaning\n",
    "\n",
    "<a id='data_cleaning'></a>\n",
    "\n",
    "### Removing some irrelevant columns\n",
    "\n",
    "Some columns can be seen directly as been irrelevant for us, the first of them is\n",
    "the enrollment number, since we are interested in the social information and this\n",
    "is an individual number to each applicant. Another one is the NU_ANO, since it\n",
    "corresponds to the year of the specific national exam. Also 'CO_MUNICIPIO_RESIDENCIA'\n",
    "is equivalent to 'NO_MUNICIPIO_RESIDENCIA' and 'CO_UF_RESIDENCIA' is equivalent to 'SG_UF_RESIDENCIA'."
   ]
  },
  {
   "cell_type": "code",
   "execution_count": 3,
   "metadata": {},
   "outputs": [
    {
     "data": {
      "text/html": [
       "<div>\n",
       "<style scoped>\n",
       "    .dataframe tbody tr th:only-of-type {\n",
       "        vertical-align: middle;\n",
       "    }\n",
       "\n",
       "    .dataframe tbody tr th {\n",
       "        vertical-align: top;\n",
       "    }\n",
       "\n",
       "    .dataframe thead th {\n",
       "        text-align: right;\n",
       "    }\n",
       "</style>\n",
       "<table border=\"1\" class=\"dataframe\">\n",
       "  <thead>\n",
       "    <tr style=\"text-align: right;\">\n",
       "      <th></th>\n",
       "      <th>NO_MUNICIPIO_RESIDENCIA</th>\n",
       "      <th>SG_UF_RESIDENCIA</th>\n",
       "      <th>NU_IDADE</th>\n",
       "      <th>TP_SEXO</th>\n",
       "      <th>TP_ESTADO_CIVIL</th>\n",
       "      <th>TP_COR_RACA</th>\n",
       "      <th>TP_ST_CONCLUSAO</th>\n",
       "      <th>TP_ANO_CONCLUIU</th>\n",
       "      <th>TP_ESCOLA</th>\n",
       "      <th>TP_ENSINO</th>\n",
       "      <th>...</th>\n",
       "      <th>Q018</th>\n",
       "      <th>Q019</th>\n",
       "      <th>Q020</th>\n",
       "      <th>Q021</th>\n",
       "      <th>Q022</th>\n",
       "      <th>Q023</th>\n",
       "      <th>Q024</th>\n",
       "      <th>Q025</th>\n",
       "      <th>Q026</th>\n",
       "      <th>Q027</th>\n",
       "    </tr>\n",
       "  </thead>\n",
       "  <tbody>\n",
       "    <tr>\n",
       "      <th>0</th>\n",
       "      <td>Brasília</td>\n",
       "      <td>DF</td>\n",
       "      <td>44.00</td>\n",
       "      <td>M</td>\n",
       "      <td>1.00</td>\n",
       "      <td>1</td>\n",
       "      <td>2</td>\n",
       "      <td>0</td>\n",
       "      <td>2</td>\n",
       "      <td>1.00</td>\n",
       "      <td>...</td>\n",
       "      <td>A</td>\n",
       "      <td>A</td>\n",
       "      <td>A</td>\n",
       "      <td>A</td>\n",
       "      <td>A</td>\n",
       "      <td>A</td>\n",
       "      <td>A</td>\n",
       "      <td>A</td>\n",
       "      <td>B</td>\n",
       "      <td>A</td>\n",
       "    </tr>\n",
       "    <tr>\n",
       "      <th>1</th>\n",
       "      <td>São João dos Patos</td>\n",
       "      <td>MA</td>\n",
       "      <td>23.00</td>\n",
       "      <td>F</td>\n",
       "      <td>0.00</td>\n",
       "      <td>3</td>\n",
       "      <td>1</td>\n",
       "      <td>5</td>\n",
       "      <td>1</td>\n",
       "      <td>1.00</td>\n",
       "      <td>...</td>\n",
       "      <td>A</td>\n",
       "      <td>B</td>\n",
       "      <td>A</td>\n",
       "      <td>A</td>\n",
       "      <td>B</td>\n",
       "      <td>A</td>\n",
       "      <td>A</td>\n",
       "      <td>A</td>\n",
       "      <td>A</td>\n",
       "      <td>A</td>\n",
       "    </tr>\n",
       "    <tr>\n",
       "      <th>2</th>\n",
       "      <td>Mogi das Cruzes</td>\n",
       "      <td>SP</td>\n",
       "      <td>23.00</td>\n",
       "      <td>F</td>\n",
       "      <td>0.00</td>\n",
       "      <td>1</td>\n",
       "      <td>1</td>\n",
       "      <td>3</td>\n",
       "      <td>1</td>\n",
       "      <td>3.00</td>\n",
       "      <td>...</td>\n",
       "      <td>A</td>\n",
       "      <td>B</td>\n",
       "      <td>A</td>\n",
       "      <td>A</td>\n",
       "      <td>B</td>\n",
       "      <td>B</td>\n",
       "      <td>B</td>\n",
       "      <td>B</td>\n",
       "      <td>A</td>\n",
       "      <td>A</td>\n",
       "    </tr>\n",
       "    <tr>\n",
       "      <th>3</th>\n",
       "      <td>Itapetinga</td>\n",
       "      <td>BA</td>\n",
       "      <td>26.00</td>\n",
       "      <td>F</td>\n",
       "      <td>0.00</td>\n",
       "      <td>3</td>\n",
       "      <td>1</td>\n",
       "      <td>8</td>\n",
       "      <td>1</td>\n",
       "      <td>1.00</td>\n",
       "      <td>...</td>\n",
       "      <td>A</td>\n",
       "      <td>B</td>\n",
       "      <td>B</td>\n",
       "      <td>A</td>\n",
       "      <td>C</td>\n",
       "      <td>A</td>\n",
       "      <td>B</td>\n",
       "      <td>B</td>\n",
       "      <td>A</td>\n",
       "      <td>A</td>\n",
       "    </tr>\n",
       "    <tr>\n",
       "      <th>4</th>\n",
       "      <td>Jeremoabo</td>\n",
       "      <td>BA</td>\n",
       "      <td>20.00</td>\n",
       "      <td>M</td>\n",
       "      <td>0.00</td>\n",
       "      <td>0</td>\n",
       "      <td>2</td>\n",
       "      <td>0</td>\n",
       "      <td>2</td>\n",
       "      <td>1.00</td>\n",
       "      <td>...</td>\n",
       "      <td>A</td>\n",
       "      <td>B</td>\n",
       "      <td>A</td>\n",
       "      <td>A</td>\n",
       "      <td>B</td>\n",
       "      <td>A</td>\n",
       "      <td>B</td>\n",
       "      <td>B</td>\n",
       "      <td>B</td>\n",
       "      <td>A</td>\n",
       "    </tr>\n",
       "  </tbody>\n",
       "</table>\n",
       "<p>5 rows × 128 columns</p>\n",
       "</div>"
      ],
      "text/plain": [
       "  NO_MUNICIPIO_RESIDENCIA SG_UF_RESIDENCIA  NU_IDADE TP_SEXO  TP_ESTADO_CIVIL  \\\n",
       "0                Brasília               DF     44.00       M             1.00   \n",
       "1      São João dos Patos               MA     23.00       F             0.00   \n",
       "2         Mogi das Cruzes               SP     23.00       F             0.00   \n",
       "3              Itapetinga               BA     26.00       F             0.00   \n",
       "4               Jeremoabo               BA     20.00       M             0.00   \n",
       "\n",
       "   TP_COR_RACA  TP_ST_CONCLUSAO  TP_ANO_CONCLUIU  TP_ESCOLA  TP_ENSINO  ...  \\\n",
       "0            1                2                0          2       1.00  ...   \n",
       "1            3                1                5          1       1.00  ...   \n",
       "2            1                1                3          1       3.00  ...   \n",
       "3            3                1                8          1       1.00  ...   \n",
       "4            0                2                0          2       1.00  ...   \n",
       "\n",
       "   Q018  Q019  Q020 Q021  Q022 Q023  Q024  Q025  Q026  Q027  \n",
       "0     A     A     A    A     A    A     A     A     B     A  \n",
       "1     A     B     A    A     B    A     A     A     A     A  \n",
       "2     A     B     A    A     B    B     B     B     A     A  \n",
       "3     A     B     B    A     C    A     B     B     A     A  \n",
       "4     A     B     A    A     B    A     B     B     B     A  \n",
       "\n",
       "[5 rows x 128 columns]"
      ]
     },
     "execution_count": 3,
     "metadata": {},
     "output_type": "execute_result"
    }
   ],
   "source": [
    "cols = ['NU_INSCRICAO', 'NU_ANO', 'CO_MUNICIPIO_RESIDENCIA', 'CO_UF_RESIDENCIA', 'CO_MUNICIPIO_NASCIMENTO', 'CO_UF_NASCIMENTO', 'TP_NACIONALIDADE', 'NO_MUNICIPIO_NASCIMENTO', 'SG_UF_NASCIMENTO']\n",
    "\n",
    "df2018 = df2018.drop(columns = cols)\n",
    "\n",
    "df2018.head()"
   ]
  },
  {
   "cell_type": "markdown",
   "metadata": {},
   "source": [
    "For the model prediction, we are also not interested in information regarding the answers\n",
    "given by the students at the answer card. Nor the test informations, like the test number and so on"
   ]
  },
  {
   "cell_type": "code",
   "execution_count": 4,
   "metadata": {},
   "outputs": [],
   "source": [
    "cols = ['CO_PROVA_CN', 'CO_PROVA_CH', 'CO_PROVA_LC', 'CO_PROVA_MT', 'TX_GABARITO_CN',\n",
    "        'TX_GABARITO_CH', 'TX_GABARITO_LC','TX_GABARITO_MT','TP_STATUS_REDACAO',\n",
    "        'TX_RESPOSTAS_CN', 'TX_RESPOSTAS_CH', 'TX_RESPOSTAS_LC', 'TX_RESPOSTAS_MT', \n",
    "        'NU_NOTA_COMP1', 'NU_NOTA_COMP2', 'NU_NOTA_COMP3', 'NU_NOTA_COMP4', 'NU_NOTA_COMP5']\n",
    "\n",
    "df2018 = df2018.drop(columns = cols)"
   ]
  },
  {
   "cell_type": "markdown",
   "metadata": {},
   "source": [
    "### Analyzing absent applicants\n",
    "\n",
    "The columns containing \"PRESENCA\" in the name, tells us when the applicants were present \n",
    "or not in the test. Let's analyze this and also remove those applicants which were absent"
   ]
  },
  {
   "cell_type": "code",
   "execution_count": 5,
   "metadata": {},
   "outputs": [
    {
     "name": "stdout",
     "output_type": "stream",
     "text": [
      "26932\n",
      "73051\n",
      "15\n",
      "0\n",
      "72936\n",
      "0\n"
     ]
    }
   ],
   "source": [
    "print(len(df2018[['TP_PRESENCA_CN']][df2018.TP_PRESENCA_CN == 0]))\n",
    "print(len(df2018[['TP_PRESENCA_CN']][df2018.TP_PRESENCA_CN == 1]))\n",
    "print(len(df2018[['TP_PRESENCA_CN']][df2018.TP_PRESENCA_CN == 2]))\n",
    "\n",
    "## Removing those which didn't show up for the test\n",
    "\n",
    "df2018 = df2018[(df2018.TP_PRESENCA_CN == 1) & (df2018.TP_PRESENCA_CH == 1) & (df2018.TP_PRESENCA_LC == 1) & (df2018.TP_PRESENCA_MT == 1)]\n",
    "\n",
    "print(len(df2018[['TP_PRESENCA_CN']][df2018.TP_PRESENCA_CN == 0]))\n",
    "print(len(df2018[['TP_PRESENCA_CN']][df2018.TP_PRESENCA_CN == 1]))\n",
    "print(len(df2018[['TP_PRESENCA_CN']][df2018.TP_PRESENCA_CN == 2]))"
   ]
  },
  {
   "cell_type": "markdown",
   "metadata": {},
   "source": [
    "### Analyzing the nan-values"
   ]
  },
  {
   "cell_type": "code",
   "execution_count": 6,
   "metadata": {},
   "outputs": [],
   "source": [
    "df2018.drop(columns = ['TP_PRESENCA_CN', 'TP_PRESENCA_CH', 'TP_PRESENCA_LC', 'TP_PRESENCA_MT'], inplace = True)"
   ]
  },
  {
   "cell_type": "code",
   "execution_count": 7,
   "metadata": {},
   "outputs": [
    {
     "name": "stdout",
     "output_type": "stream",
     "text": [
      "NO_MUNICIPIO_RESIDENCIA            0\n",
      "SG_UF_RESIDENCIA                   0\n",
      "NU_IDADE                           1\n",
      "TP_SEXO                            0\n",
      "TP_ESTADO_CIVIL                 2562\n",
      "TP_COR_RACA                        0\n",
      "TP_ST_CONCLUSAO                    0\n",
      "TP_ANO_CONCLUIU                    0\n",
      "TP_ESCOLA                          0\n",
      "TP_ENSINO                      18093\n",
      "IN_TREINEIRO                       0\n",
      "CO_ESCOLA                      55628\n",
      "CO_MUNICIPIO_ESC               55628\n",
      "NO_MUNICIPIO_ESC               55628\n",
      "CO_UF_ESC                      55628\n",
      "SG_UF_ESC                      55628\n",
      "TP_DEPENDENCIA_ADM_ESC         55628\n",
      "TP_LOCALIZACAO_ESC             55628\n",
      "TP_SIT_FUNC_ESC                55628\n",
      "IN_BAIXA_VISAO                     0\n",
      "IN_CEGUEIRA                        0\n",
      "IN_SURDEZ                          0\n",
      "IN_DEFICIENCIA_AUDITIVA            0\n",
      "IN_SURDO_CEGUEIRA                  0\n",
      "IN_DEFICIENCIA_FISICA              0\n",
      "IN_DEFICIENCIA_MENTAL              0\n",
      "IN_DEFICIT_ATENCAO                 0\n",
      "IN_DISLEXIA                        0\n",
      "IN_DISCALCULIA                     0\n",
      "IN_AUTISMO                         0\n",
      "IN_VISAO_MONOCULAR                 0\n",
      "IN_OUTRA_DEF                       0\n",
      "IN_GESTANTE                        0\n",
      "IN_LACTANTE                        0\n",
      "IN_IDOSO                           0\n",
      "IN_ESTUDA_CLASSE_HOSPITALAR        0\n",
      "IN_SEM_RECURSO                     0\n",
      "IN_BRAILLE                         0\n",
      "IN_AMPLIADA_24                     0\n",
      "IN_AMPLIADA_18                     0\n",
      "IN_LEDOR                           0\n",
      "IN_ACESSO                          0\n",
      "IN_TRANSCRICAO                     0\n",
      "IN_LIBRAS                          0\n",
      "IN_LEITURA_LABIAL                  0\n",
      "IN_MESA_CADEIRA_RODAS              0\n",
      "IN_MESA_CADEIRA_SEPARADA           0\n",
      "IN_APOIO_PERNA                     0\n",
      "IN_GUIA_INTERPRETE                 0\n",
      "IN_COMPUTADOR                      0\n",
      "IN_CADEIRA_ESPECIAL                0\n",
      "IN_CADEIRA_CANHOTO                 0\n",
      "IN_CADEIRA_ACOLCHOADA              0\n",
      "IN_PROVA_DEITADO                   0\n",
      "IN_MOBILIARIO_OBESO                0\n",
      "IN_LAMINA_OVERLAY                  0\n",
      "IN_PROTETOR_AURICULAR              0\n",
      "IN_MEDIDOR_GLICOSE                 0\n",
      "IN_MAQUINA_BRAILE                  0\n",
      "IN_SOROBAN                         0\n",
      "dtype: int64\n",
      "IN_MARCA_PASSO              0\n",
      "IN_SONDA                    0\n",
      "IN_MEDICAMENTOS             0\n",
      "IN_SALA_INDIVIDUAL          0\n",
      "IN_SALA_ESPECIAL            0\n",
      "IN_SALA_ACOMPANHANTE        0\n",
      "IN_MOBILIARIO_ESPECIFICO    0\n",
      "IN_MATERIAL_ESPECIFICO      0\n",
      "IN_NOME_SOCIAL              0\n",
      "CO_MUNICIPIO_PROVA          0\n",
      "NO_MUNICIPIO_PROVA          0\n",
      "CO_UF_PROVA                 0\n",
      "SG_UF_PROVA                 0\n",
      "NU_NOTA_CN                  0\n",
      "NU_NOTA_CH                  0\n",
      "NU_NOTA_LC                  0\n",
      "NU_NOTA_MT                  0\n",
      "TP_LINGUA                   0\n",
      "NU_NOTA_REDACAO             0\n",
      "Q001                        0\n",
      "Q002                        0\n",
      "Q003                        0\n",
      "Q004                        0\n",
      "Q005                        0\n",
      "Q006                        0\n",
      "Q007                        0\n",
      "Q008                        0\n",
      "Q009                        0\n",
      "Q010                        0\n",
      "Q011                        0\n",
      "Q012                        0\n",
      "Q013                        0\n",
      "Q014                        0\n",
      "Q015                        0\n",
      "Q016                        0\n",
      "Q017                        0\n",
      "Q018                        0\n",
      "Q019                        0\n",
      "Q020                        0\n",
      "Q021                        0\n",
      "Q022                        0\n",
      "Q023                        0\n",
      "Q024                        0\n",
      "Q025                        0\n",
      "Q026                        0\n",
      "Q027                        0\n",
      "dtype: int64\n",
      "Series([], dtype: float64)\n"
     ]
    }
   ],
   "source": [
    "print(df2018.iloc[:, : 60].isna().sum())\n",
    "print(df2018.iloc[:, 60: 120].isna().sum())\n",
    "print(df2018.iloc[:, 120: ].isna().sum())"
   ]
  },
  {
   "cell_type": "code",
   "execution_count": 8,
   "metadata": {},
   "outputs": [
    {
     "data": {
      "text/html": [
       "<div>\n",
       "<style scoped>\n",
       "    .dataframe tbody tr th:only-of-type {\n",
       "        vertical-align: middle;\n",
       "    }\n",
       "\n",
       "    .dataframe tbody tr th {\n",
       "        vertical-align: top;\n",
       "    }\n",
       "\n",
       "    .dataframe thead th {\n",
       "        text-align: right;\n",
       "    }\n",
       "</style>\n",
       "<table border=\"1\" class=\"dataframe\">\n",
       "  <thead>\n",
       "    <tr style=\"text-align: right;\">\n",
       "      <th></th>\n",
       "      <th>CO_ESCOLA</th>\n",
       "      <th>CO_MUNICIPIO_ESC</th>\n",
       "      <th>NO_MUNICIPIO_ESC</th>\n",
       "      <th>CO_UF_ESC</th>\n",
       "      <th>SG_UF_ESC</th>\n",
       "      <th>TP_DEPENDENCIA_ADM_ESC</th>\n",
       "      <th>TP_LOCALIZACAO_ESC</th>\n",
       "      <th>TP_SIT_FUNC_ESC</th>\n",
       "    </tr>\n",
       "  </thead>\n",
       "  <tbody>\n",
       "    <tr>\n",
       "      <th>1</th>\n",
       "      <td>NaN</td>\n",
       "      <td>NaN</td>\n",
       "      <td>NaN</td>\n",
       "      <td>NaN</td>\n",
       "      <td>NaN</td>\n",
       "      <td>NaN</td>\n",
       "      <td>NaN</td>\n",
       "      <td>NaN</td>\n",
       "    </tr>\n",
       "    <tr>\n",
       "      <th>5</th>\n",
       "      <td>NaN</td>\n",
       "      <td>NaN</td>\n",
       "      <td>NaN</td>\n",
       "      <td>NaN</td>\n",
       "      <td>NaN</td>\n",
       "      <td>NaN</td>\n",
       "      <td>NaN</td>\n",
       "      <td>NaN</td>\n",
       "    </tr>\n",
       "    <tr>\n",
       "      <th>7</th>\n",
       "      <td>NaN</td>\n",
       "      <td>NaN</td>\n",
       "      <td>NaN</td>\n",
       "      <td>NaN</td>\n",
       "      <td>NaN</td>\n",
       "      <td>NaN</td>\n",
       "      <td>NaN</td>\n",
       "      <td>NaN</td>\n",
       "    </tr>\n",
       "    <tr>\n",
       "      <th>8</th>\n",
       "      <td>23,077,140.00</td>\n",
       "      <td>2,304,400.00</td>\n",
       "      <td>Fortaleza</td>\n",
       "      <td>23.00</td>\n",
       "      <td>CE</td>\n",
       "      <td>2.00</td>\n",
       "      <td>1.00</td>\n",
       "      <td>1.00</td>\n",
       "    </tr>\n",
       "    <tr>\n",
       "      <th>9</th>\n",
       "      <td>NaN</td>\n",
       "      <td>NaN</td>\n",
       "      <td>NaN</td>\n",
       "      <td>NaN</td>\n",
       "      <td>NaN</td>\n",
       "      <td>NaN</td>\n",
       "      <td>NaN</td>\n",
       "      <td>NaN</td>\n",
       "    </tr>\n",
       "  </tbody>\n",
       "</table>\n",
       "</div>"
      ],
      "text/plain": [
       "      CO_ESCOLA  CO_MUNICIPIO_ESC NO_MUNICIPIO_ESC  CO_UF_ESC SG_UF_ESC  \\\n",
       "1           NaN               NaN              NaN        NaN       NaN   \n",
       "5           NaN               NaN              NaN        NaN       NaN   \n",
       "7           NaN               NaN              NaN        NaN       NaN   \n",
       "8 23,077,140.00      2,304,400.00        Fortaleza      23.00        CE   \n",
       "9           NaN               NaN              NaN        NaN       NaN   \n",
       "\n",
       "   TP_DEPENDENCIA_ADM_ESC  TP_LOCALIZACAO_ESC  TP_SIT_FUNC_ESC  \n",
       "1                     NaN                 NaN              NaN  \n",
       "5                     NaN                 NaN              NaN  \n",
       "7                     NaN                 NaN              NaN  \n",
       "8                    2.00                1.00             1.00  \n",
       "9                     NaN                 NaN              NaN  "
      ]
     },
     "execution_count": 8,
     "metadata": {},
     "output_type": "execute_result"
    }
   ],
   "source": [
    "## Let's start by analyzing the following set of columns\n",
    "\n",
    "df2018[['CO_ESCOLA', 'CO_MUNICIPIO_ESC', 'NO_MUNICIPIO_ESC', 'CO_UF_ESC', 'SG_UF_ESC',\n",
    "        'TP_DEPENDENCIA_ADM_ESC', 'TP_LOCALIZACAO_ESC', 'TP_SIT_FUNC_ESC']].head()"
   ]
  },
  {
   "cell_type": "markdown",
   "metadata": {},
   "source": [
    "These columns represent most likely the same information (city and state).\n",
    "However, since most of the high school students study on their own hometown,\n",
    "for most people these information do not bring any extra information .\n",
    "Since most of them are nan-values, let's simply drop them out."
   ]
  },
  {
   "cell_type": "code",
   "execution_count": 9,
   "metadata": {},
   "outputs": [],
   "source": [
    "df2018.drop(columns = ['CO_ESCOLA', 'CO_MUNICIPIO_ESC', 'NO_MUNICIPIO_ESC',\n",
    "                       'CO_UF_ESC', 'SG_UF_ESC', 'TP_DEPENDENCIA_ADM_ESC',\n",
    "                       'TP_LOCALIZACAO_ESC', 'TP_SIT_FUNC_ESC'], inplace = True)"
   ]
  },
  {
   "cell_type": "code",
   "execution_count": 10,
   "metadata": {},
   "outputs": [
    {
     "name": "stdout",
     "output_type": "stream",
     "text": [
      "NO_MUNICIPIO_RESIDENCIA        0\n",
      "SG_UF_RESIDENCIA               0\n",
      "NU_IDADE                       1\n",
      "TP_SEXO                        0\n",
      "TP_ESTADO_CIVIL             2562\n",
      "TP_COR_RACA                    0\n",
      "TP_ST_CONCLUSAO                0\n",
      "TP_ANO_CONCLUIU                0\n",
      "TP_ESCOLA                      0\n",
      "TP_ENSINO                  18093\n",
      "IN_TREINEIRO                   0\n",
      "IN_BAIXA_VISAO                 0\n",
      "IN_CEGUEIRA                    0\n",
      "IN_SURDEZ                      0\n",
      "IN_DEFICIENCIA_AUDITIVA        0\n",
      "dtype: int64\n"
     ]
    }
   ],
   "source": [
    "print(df2018.iloc[:, : 15].isna().sum())"
   ]
  },
  {
   "cell_type": "markdown",
   "metadata": {},
   "source": [
    "The column *TP_ENSINO* corresponds to the kind of school that\n",
    "the student has came from, *i.e.*, regular schools (1), high school\n",
    "done in a shorter time (2) and schools for adults (3). We can take a look\n",
    "on their kind of school and their age to analyse its nan-values and fill\n",
    "at least some of them with some guessing."
   ]
  },
  {
   "cell_type": "code",
   "execution_count": 11,
   "metadata": {},
   "outputs": [
    {
     "data": {
      "text/html": [
       "<div>\n",
       "<style scoped>\n",
       "    .dataframe tbody tr th:only-of-type {\n",
       "        vertical-align: middle;\n",
       "    }\n",
       "\n",
       "    .dataframe tbody tr th {\n",
       "        vertical-align: top;\n",
       "    }\n",
       "\n",
       "    .dataframe thead th {\n",
       "        text-align: right;\n",
       "    }\n",
       "</style>\n",
       "<table border=\"1\" class=\"dataframe\">\n",
       "  <thead>\n",
       "    <tr style=\"text-align: right;\">\n",
       "      <th></th>\n",
       "      <th>NU_IDADE</th>\n",
       "      <th>TP_ENSINO</th>\n",
       "    </tr>\n",
       "  </thead>\n",
       "  <tbody>\n",
       "    <tr>\n",
       "      <th>22</th>\n",
       "      <td>29.00</td>\n",
       "      <td>NaN</td>\n",
       "    </tr>\n",
       "    <tr>\n",
       "      <th>27</th>\n",
       "      <td>19.00</td>\n",
       "      <td>NaN</td>\n",
       "    </tr>\n",
       "    <tr>\n",
       "      <th>31</th>\n",
       "      <td>16.00</td>\n",
       "      <td>NaN</td>\n",
       "    </tr>\n",
       "    <tr>\n",
       "      <th>59</th>\n",
       "      <td>16.00</td>\n",
       "      <td>NaN</td>\n",
       "    </tr>\n",
       "    <tr>\n",
       "      <th>122</th>\n",
       "      <td>15.00</td>\n",
       "      <td>NaN</td>\n",
       "    </tr>\n",
       "    <tr>\n",
       "      <th>174</th>\n",
       "      <td>18.00</td>\n",
       "      <td>NaN</td>\n",
       "    </tr>\n",
       "    <tr>\n",
       "      <th>193</th>\n",
       "      <td>19.00</td>\n",
       "      <td>NaN</td>\n",
       "    </tr>\n",
       "    <tr>\n",
       "      <th>203</th>\n",
       "      <td>41.00</td>\n",
       "      <td>NaN</td>\n",
       "    </tr>\n",
       "    <tr>\n",
       "      <th>230</th>\n",
       "      <td>18.00</td>\n",
       "      <td>NaN</td>\n",
       "    </tr>\n",
       "    <tr>\n",
       "      <th>239</th>\n",
       "      <td>19.00</td>\n",
       "      <td>NaN</td>\n",
       "    </tr>\n",
       "  </tbody>\n",
       "</table>\n",
       "</div>"
      ],
      "text/plain": [
       "     NU_IDADE  TP_ENSINO\n",
       "22      29.00        NaN\n",
       "27      19.00        NaN\n",
       "31      16.00        NaN\n",
       "59      16.00        NaN\n",
       "122     15.00        NaN\n",
       "174     18.00        NaN\n",
       "193     19.00        NaN\n",
       "203     41.00        NaN\n",
       "230     18.00        NaN\n",
       "239     19.00        NaN"
      ]
     },
     "execution_count": 11,
     "metadata": {},
     "output_type": "execute_result"
    }
   ],
   "source": [
    "# Okay, there a bunch of people younger than 17-18 (which is\n",
    "#the age that most people are finishing their high schools), so for\n",
    "#these people we can fill up with regular school right away\n",
    "\n",
    "df2018[['NU_IDADE', 'TP_ENSINO']][df2018.TP_ENSINO.isna()].head(10)"
   ]
  },
  {
   "cell_type": "code",
   "execution_count": 12,
   "metadata": {},
   "outputs": [
    {
     "data": {
      "text/plain": [
       "1.00    60190\n",
       "NaN      8107\n",
       "3.00     4355\n",
       "2.00      284\n",
       "Name: TP_ENSINO, dtype: int64"
      ]
     },
     "execution_count": 12,
     "metadata": {},
     "output_type": "execute_result"
    }
   ],
   "source": [
    "cond = (df2018.TP_ENSINO.isna()) & (df2018.NU_IDADE <= 20)\n",
    "\n",
    "df2018.loc[cond] = df2018.loc[cond].fillna(1)\n",
    "\n",
    "df2018.TP_ENSINO.value_counts(dropna = False)"
   ]
  },
  {
   "cell_type": "markdown",
   "metadata": {},
   "source": [
    "The rest of nan-values probably lie within the groups 2 or 3.\n",
    "However the data is pretty unbalanced and we might join the groups\n",
    "2 and 3 together later on."
   ]
  },
  {
   "cell_type": "code",
   "execution_count": 13,
   "metadata": {},
   "outputs": [
    {
     "name": "stdout",
     "output_type": "stream",
     "text": [
      "NO_MUNICIPIO_RESIDENCIA       0\n",
      "SG_UF_RESIDENCIA              0\n",
      "NU_IDADE                      1\n",
      "TP_SEXO                       0\n",
      "TP_ESTADO_CIVIL            2394\n",
      "TP_COR_RACA                   0\n",
      "TP_ST_CONCLUSAO               0\n",
      "TP_ANO_CONCLUIU               0\n",
      "TP_ESCOLA                     0\n",
      "TP_ENSINO                     0\n",
      "dtype: int64\n"
     ]
    }
   ],
   "source": [
    "df2018.TP_ENSINO = df2018.TP_ENSINO.fillna(2)\n",
    "\n",
    "print(df2018.iloc[:, : 10].isna().sum())"
   ]
  },
  {
   "cell_type": "markdown",
   "metadata": {},
   "source": [
    "### Analyzing the marital status of the applicants"
   ]
  },
  {
   "cell_type": "code",
   "execution_count": 14,
   "metadata": {},
   "outputs": [
    {
     "data": {
      "text/plain": [
       "0.00    63740\n",
       "1.00     5842\n",
       "NaN      2394\n",
       "2.00      908\n",
       "3.00       52\n",
       "Name: TP_ESTADO_CIVIL, dtype: int64"
      ]
     },
     "execution_count": 14,
     "metadata": {},
     "output_type": "execute_result"
    }
   ],
   "source": [
    "## Again, even filling the nan-values properly, it won't help that much\n",
    "## due to unbalanced data. Therefore we will split it later on single and non-single people\n",
    "\n",
    "df2018.TP_ESTADO_CIVIL.value_counts(dropna = False)"
   ]
  },
  {
   "cell_type": "code",
   "execution_count": 15,
   "metadata": {},
   "outputs": [],
   "source": [
    "cond = (df2018.TP_ESTADO_CIVIL.isna()) & (df2018.NU_IDADE <= 25)\n",
    "cols = ['TP_ESTADO_CIVIL', 'NU_IDADE']\n",
    "\n",
    "df2018.loc[cond, cols] = df2018.loc[cond, cols].fillna(0)\n",
    "\n",
    "df2018.TP_ESTADO_CIVIL = df2018.TP_ESTADO_CIVIL.fillna(1)"
   ]
  },
  {
   "cell_type": "code",
   "execution_count": 16,
   "metadata": {},
   "outputs": [
    {
     "name": "stdout",
     "output_type": "stream",
     "text": [
      "NO_MUNICIPIO_RESIDENCIA    0\n",
      "SG_UF_RESIDENCIA           0\n",
      "NU_IDADE                   0\n",
      "TP_SEXO                    0\n",
      "TP_ESTADO_CIVIL            0\n",
      "TP_COR_RACA                0\n",
      "dtype: int64\n"
     ]
    }
   ],
   "source": [
    "# Filling the missing data related to age\n",
    "\n",
    "df2018.NU_IDADE = df2018.NU_IDADE.fillna(round(df2018.NU_IDADE.mean()))\n",
    "\n",
    "print(df2018.iloc[:, : 6].isna().sum())"
   ]
  },
  {
   "cell_type": "markdown",
   "metadata": {},
   "source": [
    "### Dealing with the students which scored zero in the essay\n",
    "\n",
    "When someone scores zero in the essay this applicant will not be able to enroll\n",
    "most of the universties. Therefore, it is safe to drop them out. Let's investigate"
   ]
  },
  {
   "cell_type": "code",
   "execution_count": 17,
   "metadata": {},
   "outputs": [
    {
     "name": "stdout",
     "output_type": "stream",
     "text": [
      "1046\n",
      "0\n"
     ]
    }
   ],
   "source": [
    "print(len(df2018.NU_NOTA_REDACAO[df2018.NU_NOTA_REDACAO == 0]))\n",
    "\n",
    "## If someone scored 0 at the essay it won't be accept in most\n",
    "## of the universities. So we will drop this candidate\n",
    "df2018 = df2018[df2018.NU_NOTA_REDACAO != 0]\n",
    "\n",
    "print(len(df2018.NU_NOTA_REDACAO[df2018.NU_NOTA_REDACAO == 0]))"
   ]
  },
  {
   "cell_type": "code",
   "execution_count": 18,
   "metadata": {},
   "outputs": [],
   "source": [
    "# Checking those students which were present in the tests\n",
    "\n"
   ]
  },
  {
   "cell_type": "markdown",
   "metadata": {},
   "source": [
    "## Some feature engineering\n",
    "\n",
    "There are some information which are not particularly relevant due to how unbalanced is the data in some features.\n",
    "One of them is the marital status. Most people applying is single and the rest is divided into three categories.\n",
    "Might be useful to create:\n",
    "- Single (1) not single (0) instead of marital status.\n",
    "- Regarding the city, it might be worth checking whether the applicant lives in the capital or not."
   ]
  },
  {
   "cell_type": "code",
   "execution_count": 19,
   "metadata": {},
   "outputs": [
    {
     "data": {
      "text/html": [
       "<div>\n",
       "<style scoped>\n",
       "    .dataframe tbody tr th:only-of-type {\n",
       "        vertical-align: middle;\n",
       "    }\n",
       "\n",
       "    .dataframe tbody tr th {\n",
       "        vertical-align: top;\n",
       "    }\n",
       "\n",
       "    .dataframe thead th {\n",
       "        text-align: right;\n",
       "    }\n",
       "</style>\n",
       "<table border=\"1\" class=\"dataframe\">\n",
       "  <thead>\n",
       "    <tr style=\"text-align: right;\">\n",
       "      <th></th>\n",
       "      <th>NO_MUNICIPIO_RESIDENCIA</th>\n",
       "      <th>capital_or_not</th>\n",
       "    </tr>\n",
       "  </thead>\n",
       "  <tbody>\n",
       "    <tr>\n",
       "      <th>1</th>\n",
       "      <td>São João dos Patos</td>\n",
       "      <td>0</td>\n",
       "    </tr>\n",
       "    <tr>\n",
       "      <th>5</th>\n",
       "      <td>João Pessoa</td>\n",
       "      <td>1</td>\n",
       "    </tr>\n",
       "    <tr>\n",
       "      <th>7</th>\n",
       "      <td>Parnaíba</td>\n",
       "      <td>0</td>\n",
       "    </tr>\n",
       "    <tr>\n",
       "      <th>8</th>\n",
       "      <td>Fortaleza</td>\n",
       "      <td>1</td>\n",
       "    </tr>\n",
       "    <tr>\n",
       "      <th>9</th>\n",
       "      <td>Cuiabá</td>\n",
       "      <td>1</td>\n",
       "    </tr>\n",
       "    <tr>\n",
       "      <th>...</th>\n",
       "      <td>...</td>\n",
       "      <td>...</td>\n",
       "    </tr>\n",
       "    <tr>\n",
       "      <th>99994</th>\n",
       "      <td>São Paulo</td>\n",
       "      <td>1</td>\n",
       "    </tr>\n",
       "    <tr>\n",
       "      <th>99995</th>\n",
       "      <td>Sertãozinho</td>\n",
       "      <td>0</td>\n",
       "    </tr>\n",
       "    <tr>\n",
       "      <th>99996</th>\n",
       "      <td>Teresina</td>\n",
       "      <td>1</td>\n",
       "    </tr>\n",
       "    <tr>\n",
       "      <th>99997</th>\n",
       "      <td>São Luís</td>\n",
       "      <td>1</td>\n",
       "    </tr>\n",
       "    <tr>\n",
       "      <th>99999</th>\n",
       "      <td>Patos</td>\n",
       "      <td>0</td>\n",
       "    </tr>\n",
       "  </tbody>\n",
       "</table>\n",
       "<p>71890 rows × 2 columns</p>\n",
       "</div>"
      ],
      "text/plain": [
       "      NO_MUNICIPIO_RESIDENCIA  capital_or_not\n",
       "1          São João dos Patos               0\n",
       "5                 João Pessoa               1\n",
       "7                    Parnaíba               0\n",
       "8                   Fortaleza               1\n",
       "9                      Cuiabá               1\n",
       "...                       ...             ...\n",
       "99994               São Paulo               1\n",
       "99995             Sertãozinho               0\n",
       "99996                Teresina               1\n",
       "99997                São Luís               1\n",
       "99999                   Patos               0\n",
       "\n",
       "[71890 rows x 2 columns]"
      ]
     },
     "execution_count": 19,
     "metadata": {},
     "output_type": "execute_result"
    }
   ],
   "source": [
    "## Creating the capital information\n",
    "\n",
    "state_capitals = ['Rio Branco', 'Macapá', 'Manaus', 'Belém', 'Porto Velho', 'Boa Vista', 'Palmas', 'Maceió', 'Salvador', 'Fortaleza',\n",
    "               'São Luís', 'João Pessoa', 'Recife', 'Teresina', 'Natal', 'Aracaju', 'Goiânia', 'Cuiabá', 'Campo Grande', 'Brasília',\n",
    "               'Vitória', 'Belo Horizonte', 'São Paulo', 'Rio de Janeiro', 'Curitiba', 'Porto Alegre', 'Florianópolis']\n",
    "\n",
    "df2018['capital_or_not'] = df2018['NO_MUNICIPIO_RESIDENCIA'].isin(state_capitals)\n",
    "df2018['capital_or_not'] = df2018['capital_or_not'].apply(lambda row : 1 if row == True else 0)\n",
    "\n",
    "df2018[['NO_MUNICIPIO_RESIDENCIA', 'capital_or_not']]\n",
    "\n",
    "#df2018 = df2018.drop(columns = ['NO_MUNICIPIO_RESIDENCIA'])"
   ]
  },
  {
   "cell_type": "code",
   "execution_count": 20,
   "metadata": {},
   "outputs": [
    {
     "data": {
      "text/html": [
       "<div>\n",
       "<style scoped>\n",
       "    .dataframe tbody tr th:only-of-type {\n",
       "        vertical-align: middle;\n",
       "    }\n",
       "\n",
       "    .dataframe tbody tr th {\n",
       "        vertical-align: top;\n",
       "    }\n",
       "\n",
       "    .dataframe thead th {\n",
       "        text-align: right;\n",
       "    }\n",
       "</style>\n",
       "<table border=\"1\" class=\"dataframe\">\n",
       "  <thead>\n",
       "    <tr style=\"text-align: right;\">\n",
       "      <th></th>\n",
       "      <th>single_or_not</th>\n",
       "      <th>TP_ESTADO_CIVIL</th>\n",
       "    </tr>\n",
       "  </thead>\n",
       "  <tbody>\n",
       "    <tr>\n",
       "      <th>1</th>\n",
       "      <td>1</td>\n",
       "      <td>0.00</td>\n",
       "    </tr>\n",
       "    <tr>\n",
       "      <th>5</th>\n",
       "      <td>1</td>\n",
       "      <td>0.00</td>\n",
       "    </tr>\n",
       "    <tr>\n",
       "      <th>7</th>\n",
       "      <td>0</td>\n",
       "      <td>1.00</td>\n",
       "    </tr>\n",
       "    <tr>\n",
       "      <th>8</th>\n",
       "      <td>1</td>\n",
       "      <td>0.00</td>\n",
       "    </tr>\n",
       "    <tr>\n",
       "      <th>9</th>\n",
       "      <td>1</td>\n",
       "      <td>0.00</td>\n",
       "    </tr>\n",
       "    <tr>\n",
       "      <th>12</th>\n",
       "      <td>1</td>\n",
       "      <td>0.00</td>\n",
       "    </tr>\n",
       "    <tr>\n",
       "      <th>13</th>\n",
       "      <td>1</td>\n",
       "      <td>0.00</td>\n",
       "    </tr>\n",
       "    <tr>\n",
       "      <th>16</th>\n",
       "      <td>1</td>\n",
       "      <td>0.00</td>\n",
       "    </tr>\n",
       "    <tr>\n",
       "      <th>17</th>\n",
       "      <td>1</td>\n",
       "      <td>0.00</td>\n",
       "    </tr>\n",
       "    <tr>\n",
       "      <th>18</th>\n",
       "      <td>1</td>\n",
       "      <td>0.00</td>\n",
       "    </tr>\n",
       "  </tbody>\n",
       "</table>\n",
       "</div>"
      ],
      "text/plain": [
       "    single_or_not  TP_ESTADO_CIVIL\n",
       "1               1             0.00\n",
       "5               1             0.00\n",
       "7               0             1.00\n",
       "8               1             0.00\n",
       "9               1             0.00\n",
       "12              1             0.00\n",
       "13              1             0.00\n",
       "16              1             0.00\n",
       "17              1             0.00\n",
       "18              1             0.00"
      ]
     },
     "execution_count": 20,
     "metadata": {},
     "output_type": "execute_result"
    }
   ],
   "source": [
    "df2018['single_or_not'] = df2018['TP_ESTADO_CIVIL'].apply(lambda row: 1 if row ==  0 else 0)\n",
    "\n",
    "df2018[['single_or_not','TP_ESTADO_CIVIL']].head(10)"
   ]
  },
  {
   "cell_type": "markdown",
   "metadata": {},
   "source": [
    "## Recap the plan\n",
    "\n",
    "The main idea of this project is to show how relevant social status is in the development of someone.\n",
    "Unfortunately Brazil doesn't have, in general, good public schools (apart from the federal ones, which\n",
    "are quite good indeed, but you access them from a test, and again we fall in the same pit, if you have\n",
    "money you can pay for preparatory courses or just good private schools). So the main idea was to developed\n",
    "a regressor which can predict grades based on social information. But I am not particularly specifically\n",
    "on the grades, I could make a classification problem and specify some ranges, for example, if someone is\n",
    "above or below the average of an specific grade.\n",
    "\n",
    "In attempt to do so, let's create 5 columns which are going to be our target variable turning it into\n",
    "a classification problem."
   ]
  },
  {
   "cell_type": "code",
   "execution_count": 21,
   "metadata": {},
   "outputs": [],
   "source": [
    "avg_cn = round(df2018.NU_NOTA_CN.mean())\n",
    "avg_ch = round(df2018.NU_NOTA_CH.mean())\n",
    "avg_lc = round(df2018.NU_NOTA_LC.mean())\n",
    "avg_mt = round(df2018.NU_NOTA_MT.mean())\n",
    "avg_red = round(df2018.NU_NOTA_REDACAO.mean())\n",
    "\n",
    "## Creating the columns for above or below the mean for each subject\n",
    "\n",
    "df2018_clf = df2018.copy()\n",
    "df2018_clf = df2018_clf[df2018_clf.Q026 != 1]\n",
    "df2018_clf['above_below_avg_cn'] = df2018_clf['NU_NOTA_CN'].apply(lambda row: 0 if row < avg_cn else 1)\n",
    "df2018_clf['above_below_avg_ch'] = df2018_clf['NU_NOTA_CH'].apply(lambda row: 0 if row < avg_ch else 1)\n",
    "df2018_clf['above_below_avg_lc'] = df2018_clf['NU_NOTA_LC'].apply(lambda row: 0 if row < avg_lc else 1)\n",
    "df2018_clf['above_below_avg_mt'] = df2018_clf['NU_NOTA_MT'].apply(lambda row: 0 if row < avg_mt else 1)\n",
    "df2018_clf['above_below_avg_red'] = df2018_clf['NU_NOTA_REDACAO'].apply(lambda row: 0 if row < avg_red else 1)"
   ]
  },
  {
   "cell_type": "code",
   "execution_count": 22,
   "metadata": {},
   "outputs": [
    {
     "name": "stdout",
     "output_type": "stream",
     "text": [
      "499\n"
     ]
    },
    {
     "data": {
      "text/html": [
       "<div>\n",
       "<style scoped>\n",
       "    .dataframe tbody tr th:only-of-type {\n",
       "        vertical-align: middle;\n",
       "    }\n",
       "\n",
       "    .dataframe tbody tr th {\n",
       "        vertical-align: top;\n",
       "    }\n",
       "\n",
       "    .dataframe thead th {\n",
       "        text-align: right;\n",
       "    }\n",
       "</style>\n",
       "<table border=\"1\" class=\"dataframe\">\n",
       "  <thead>\n",
       "    <tr style=\"text-align: right;\">\n",
       "      <th></th>\n",
       "      <th>above_below_avg_cn</th>\n",
       "      <th>NU_NOTA_CN</th>\n",
       "    </tr>\n",
       "  </thead>\n",
       "  <tbody>\n",
       "    <tr>\n",
       "      <th>1</th>\n",
       "      <td>1</td>\n",
       "      <td>521.00</td>\n",
       "    </tr>\n",
       "    <tr>\n",
       "      <th>5</th>\n",
       "      <td>0</td>\n",
       "      <td>461.80</td>\n",
       "    </tr>\n",
       "    <tr>\n",
       "      <th>7</th>\n",
       "      <td>1</td>\n",
       "      <td>499.30</td>\n",
       "    </tr>\n",
       "    <tr>\n",
       "      <th>8</th>\n",
       "      <td>0</td>\n",
       "      <td>411.80</td>\n",
       "    </tr>\n",
       "    <tr>\n",
       "      <th>9</th>\n",
       "      <td>0</td>\n",
       "      <td>469.40</td>\n",
       "    </tr>\n",
       "    <tr>\n",
       "      <th>12</th>\n",
       "      <td>0</td>\n",
       "      <td>467.40</td>\n",
       "    </tr>\n",
       "    <tr>\n",
       "      <th>13</th>\n",
       "      <td>1</td>\n",
       "      <td>625.50</td>\n",
       "    </tr>\n",
       "    <tr>\n",
       "      <th>16</th>\n",
       "      <td>0</td>\n",
       "      <td>478.50</td>\n",
       "    </tr>\n",
       "    <tr>\n",
       "      <th>17</th>\n",
       "      <td>1</td>\n",
       "      <td>521.80</td>\n",
       "    </tr>\n",
       "    <tr>\n",
       "      <th>18</th>\n",
       "      <td>0</td>\n",
       "      <td>397.70</td>\n",
       "    </tr>\n",
       "  </tbody>\n",
       "</table>\n",
       "</div>"
      ],
      "text/plain": [
       "    above_below_avg_cn  NU_NOTA_CN\n",
       "1                    1      521.00\n",
       "5                    0      461.80\n",
       "7                    1      499.30\n",
       "8                    0      411.80\n",
       "9                    0      469.40\n",
       "12                   0      467.40\n",
       "13                   1      625.50\n",
       "16                   0      478.50\n",
       "17                   1      521.80\n",
       "18                   0      397.70"
      ]
     },
     "execution_count": 22,
     "metadata": {},
     "output_type": "execute_result"
    }
   ],
   "source": [
    "## Let's check that it is working properly\n",
    "\n",
    "print(avg_cn)\n",
    "\n",
    "df2018_clf[['above_below_avg_cn', 'NU_NOTA_CN']].head(10)"
   ]
  },
  {
   "cell_type": "code",
   "execution_count": 23,
   "metadata": {},
   "outputs": [],
   "source": [
    "## Dropping the scores per se and keeping only the above_below avg\n",
    "\n",
    "df2018_clf = df2018_clf.drop(columns = ['NU_NOTA_CN', 'NU_NOTA_CH', 'NU_NOTA_LC', 'NU_NOTA_MT', 'NU_NOTA_REDACAO'])"
   ]
  },
  {
   "cell_type": "markdown",
   "metadata": {},
   "source": [
    "## Final checks\n",
    "\n",
    "Verifying all the columns and looking for some redundancy\n",
    "and identifying those which will be  categorical"
   ]
  },
  {
   "cell_type": "code",
   "execution_count": 24,
   "metadata": {},
   "outputs": [
    {
     "data": {
      "text/plain": [
       "Index(['NO_MUNICIPIO_RESIDENCIA', 'SG_UF_RESIDENCIA', 'NU_IDADE', 'TP_SEXO',\n",
       "       'TP_ESTADO_CIVIL', 'TP_COR_RACA', 'TP_ST_CONCLUSAO', 'TP_ANO_CONCLUIU',\n",
       "       'TP_ESCOLA', 'TP_ENSINO', 'IN_TREINEIRO', 'IN_BAIXA_VISAO',\n",
       "       'IN_CEGUEIRA', 'IN_SURDEZ', 'IN_DEFICIENCIA_AUDITIVA',\n",
       "       'IN_SURDO_CEGUEIRA', 'IN_DEFICIENCIA_FISICA', 'IN_DEFICIENCIA_MENTAL',\n",
       "       'IN_DEFICIT_ATENCAO', 'IN_DISLEXIA', 'IN_DISCALCULIA', 'IN_AUTISMO',\n",
       "       'IN_VISAO_MONOCULAR', 'IN_OUTRA_DEF', 'IN_GESTANTE', 'IN_LACTANTE',\n",
       "       'IN_IDOSO', 'IN_ESTUDA_CLASSE_HOSPITALAR', 'IN_SEM_RECURSO',\n",
       "       'IN_BRAILLE', 'IN_AMPLIADA_24', 'IN_AMPLIADA_18', 'IN_LEDOR',\n",
       "       'IN_ACESSO', 'IN_TRANSCRICAO', 'IN_LIBRAS', 'IN_LEITURA_LABIAL',\n",
       "       'IN_MESA_CADEIRA_RODAS', 'IN_MESA_CADEIRA_SEPARADA', 'IN_APOIO_PERNA',\n",
       "       'IN_GUIA_INTERPRETE', 'IN_COMPUTADOR', 'IN_CADEIRA_ESPECIAL',\n",
       "       'IN_CADEIRA_CANHOTO', 'IN_CADEIRA_ACOLCHOADA', 'IN_PROVA_DEITADO',\n",
       "       'IN_MOBILIARIO_OBESO', 'IN_LAMINA_OVERLAY', 'IN_PROTETOR_AURICULAR',\n",
       "       'IN_MEDIDOR_GLICOSE', 'IN_MAQUINA_BRAILE', 'IN_SOROBAN',\n",
       "       'IN_MARCA_PASSO', 'IN_SONDA', 'IN_MEDICAMENTOS', 'IN_SALA_INDIVIDUAL',\n",
       "       'IN_SALA_ESPECIAL', 'IN_SALA_ACOMPANHANTE', 'IN_MOBILIARIO_ESPECIFICO',\n",
       "       'IN_MATERIAL_ESPECIFICO', 'IN_NOME_SOCIAL', 'CO_MUNICIPIO_PROVA',\n",
       "       'NO_MUNICIPIO_PROVA', 'CO_UF_PROVA', 'SG_UF_PROVA', 'TP_LINGUA', 'Q001',\n",
       "       'Q002', 'Q003', 'Q004', 'Q005', 'Q006', 'Q007', 'Q008', 'Q009', 'Q010',\n",
       "       'Q011', 'Q012', 'Q013', 'Q014', 'Q015', 'Q016', 'Q017', 'Q018', 'Q019',\n",
       "       'Q020', 'Q021', 'Q022', 'Q023', 'Q024', 'Q025', 'Q026', 'Q027',\n",
       "       'capital_or_not', 'single_or_not', 'above_below_avg_cn',\n",
       "       'above_below_avg_ch', 'above_below_avg_lc', 'above_below_avg_mt',\n",
       "       'above_below_avg_red'],\n",
       "      dtype='object')"
      ]
     },
     "execution_count": 24,
     "metadata": {},
     "output_type": "execute_result"
    }
   ],
   "source": [
    "## for most people the columns  cols remove are redundant to those that people leave., let's drop them\n",
    "cols_remove = ['CO_MUNICIPIO_PROVA', 'NO_MUNICIPIO_PROVA', 'CO_UF_PROVA', 'SG_UF_PROVA']\n",
    "\n",
    "df2018_clf.columns"
   ]
  },
  {
   "cell_type": "code",
   "execution_count": 25,
   "metadata": {},
   "outputs": [],
   "source": [
    "df2018_clf.drop(columns = cols_remove, inplace = True)"
   ]
  },
  {
   "cell_type": "code",
   "execution_count": 26,
   "metadata": {},
   "outputs": [],
   "source": [
    "#Dropping the NO_MUNICIPIO_RESIDENCIA since it would include too much variables after OHE\n",
    "\n",
    "df2018_clf = df2018_clf.drop(columns = ['NO_MUNICIPIO_RESIDENCIA'])"
   ]
  },
  {
   "cell_type": "markdown",
   "metadata": {},
   "source": [
    "<a id='ordering_categorical'></a>\n",
    "## Arranging the ordered categorical features\n",
    "\n",
    "\n",
    "Q001 and Q002 corresponds to the parents education level, father and mother, respectively. Despite of not being a direct correspondence, those which achieve a higher level of education tend to have a better chance to haver higher salaries and all that we have already discussed. Let's then set a numerical order to them"
   ]
  },
  {
   "cell_type": "code",
   "execution_count": 26,
   "metadata": {},
   "outputs": [],
   "source": [
    "Q1_Q2 = {'A' : 0, 'B' : 1, 'C' : 2, 'D' : 3, 'E' : 4, 'F' : 5, 'G' : 6, 'H' : -999}\n",
    "\n",
    "#A CORRESPONDS TO NEVER STUDIED AND H CORRESPONDS TO THOSE WHICH DOESN'T HAVE THE INFORMATION\n",
    "\n",
    "## Making the transformation\n",
    "df2018_clf['Q001'] = df2018_clf['Q001'].apply(lambda row : Q1_Q2[row])\n",
    "df2018_clf['Q002'] = df2018_clf['Q002'].apply(lambda row : Q1_Q2[row])"
   ]
  },
  {
   "cell_type": "markdown",
   "metadata": {},
   "source": [
    "Q003 and Q004 correspond to the job of father and mother, respectively.\n",
    "Again, despite of having a direct connection, these classes also correspond\n",
    "to some \"order\" in the \"social ladder\". For example, the drivers are in group\n",
    "C and the owners of small stores/entreprenour with less than 10 employees are\n",
    "in group D. As the former, if you are a driver of a celebrity or of a politician,\n",
    "you might have a very high salary, even being better paid than some medics or high-rank\n",
    "officers, however, that is not generally the case. Also, to what concerns the group\n",
    "D, you were an owner of a loto store 10-15 years ago you would earn per month\n",
    "*way more* than the vast majority of medics, engineers and all the carreers in group E.\n",
    "\n",
    "Since it seems like a \"rule\" let's stick with our plan of analyzing it with certain\n",
    "order."
   ]
  },
  {
   "cell_type": "code",
   "execution_count": 27,
   "metadata": {},
   "outputs": [],
   "source": [
    "Q3_Q4 = {'A' : 1, 'B' : 2, 'C' : 3, 'D' : 4, 'E' : 5, 'F' : -999}\n",
    "\n",
    "# WHERE F CORRESPONDS TO THOSE WHICH DO NOT KNOW\n",
    "\n",
    "## Making the transformation\n",
    "df2018_clf['Q003'] = df2018_clf['Q003'].apply(lambda row : Q3_Q4[row])\n",
    "df2018_clf['Q004'] = df2018_clf['Q004'].apply(lambda row : Q3_Q4[row])"
   ]
  },
  {
   "cell_type": "markdown",
   "metadata": {},
   "source": [
    "We are basically transforming the Q001-Q004 to ordering-categorical data\n",
    "Q005 is a non-categorical data\n",
    "\n",
    "Q006 is about family income, Q007 is about if you have a housekeeper working\n",
    "at your place and how many days. Again, let's set some ordering to them"
   ]
  },
  {
   "cell_type": "code",
   "execution_count": 180,
   "metadata": {},
   "outputs": [],
   "source": [
    "Q6_Q7 = {'A' : 0, 'B' : 1, 'C' : 2, 'D' : 3, 'E' : 4, 'F' : 5, 'G' : 6, 'H' : 7,\n",
    "         'I' : 8, 'J' : 9, 'K' : 10, 'L' : 11, 'M' : 12, 'N' : 13, 'O' : 14, 'P' : 15, 'Q' : 16}\n",
    "\n",
    "# Q006 A CORRESPONDS TO NO INCOME, Q007 CORRESPONDS TO NO HOUSEKEEPER.\n",
    "\n",
    "## Making the transformation\n",
    "df2018_clf['Q006'] = df2018_clf['Q006'].apply(lambda row : Q6_Q7[row])\n",
    "df2018_clf['Q007'] = df2018_clf['Q007'].apply(lambda row : Q6_Q7[row])"
   ]
  },
  {
   "cell_type": "markdown",
   "metadata": {},
   "source": [
    "From Q008 to Q0017 all the questions are regarding to number of rooms,\n",
    "number of bathrooms, etc... in the house. So it also has an ordering in it,\n",
    "so let's stick to the plan and also convert them"
   ]
  },
  {
   "cell_type": "code",
   "execution_count": 181,
   "metadata": {},
   "outputs": [],
   "source": [
    "df2018_clf['Q008'] = df2018_clf['Q008'].apply(lambda row : Q6_Q7[row])\n",
    "df2018_clf['Q009'] = df2018_clf['Q009'].apply(lambda row : Q6_Q7[row])\n",
    "df2018_clf['Q010'] = df2018_clf['Q010'].apply(lambda row : Q6_Q7[row])\n",
    "df2018_clf['Q011'] = df2018_clf['Q011'].apply(lambda row : Q6_Q7[row])\n",
    "df2018_clf['Q012'] = df2018_clf['Q012'].apply(lambda row : Q6_Q7[row])\n",
    "df2018_clf['Q013'] = df2018_clf['Q013'].apply(lambda row : Q6_Q7[row])\n",
    "df2018_clf['Q014'] = df2018_clf['Q014'].apply(lambda row : Q6_Q7[row])\n",
    "df2018_clf['Q015'] = df2018_clf['Q015'].apply(lambda row : Q6_Q7[row])\n",
    "df2018_clf['Q016'] = df2018_clf['Q016'].apply(lambda row : Q6_Q7[row])\n",
    "df2018_clf['Q017'] = df2018_clf['Q017'].apply(lambda row : Q6_Q7[row])"
   ]
  },
  {
   "cell_type": "markdown",
   "metadata": {},
   "source": [
    "From Q018 to Q015 it is basically yes-no question about\n",
    "having TV or not, having internet access or not, so we can\n",
    "also do the same."
   ]
  },
  {
   "cell_type": "code",
   "execution_count": 182,
   "metadata": {},
   "outputs": [],
   "source": [
    "df2018_clf['Q018'] = df2018_clf['Q018'].apply(lambda row : Q6_Q7[row])\n",
    "df2018_clf['Q019'] = df2018_clf['Q019'].apply(lambda row : Q6_Q7[row])\n",
    "df2018_clf['Q020'] = df2018_clf['Q020'].apply(lambda row : Q6_Q7[row])\n",
    "df2018_clf['Q021'] = df2018_clf['Q021'].apply(lambda row : Q6_Q7[row])\n",
    "df2018_clf['Q022'] = df2018_clf['Q022'].apply(lambda row : Q6_Q7[row])\n",
    "df2018_clf['Q023'] = df2018_clf['Q023'].apply(lambda row : Q6_Q7[row])\n",
    "df2018_clf['Q024'] = df2018_clf['Q024'].apply(lambda row : Q6_Q7[row])\n",
    "df2018_clf['Q025'] = df2018_clf['Q025'].apply(lambda row : Q6_Q7[row])"
   ]
  },
  {
   "cell_type": "markdown",
   "metadata": {},
   "source": [
    "Q026 and Q027 could have some ordering if we have more\n",
    "information about them, so let's keep them as they are.\n",
    "\n",
    "## Partial conclusion\n",
    "\n",
    "To sum up, among all the 27 questions the only ones which didn't\n",
    "have an order involved are Q026 and Q027. Consequently,\n",
    "in the next LabelEncoder() all other questions will skept but Q026 and Q027.\n",
    "\n",
    "Taking a closer look on the data, we also see that the column \"TP_ANO_CONCLUIU\"\n",
    "also brings some ordering in it. It tells the year the the applicant finished\n",
    "his highschool. 0 corresponds to \"didn't answer\", 1 corresponds \"finish in the\n",
    "year of the exam\", 2 \"previous year\", so it has some ordering indeed.\n",
    "However, 0 didn't have any directly connect to the other, therefore, lets set\n",
    "it to -999"
   ]
  },
  {
   "cell_type": "code",
   "execution_count": 183,
   "metadata": {},
   "outputs": [
    {
     "name": "stdout",
     "output_type": "stream",
     "text": [
      "['Q001', 'Q002', 'Q003', 'Q004', 'Q005', 'Q006', 'Q007', 'Q008', 'Q009', 'Q010', 'Q011', 'Q012', 'Q013', 'Q014', 'Q015', 'Q016', 'Q017', 'Q018', 'Q019', 'Q020', 'Q021', 'Q022', 'Q023', 'Q024', 'Q025', 'NU_IDADE', 'TP_ANO_CONCLUIU']\n"
     ]
    }
   ],
   "source": [
    "## correcting the TP_ANO_CONCLUIU column\n",
    "\n",
    "df2018_clf['TP_ANO_CONCLUIU'] = df2018_clf['TP_ANO_CONCLUIU'].apply(lambda row : -999 if row == 0 else row)\n",
    "\n",
    "#print(X['TP_ANO_CONCLUIU'].unique())\n",
    "\n",
    "cols_questions = list(df2018_clf.columns[-34: -9])\n",
    "\n",
    "cols = cols_questions + ['NU_IDADE','TP_ANO_CONCLUIU']\n",
    "\n",
    "print(cols)"
   ]
  },
  {
   "cell_type": "code",
   "execution_count": 184,
   "metadata": {},
   "outputs": [],
   "source": [
    "#X.loc[:, X.columns != cols] = X.loc[:, X.columns != cols].apply(LabelEncoder().fit_transform)\n",
    "\n",
    "#X.head()\n",
    "\n",
    "le = LabelEncoder()\n",
    "\n",
    "df2018_clf[df2018_clf.columns.difference(cols)] = df2018_clf[df2018_clf.columns.difference(cols)].apply(le.fit_transform)"
   ]
  },
  {
   "cell_type": "code",
   "execution_count": 185,
   "metadata": {},
   "outputs": [],
   "source": [
    "cols = ['above_below_avg_cn', 'above_below_avg_ch', 'above_below_avg_lc', 'above_below_avg_mt', 'above_below_avg_red']\n",
    "\n",
    "X = df2018_clf.drop(columns = cols).copy()\n",
    "\n",
    "y_cn = df2018_clf[cols[0]].copy()\n",
    "y_ch = df2018_clf[cols[1]].copy()\n",
    "y_lc = df2018_clf[cols[2]].copy()\n",
    "y_mt = df2018_clf[cols[3]].copy()\n",
    "y_red = df2018_clf[cols[4]].copy()"
   ]
  },
  {
   "cell_type": "code",
   "execution_count": 187,
   "metadata": {},
   "outputs": [],
   "source": [
    "cat_col = ['SG_UF_RESIDENCIA', 'TP_ESTADO_CIVIL', 'TP_COR_RACA', 'TP_ST_CONCLUSAO',\n",
    "          'TP_ESCOLA', 'TP_ENSINO']\n",
    "\n",
    "\n",
    "X_ohe = pd.get_dummies(X[cat_col], columns = cat_col)\n",
    "\n",
    "X_ohe = pd.concat([X.drop(columns = cat_col), X_ohe], axis=1, join=\"inner\")"
   ]
  },
  {
   "cell_type": "markdown",
   "metadata": {},
   "source": [
    "<a id='logistic_regression'></a>\n",
    "## Testing some models - Logistic Regression\n",
    "\n",
    "Our baseline model is going to be a simple logistic regression model.\n",
    "Let's see how it performs and try some more sofisticated models like\n",
    "RandomForest, XGBoost, LightGBM, etc..."
   ]
  },
  {
   "cell_type": "code",
   "execution_count": 74,
   "metadata": {},
   "outputs": [
    {
     "name": "stdout",
     "output_type": "stream",
     "text": [
      "Cross validation over 5 folds: 0.651\n",
      "Accuracy for the training set: 0.6509 \n",
      "Accuracy for the testing set: 0.655 \n"
     ]
    }
   ],
   "source": [
    "## Train_test_splot\n",
    "X_train_lr, X_test_lr, y_train_lr, y_test_lr = train_test_split(X_ohe, y_cn, train_size = 0.8, random_state = 0)\n",
    "\n",
    "clf_lr = LogisticRegression(random_state = 0)\n",
    "clf_lr.fit(X_train_lr, y_train_lr)\n",
    "\n",
    "y_pred_lr = clf_lr.predict(X_test_lr)\n",
    "\n",
    "print('Cross validation over 5 folds: {}'.format(round(cross_val_score(clf_lr, X_train_lr, y_train_lr, cv = 5).mean(), 4)))\n",
    "print('Accuracy for the training set: {} '.format(round(accuracy_score(y_train_lr, clf_lr.predict(X_train_lr)), 4))) \n",
    "print('Accuracy for the testing set: {} '.format(round(accuracy_score(y_test_lr, y_pred_lr), 4)))"
   ]
  },
  {
   "cell_type": "code",
   "execution_count": 189,
   "metadata": {},
   "outputs": [],
   "source": [
    "threshold_list = []\n",
    "accuracy_list  = []\n",
    "\n",
    "for threshold in np.arange(0.1, 1, 0.01):\n",
    "    threshold = round(threshold, 2)\n",
    "    predicted_proba = clf_lr.predict_proba(X_test)\n",
    "    predicted = (predicted_proba [:,1] >= threshold).astype('int')\n",
    "\n",
    "    accuracy = accuracy_score(y_test, predicted)\n",
    "    \n",
    "    threshold_list.append(threshold)\n",
    "    accuracy_list.append(accuracy)"
   ]
  },
  {
   "cell_type": "markdown",
   "metadata": {},
   "source": [
    "<a id='diff_thresholds_lr'></a>"
   ]
  },
  {
   "cell_type": "code",
   "execution_count": 190,
   "metadata": {},
   "outputs": [
    {
     "data": {
      "image/png": "[encoded data removed]",
      "text/plain": [
       "<Figure size 720x432 with 1 Axes>"
      ]
     },
     "metadata": {
      "needs_background": "light"
     },
     "output_type": "display_data"
    }
   ],
   "source": [
    "fig, ax = plt.subplots(figsize = (10, 6))\n",
    "\n",
    "ax.set_xlabel('Threshold', fontsize = 14)\n",
    "ax.set_ylabel('Accuracy', fontsize = 14)\n",
    "ax.plot(threshold_list, accuracy_list, color = 'black', alpha = 0.6)\n",
    "ax.axvline(x=0.5, color = 'tomato', linestyle = '--', label = 'Threshold = 0.5')\n",
    "ax.scatter(x = 0.53, y = 0.6563, marker = 'D', c = 'blue', label = 'Point of max acc')\n",
    "ax.set_title('Max accuracy of \\n{} at 0.53'.format(round(max(accuracy_list), 4)))\n",
    "\n",
    "plt.legend()\n",
    "\n",
    "plt.show()"
   ]
  },
  {
   "cell_type": "markdown",
   "metadata": {},
   "source": [
    "For saving some time, let's save the data used so far as csv files\n",
    "to be easier to use from now on"
   ]
  },
  {
   "cell_type": "code",
   "execution_count": 191,
   "metadata": {},
   "outputs": [],
   "source": [
    "X.to_csv('X.csv', index = False)\n",
    "X_ohe.to_csv('X_ohe.csv', index = False)\n",
    "df2018_clf['above_below_avg_cn'].to_csv('y_cn.csv', index = False)\n",
    "df2018_clf['above_below_avg_ch'].to_csv('y_ch.csv', index = False)\n",
    "df2018_clf['above_below_avg_lc'].to_csv('y_lc.csv', index = False)\n",
    "df2018_clf['above_below_avg_mt'].to_csv('y_mt.csv', index = False)\n",
    "df2018_clf['above_below_avg_red'].to_csv('y_red.csv', index = False)"
   ]
  },
  {
   "cell_type": "code",
   "execution_count": 192,
   "metadata": {},
   "outputs": [],
   "source": [
    "## And the label encoder for future use\n",
    "dump(le, open('label_encoder.pkl', 'wb'))"
   ]
  },
  {
   "cell_type": "code",
   "execution_count": 28,
   "metadata": {},
   "outputs": [],
   "source": [
    "X = pd.read_csv('X.csv')\n",
    "X_ohe = pd.read_csv('X_ohe.csv')\n",
    "y_cn = pd.read_csv('y_cn.csv')"
   ]
  },
  {
   "cell_type": "markdown",
   "metadata": {},
   "source": [
    "<a id='rf'></a>\n",
    "\n",
    "## Random Forest Classifier\n",
    "\n",
    "Now let's analyse how RandomForest performs on the dataset"
   ]
  },
  {
   "cell_type": "code",
   "execution_count": 194,
   "metadata": {},
   "outputs": [],
   "source": [
    "# Creating the classifier and testing it for the X (no OHE used)\n",
    "\n",
    "X_train, X_test, y_train, y_test = train_test_split(X, y_cn, train_size = 0.8, random_state = 0)\n",
    "\n",
    "clf_rf = RandomForestClassifier()\n",
    "\n",
    "clf_rf.fit(X_train, y_train)\n",
    "\n",
    "y_pred = clf_rf.predict(X_test)"
   ]
  },
  {
   "cell_type": "code",
   "execution_count": 195,
   "metadata": {},
   "outputs": [
    {
     "name": "stdout",
     "output_type": "stream",
     "text": [
      "Accuracy: 0.6507 \n",
      "[[6071 1740]\n",
      " [3282 3285]]\n"
     ]
    },
    {
     "data": {
      "image/png": "[encoded data removed]",
      "text/plain": [
       "<Figure size 432x288 with 2 Axes>"
      ]
     },
     "metadata": {
      "needs_background": "light"
     },
     "output_type": "display_data"
    }
   ],
   "source": [
    "print('Accuracy: {} '.format(round(accuracy_score(y_test, y_pred), 4))) \n",
    "print (confusion_matrix(y_test, y_pred))\n",
    "\n",
    "plot_confusion_matrix(y_true = y_test, estimator = clf_rf, X = X_test)\n",
    "\n",
    "plt.show()"
   ]
  },
  {
   "cell_type": "markdown",
   "metadata": {},
   "source": [
    "Okay, so the model is not as good as I expected. Let's investigate what happens if it is used\n",
    "X_ohe instead. Secondly, let's check whether it is possible to improve the model's performance\n",
    "by dropping some components."
   ]
  },
  {
   "cell_type": "code",
   "execution_count": 196,
   "metadata": {},
   "outputs": [],
   "source": [
    "# Creating the classifier and testing it for the X_ohe\n",
    "\n",
    "X_train, X_test, y_train, y_test = train_test_split(X_ohe, y_cn, train_size = 0.8, random_state = 0)\n",
    "\n",
    "clf_rf = RandomForestClassifier()\n",
    "\n",
    "clf_rf.fit(X_train, y_train)\n",
    "\n",
    "y_pred = clf_rf.predict(X_test)"
   ]
  },
  {
   "cell_type": "code",
   "execution_count": 197,
   "metadata": {},
   "outputs": [
    {
     "name": "stdout",
     "output_type": "stream",
     "text": [
      "Accuracy: 0.6561 \n",
      "[[6113 1698]\n",
      " [3246 3321]]\n"
     ]
    },
    {
     "data": {
      "image/png": "[encoded data removed]",
      "text/plain": [
       "<Figure size 432x288 with 2 Axes>"
      ]
     },
     "metadata": {
      "needs_background": "light"
     },
     "output_type": "display_data"
    }
   ],
   "source": [
    "print('Accuracy: {} '.format(round(accuracy_score(y_test, y_pred), 4))) \n",
    "print (confusion_matrix(y_test, y_pred))\n",
    "\n",
    "plot_confusion_matrix(y_true = y_test, estimator = clf_rf, X = X_test)\n",
    "\n",
    "plt.show()"
   ]
  },
  {
   "cell_type": "markdown",
   "metadata": {},
   "source": [
    "Interestingly, it is not seen a huge drawback as expected. Probably that occurs\n",
    "due to removing of the city collumn, which could have put the model into troubles\n",
    "if it was OHE. Let's see if removing some features one could increase the model's\n",
    "performance."
   ]
  },
  {
   "cell_type": "code",
   "execution_count": 198,
   "metadata": {},
   "outputs": [],
   "source": [
    "## Rerunning the model with the original features X (instead of X_ohe)\n",
    "\n",
    "X_train, X_test, y_train, y_test = train_test_split(X, y_cn, train_size = 0.8, random_state = 0)\n",
    "\n",
    "clf_rf = RandomForestClassifier()\n",
    "\n",
    "clf_rf.fit(X_train, y_train)\n",
    "\n",
    "y_pred = clf_rf.predict(X_test)"
   ]
  },
  {
   "cell_type": "code",
   "execution_count": 214,
   "metadata": {},
   "outputs": [],
   "source": [
    "## The feature importance function\n",
    "\n",
    "def plot_feature_importance(model, X, n_cols = 20):\n",
    "    feature_imp = pd.DataFrame(sorted(zip(model.feature_importances_,X.columns[:n_cols])),\n",
    "                               columns=['Value','Feature'])\n",
    "\n",
    "    plt.figure(figsize=(14, 8))\n",
    "    sns.barplot(x=\"Value\", y=\"Feature\", data = feature_imp.sort_values(by=\"Value\", ascending=False))\n",
    "    plt.title('Features', fontsize = 16)\n",
    "    plt.tight_layout()\n",
    "    plt.show()\n",
    "    return feature_imp['Value'], feature_imp['Feature']"
   ]
  },
  {
   "cell_type": "markdown",
   "metadata": {},
   "source": [
    "<a id='rf_feat_imp'></a>"
   ]
  },
  {
   "cell_type": "code",
   "execution_count": 199,
   "metadata": {},
   "outputs": [
    {
     "data": {
      "image/png": "[encoded data removed]",
      "text/plain": [
       "<Figure size 1008x576 with 1 Axes>"
      ]
     },
     "metadata": {
      "needs_background": "light"
     },
     "output_type": "display_data"
    }
   ],
   "source": [
    "plot_feature_importance(clf_rf, X)"
   ]
  },
  {
   "cell_type": "markdown",
   "metadata": {},
   "source": [
    "## Partial discussion\n",
    "\n",
    "In a non-understandable way random forest is choosing some features which doesn't seem to\n",
    "be relevant (below *IN_TREINEIRO*). It has been strongly expected that social information\n",
    "would play a more relevant role within all this. Let's take a closer look into some of\n",
    "these features distribution and how they are split into their classes."
   ]
  },
  {
   "cell_type": "code",
   "execution_count": 200,
   "metadata": {},
   "outputs": [
    {
     "name": "stdout",
     "output_type": "stream",
     "text": [
      "All the in columns\n",
      " \n",
      "Index(['IN_TREINEIRO', 'IN_BAIXA_VISAO', 'IN_CEGUEIRA', 'IN_SURDEZ',\n",
      "       'IN_DEFICIENCIA_AUDITIVA', 'IN_SURDO_CEGUEIRA', 'IN_DEFICIENCIA_FISICA',\n",
      "       'IN_DEFICIENCIA_MENTAL', 'IN_DEFICIT_ATENCAO', 'IN_DISLEXIA',\n",
      "       'IN_DISCALCULIA', 'IN_AUTISMO', 'IN_VISAO_MONOCULAR', 'IN_OUTRA_DEF',\n",
      "       'IN_GESTANTE', 'IN_LACTANTE', 'IN_IDOSO', 'IN_ESTUDA_CLASSE_HOSPITALAR',\n",
      "       'IN_SEM_RECURSO', 'IN_BRAILLE', 'IN_AMPLIADA_24', 'IN_AMPLIADA_18',\n",
      "       'IN_LEDOR', 'IN_ACESSO', 'IN_TRANSCRICAO', 'IN_LIBRAS',\n",
      "       'IN_LEITURA_LABIAL', 'IN_MESA_CADEIRA_RODAS',\n",
      "       'IN_MESA_CADEIRA_SEPARADA', 'IN_APOIO_PERNA', 'IN_GUIA_INTERPRETE',\n",
      "       'IN_COMPUTADOR', 'IN_CADEIRA_ESPECIAL', 'IN_CADEIRA_CANHOTO',\n",
      "       'IN_CADEIRA_ACOLCHOADA', 'IN_PROVA_DEITADO', 'IN_MOBILIARIO_OBESO',\n",
      "       'IN_LAMINA_OVERLAY', 'IN_PROTETOR_AURICULAR', 'IN_MEDIDOR_GLICOSE',\n",
      "       'IN_MAQUINA_BRAILE', 'IN_SOROBAN', 'IN_MARCA_PASSO', 'IN_SONDA',\n",
      "       'IN_MEDICAMENTOS', 'IN_SALA_INDIVIDUAL', 'IN_SALA_ESPECIAL',\n",
      "       'IN_SALA_ACOMPANHANTE', 'IN_MOBILIARIO_ESPECIFICO',\n",
      "       'IN_MATERIAL_ESPECIFICO', 'IN_NOME_SOCIAL'],\n",
      "      dtype='object')\n"
     ]
    }
   ],
   "source": [
    "columns_in = X.columns[9:60]\n",
    "\n",
    "print('All the in columns')\n",
    "print(' ')\n",
    "print(columns_in)"
   ]
  },
  {
   "cell_type": "code",
   "execution_count": 201,
   "metadata": {},
   "outputs": [
    {
     "name": "stdout",
     "output_type": "stream",
     "text": [
      "In IN_TREINEIRO the class-0 represent 96.16 percent\n",
      "In IN_TREINEIRO the class-1 represent 3.84 percent\n",
      " \n",
      "In IN_BAIXA_VISAO the class-0 represent 99.92 percent\n",
      "In IN_BAIXA_VISAO the class-1 represent 0.08 percent\n",
      " \n",
      "In IN_CEGUEIRA the class-0 represent 100.0 percent\n",
      "In IN_CEGUEIRA the class-1 represent 0.0 percent\n",
      " \n",
      "In IN_SURDEZ the class-0 represent 100.0 percent\n",
      "In IN_SURDEZ the class-1 represent 0.0 percent\n",
      " \n",
      "In IN_DEFICIENCIA_AUDITIVA the class-0 represent 99.98 percent\n",
      "In IN_DEFICIENCIA_AUDITIVA the class-1 represent 0.02 percent\n",
      " \n",
      "In IN_SURDO_CEGUEIRA the class-0 represent 100.0 percent\n",
      "In IN_SURDO_CEGUEIRA the class-1 represent 0.0 percent\n",
      " \n",
      "In IN_DEFICIENCIA_FISICA the class-0 represent 99.8 percent\n",
      "In IN_DEFICIENCIA_FISICA the class-1 represent 0.2 percent\n",
      " \n",
      "In IN_DEFICIENCIA_MENTAL the class-0 represent 99.98 percent\n",
      "In IN_DEFICIENCIA_MENTAL the class-1 represent 0.02 percent\n",
      " \n",
      "In IN_DEFICIT_ATENCAO the class-0 represent 99.93 percent\n",
      "In IN_DEFICIT_ATENCAO the class-1 represent 0.07 percent\n",
      " \n",
      "In IN_DISLEXIA the class-0 represent 99.99 percent\n",
      "In IN_DISLEXIA the class-1 represent 0.01 percent\n",
      " \n",
      "In IN_DISCALCULIA the class-0 represent 100.0 percent\n",
      "In IN_DISCALCULIA the class-1 represent 0.0 percent\n",
      " \n",
      "In IN_AUTISMO the class-0 represent 99.99 percent\n",
      "In IN_AUTISMO the class-1 represent 0.01 percent\n",
      " \n",
      "In IN_VISAO_MONOCULAR the class-0 represent 99.97 percent\n",
      "In IN_VISAO_MONOCULAR the class-1 represent 0.03 percent\n",
      " \n",
      "In IN_OUTRA_DEF the class-0 represent 99.95 percent\n",
      "In IN_OUTRA_DEF the class-1 represent 0.05 percent\n",
      " \n",
      "In IN_GESTANTE the class-0 represent 99.98 percent\n",
      "In IN_GESTANTE the class-1 represent 0.02 percent\n",
      " \n",
      "In IN_LACTANTE the class-0 represent 99.94 percent\n",
      "In IN_LACTANTE the class-1 represent 0.06 percent\n",
      " \n",
      "In IN_IDOSO the class-0 represent 100.0 percent\n",
      "In IN_IDOSO the class-1 represent 0.0 percent\n",
      " \n",
      "In IN_ESTUDA_CLASSE_HOSPITALAR the class-0 represent 100.0 percent\n",
      "In IN_ESTUDA_CLASSE_HOSPITALAR the class-1 represent 0.0 percent\n",
      " \n",
      "In IN_SEM_RECURSO the class-0 represent 99.82 percent\n",
      "In IN_SEM_RECURSO the class-1 represent 0.18 percent\n",
      " \n",
      "In IN_BRAILLE the class-0 represent 100.0 percent\n",
      "In IN_BRAILLE the class-1 represent 0.0 percent\n",
      " \n",
      "In IN_AMPLIADA_24 the class-0 represent 99.99 percent\n",
      "In IN_AMPLIADA_24 the class-1 represent 0.01 percent\n",
      " \n",
      "In IN_AMPLIADA_18 the class-0 represent 99.92 percent\n",
      "In IN_AMPLIADA_18 the class-1 represent 0.08 percent\n",
      " \n",
      "In IN_LEDOR the class-0 represent 99.96 percent\n",
      "In IN_LEDOR the class-1 represent 0.04 percent\n",
      " \n",
      "In IN_ACESSO the class-0 represent 99.85 percent\n",
      "In IN_ACESSO the class-1 represent 0.15 percent\n",
      " \n",
      "In IN_TRANSCRICAO the class-0 represent 99.95 percent\n",
      "In IN_TRANSCRICAO the class-1 represent 0.05 percent\n",
      " \n",
      "In IN_LIBRAS the class-0 represent 100.0 percent\n",
      "In IN_LIBRAS the class-1 represent 0.0 percent\n",
      " \n",
      "In IN_LEITURA_LABIAL the class-0 represent 99.99 percent\n",
      "In IN_LEITURA_LABIAL the class-1 represent 0.01 percent\n",
      " \n",
      "In IN_MESA_CADEIRA_RODAS the class-0 represent 99.96 percent\n",
      "In IN_MESA_CADEIRA_RODAS the class-1 represent 0.04 percent\n",
      " \n",
      "In IN_MESA_CADEIRA_SEPARADA the class-0 represent 99.99 percent\n",
      "In IN_MESA_CADEIRA_SEPARADA the class-1 represent 0.01 percent\n",
      " \n",
      "In IN_APOIO_PERNA the class-0 represent 99.97 percent\n",
      "In IN_APOIO_PERNA the class-1 represent 0.03 percent\n",
      " \n",
      "In IN_GUIA_INTERPRETE the class-0 represent 100.0 percent\n",
      "In IN_GUIA_INTERPRETE the class-1 represent 0.0 percent\n",
      " \n",
      "In IN_COMPUTADOR the class-0 represent 100.0 percent\n",
      "In IN_COMPUTADOR the class-1 represent 0.0 percent\n",
      " \n",
      "In IN_CADEIRA_ESPECIAL the class-0 represent 100.0 percent\n",
      "In IN_CADEIRA_ESPECIAL the class-1 represent 0.0 percent\n",
      " \n",
      "In IN_CADEIRA_CANHOTO the class-0 represent 100.0 percent\n",
      "In IN_CADEIRA_CANHOTO the class-1 represent 0.0 percent\n",
      " \n",
      "In IN_CADEIRA_ACOLCHOADA the class-0 represent 100.0 percent\n",
      "In IN_CADEIRA_ACOLCHOADA the class-1 represent 0.0 percent\n",
      " \n",
      "In IN_PROVA_DEITADO the class-0 represent 100.0 percent\n",
      "In IN_PROVA_DEITADO the class-1 represent 0.0 percent\n",
      " \n",
      "In IN_MOBILIARIO_OBESO the class-0 represent 100.0 percent\n",
      "In IN_MOBILIARIO_OBESO the class-1 represent 0.0 percent\n",
      " \n",
      "In IN_LAMINA_OVERLAY the class-0 represent 100.0 percent\n",
      "In IN_LAMINA_OVERLAY the class-1 represent 0.0 percent\n",
      " \n",
      "In IN_PROTETOR_AURICULAR the class-0 represent 100.0 percent\n",
      "In IN_PROTETOR_AURICULAR the class-1 represent 0.0 percent\n",
      " \n",
      "In IN_MEDIDOR_GLICOSE the class-0 represent 99.99 percent\n",
      "In IN_MEDIDOR_GLICOSE the class-1 represent 0.01 percent\n",
      " \n",
      "In IN_MAQUINA_BRAILE the class-0 represent 100.0 percent\n",
      "In IN_MAQUINA_BRAILE the class-1 represent 0.0 percent\n",
      " \n",
      "In IN_SOROBAN the class-0 represent 100.0 percent\n",
      "In IN_SOROBAN the class-1 represent 0.0 percent\n",
      " \n",
      "In IN_MARCA_PASSO the class-0 represent 100.0 percent\n",
      "In IN_MARCA_PASSO the class-1 represent 0.0 percent\n",
      " \n",
      "In IN_SONDA the class-0 represent 100.0 percent\n",
      "In IN_SONDA the class-1 represent 0.0 percent\n",
      " \n",
      "In IN_MEDICAMENTOS the class-0 represent 100.0 percent\n",
      "In IN_MEDICAMENTOS the class-1 represent 0.0 percent\n",
      " \n",
      "In IN_SALA_INDIVIDUAL the class-0 represent 100.0 percent\n",
      "In IN_SALA_INDIVIDUAL the class-1 represent 0.0 percent\n",
      " \n",
      "In IN_SALA_ESPECIAL the class-0 represent 100.0 percent\n",
      "In IN_SALA_ESPECIAL the class-1 represent 0.0 percent\n",
      " \n",
      "In IN_SALA_ACOMPANHANTE the class-0 represent 100.0 percent\n",
      "In IN_SALA_ACOMPANHANTE the class-1 represent 0.0 percent\n",
      " \n",
      "In IN_MOBILIARIO_ESPECIFICO the class-0 represent 100.0 percent\n",
      "In IN_MOBILIARIO_ESPECIFICO the class-1 represent 0.0 percent\n",
      " \n",
      "In IN_MATERIAL_ESPECIFICO the class-0 represent 100.0 percent\n",
      "In IN_MATERIAL_ESPECIFICO the class-1 represent 0.0 percent\n",
      " \n",
      "In IN_NOME_SOCIAL the class-0 represent 99.99 percent\n",
      "In IN_NOME_SOCIAL the class-1 represent 0.01 percent\n",
      " \n"
     ]
    }
   ],
   "source": [
    "def ratio_classes(col):\n",
    "    var_1 = X[col].sum()\n",
    "    var_0 = len(X[col]) - var_1\n",
    "    total = len(X[col])\n",
    "    percent_0 = round(100*var_0/total, 2)\n",
    "    percent_1 = round(100*var_1/total, 2)\n",
    "    print('In {} the class-0 represent {} percent'.format(col, percent_0))\n",
    "    print('In {} the class-1 represent {} percent'.format(col, percent_1))\n",
    "    print(' ')\n",
    "\n",
    "for col in columns_in:\n",
    "    ratio_classes(col)"
   ]
  },
  {
   "cell_type": "markdown",
   "metadata": {},
   "source": [
    "That was quite good! As suspected! These info bring no information for the model.\n",
    "The only one which *could* bring something would be *IN_TREINEIRO*, however, this\n",
    "also poorly splits the data in this tree-based models. So, as a first shot, let's keep\n",
    "*IN_TREINEIRO* and drop the remaining ones."
   ]
  },
  {
   "cell_type": "code",
   "execution_count": 202,
   "metadata": {},
   "outputs": [
    {
     "data": {
      "text/plain": [
       "Index(['IN_BAIXA_VISAO', 'IN_CEGUEIRA', 'IN_SURDEZ', 'IN_DEFICIENCIA_AUDITIVA',\n",
       "       'IN_SURDO_CEGUEIRA', 'IN_DEFICIENCIA_FISICA', 'IN_DEFICIENCIA_MENTAL',\n",
       "       'IN_DEFICIT_ATENCAO', 'IN_DISLEXIA', 'IN_DISCALCULIA', 'IN_AUTISMO',\n",
       "       'IN_VISAO_MONOCULAR', 'IN_OUTRA_DEF', 'IN_GESTANTE', 'IN_LACTANTE',\n",
       "       'IN_IDOSO', 'IN_ESTUDA_CLASSE_HOSPITALAR', 'IN_SEM_RECURSO',\n",
       "       'IN_BRAILLE', 'IN_AMPLIADA_24', 'IN_AMPLIADA_18', 'IN_LEDOR',\n",
       "       'IN_ACESSO', 'IN_TRANSCRICAO', 'IN_LIBRAS', 'IN_LEITURA_LABIAL',\n",
       "       'IN_MESA_CADEIRA_RODAS', 'IN_MESA_CADEIRA_SEPARADA', 'IN_APOIO_PERNA',\n",
       "       'IN_GUIA_INTERPRETE', 'IN_COMPUTADOR', 'IN_CADEIRA_ESPECIAL',\n",
       "       'IN_CADEIRA_CANHOTO', 'IN_CADEIRA_ACOLCHOADA', 'IN_PROVA_DEITADO',\n",
       "       'IN_MOBILIARIO_OBESO', 'IN_LAMINA_OVERLAY', 'IN_PROTETOR_AURICULAR',\n",
       "       'IN_MEDIDOR_GLICOSE', 'IN_MAQUINA_BRAILE', 'IN_SOROBAN',\n",
       "       'IN_MARCA_PASSO', 'IN_SONDA', 'IN_MEDICAMENTOS', 'IN_SALA_INDIVIDUAL',\n",
       "       'IN_SALA_ESPECIAL', 'IN_SALA_ACOMPANHANTE', 'IN_MOBILIARIO_ESPECIFICO',\n",
       "       'IN_MATERIAL_ESPECIFICO', 'IN_NOME_SOCIAL'],\n",
       "      dtype='object')"
      ]
     },
     "execution_count": 202,
     "metadata": {},
     "output_type": "execute_result"
    }
   ],
   "source": [
    "columns_in = columns_in[1:]\n",
    "columns_in"
   ]
  },
  {
   "cell_type": "code",
   "execution_count": 203,
   "metadata": {},
   "outputs": [
    {
     "data": {
      "text/plain": [
       "Index(['SG_UF_RESIDENCIA', 'NU_IDADE', 'TP_SEXO', 'TP_ESTADO_CIVIL',\n",
       "       'TP_COR_RACA', 'TP_ST_CONCLUSAO', 'TP_ANO_CONCLUIU', 'TP_ESCOLA',\n",
       "       'TP_ENSINO', 'IN_TREINEIRO', 'TP_LINGUA', 'Q001', 'Q002', 'Q003',\n",
       "       'Q004', 'Q005', 'Q006', 'Q007', 'Q008', 'Q009', 'Q010', 'Q011', 'Q012',\n",
       "       'Q013', 'Q014', 'Q015', 'Q016', 'Q017', 'Q018', 'Q019', 'Q020', 'Q021',\n",
       "       'Q022', 'Q023', 'Q024', 'Q025', 'Q026', 'Q027', 'capital_or_not',\n",
       "       'single_or_not'],\n",
       "      dtype='object')"
      ]
     },
     "execution_count": 203,
     "metadata": {},
     "output_type": "execute_result"
    }
   ],
   "source": [
    "## where 'wo' stands for without\n",
    "\n",
    "X_wo_in = X.drop(columns = columns_in).copy()\n",
    "\n",
    "X_wo_in.columns"
   ]
  },
  {
   "cell_type": "code",
   "execution_count": 204,
   "metadata": {},
   "outputs": [],
   "source": [
    "## Rerunning the model with the original features X (instead of X_ohe)\n",
    "\n",
    "X_train, X_test, y_train, y_test = train_test_split(X_wo_in, y_cn, train_size = 0.8, random_state = 0)\n",
    "\n",
    "clf_rf = RandomForestClassifier()\n",
    "\n",
    "clf_rf.fit(X_train, y_train)\n",
    "\n",
    "y_pred = clf_rf.predict(X_test)"
   ]
  },
  {
   "cell_type": "code",
   "execution_count": 205,
   "metadata": {},
   "outputs": [
    {
     "name": "stdout",
     "output_type": "stream",
     "text": [
      "Cross validation over 5 folds: 0.6468\n",
      "Accuracy for the training set: 0.9997 \n",
      "Accuracy for the testing set: 0.6526 \n",
      "[[6011 1800]\n",
      " [3195 3372]]\n"
     ]
    },
    {
     "data": {
      "image/png": "[encoded data removed]",
      "text/plain": [
       "<Figure size 432x288 with 2 Axes>"
      ]
     },
     "metadata": {
      "needs_background": "light"
     },
     "output_type": "display_data"
    }
   ],
   "source": [
    "acc_cv = round(cross_val_score(clf_lr, X_train, y_train, cv = 5).mean(), 4)\n",
    "acc_train = round(accuracy_score(y_train, clf_rf.predict(X_train)), 4)\n",
    "acc_test = round(accuracy_score(y_test, y_pred), 4)\n",
    "\n",
    "print('Cross validation over 5 folds: {}'.format(acc_cv))\n",
    "print('Accuracy for the training set: {} '.format(acc_train)) \n",
    "print('Accuracy for the testing set: {} '.format(acc_test))\n",
    "print (confusion_matrix(y_test, y_pred))\n",
    "\n",
    "plot_confusion_matrix(y_true = y_test, estimator = clf_rf, X = X_test)\n",
    "\n",
    "plt.show()"
   ]
  },
  {
   "cell_type": "markdown",
   "metadata": {},
   "source": [
    "<a id='rf_feat_imp2'></a>"
   ]
  },
  {
   "cell_type": "code",
   "execution_count": 218,
   "metadata": {},
   "outputs": [
    {
     "data": {
      "image/png": "[encoded data removed]",
      "text/plain": [
       "<Figure size 1008x576 with 1 Axes>"
      ]
     },
     "metadata": {
      "needs_background": "light"
     },
     "output_type": "display_data"
    }
   ],
   "source": [
    "values, features = plot_feature_importance(clf_rf, X_wo_in, n_cols = 40)"
   ]
  },
  {
   "cell_type": "code",
   "execution_count": 230,
   "metadata": {},
   "outputs": [
    {
     "name": "stdout",
     "output_type": "stream",
     "text": [
      "With the best 30 features, one explains 93.03 percent of the model \n"
     ]
    }
   ],
   "source": [
    "#print(features[-10:])\n",
    "#print(values[-10:].sum())\n",
    "def perc_relevance(n):\n",
    "    feat = features[-n:]\n",
    "    vals_sum = round(100*values[-n:].sum(), 2)\n",
    "    print('With the best {} features, one explains {} percent of the model '.format(n, vals_sum))\n",
    "\n",
    "perc_relevance(30)"
   ]
  },
  {
   "cell_type": "markdown",
   "metadata": {},
   "source": [
    "## Partial discussion 2\n",
    "\n",
    "It is indeed a good progress: we have removed a huge number of irrelevant features\n",
    "and the model went from an accuracy of 0.6507 to an accuracy of 0.6526. Although\n",
    "being just a small improvement, we got rid of a **lot of** irrelevant features.\n",
    "\n",
    "\n",
    "## Next steps\n",
    "\n",
    "Sure that trying to go beyond the simple model might lead to an accuracy improvement,\n",
    "however we are simply using a RF classifier for the prediction, we aim to use later on\n",
    "XGBoost, LightGBM and CatBoost, whereas the first seems to have some problems with large\n",
    "amount of features the other two seems to perform better with large amount of categorical\n",
    "features and one might spend a good amount of time on that."
   ]
  },
  {
   "cell_type": "code",
   "execution_count": 231,
   "metadata": {},
   "outputs": [],
   "source": [
    "## Saving the new X\n",
    "\n",
    "X_wo_in.to_csv('X_wo_in.csv', index = False)"
   ]
  },
  {
   "cell_type": "markdown",
   "metadata": {},
   "source": [
    "<a id='xgb_classifier'></a>\n",
    "## XGboost classifier\n",
    "\n",
    "Let's start analyzing other classifiers and see how they perform\n",
    "on our dataset prior to any hyperparameter tunning"
   ]
  },
  {
   "cell_type": "code",
   "execution_count": 4,
   "metadata": {},
   "outputs": [],
   "source": [
    "X_wo_in = pd.read_csv('X_wo_in.csv')\n",
    "y_cn = pd.read_csv('y_cn.csv')\n",
    "\n",
    "X_train, X_test, y_train, y_test = train_test_split(X_wo_in, y_cn, train_size = 0.8, random_state = 0)"
   ]
  },
  {
   "cell_type": "code",
   "execution_count": 17,
   "metadata": {},
   "outputs": [
    {
     "name": "stdout",
     "output_type": "stream",
     "text": [
      "[13:25:37] WARNING: ../src/learner.cc:1061: Starting in XGBoost 1.3.0, the default evaluation metric used with the objective 'binary:logistic' was changed from 'error' to 'logloss'. Explicitly set eval_metric if you'd like to restore the old behavior.\n",
      "[13:25:43] WARNING: ../src/learner.cc:1061: Starting in XGBoost 1.3.0, the default evaluation metric used with the objective 'binary:logistic' was changed from 'error' to 'logloss'. Explicitly set eval_metric if you'd like to restore the old behavior.\n",
      "[13:25:49] WARNING: ../src/learner.cc:1061: Starting in XGBoost 1.3.0, the default evaluation metric used with the objective 'binary:logistic' was changed from 'error' to 'logloss'. Explicitly set eval_metric if you'd like to restore the old behavior.\n",
      "[13:25:56] WARNING: ../src/learner.cc:1061: Starting in XGBoost 1.3.0, the default evaluation metric used with the objective 'binary:logistic' was changed from 'error' to 'logloss'. Explicitly set eval_metric if you'd like to restore the old behavior.\n",
      "[13:26:03] WARNING: ../src/learner.cc:1061: Starting in XGBoost 1.3.0, the default evaluation metric used with the objective 'binary:logistic' was changed from 'error' to 'logloss'. Explicitly set eval_metric if you'd like to restore the old behavior.\n",
      " \n",
      "Cross validation over 5 folds: 0.6533\n",
      "Accuracy for the training set: 0.6866 \n",
      "Accuracy for the testing set: 0.6575 \n"
     ]
    },
    {
     "data": {
      "image/png": "[encoded data removed]",
      "text/plain": [
       "<Figure size 432x288 with 2 Axes>"
      ]
     },
     "metadata": {
      "needs_background": "light"
     },
     "output_type": "display_data"
    }
   ],
   "source": [
    "clf_xgb = XGBClassifier(objective = 'binary:logistic', seed = 0)\n",
    "\n",
    "clf_xgb.fit(X_train, y_train, verbose = False,\n",
    "            eval_metric = ['error', 'auc'],\n",
    "            eval_set = [(X_test, y_test)],\n",
    "            early_stopping_rounds = 10)\n",
    "\n",
    "y_pred = clf_xgb.predict(X_test)\n",
    "\n",
    "## Calculating the accuracy score\n",
    "\n",
    "acc_cv = round(cross_val_score(clf_xgb, X_train, y_train, cv = 5).mean(), 4)\n",
    "acc_train = round(accuracy_score(y_train, clf_xgb.predict(X_train)), 4)\n",
    "acc_test = round(accuracy_score(y_test, y_pred), 4)\n",
    "print(' ')\n",
    "print('Cross validation over 5 folds: {}'.format(acc_cv))\n",
    "print('Accuracy for the training set: {} '.format(acc_train)) \n",
    "print('Accuracy for the testing set: {} '.format(acc_test))\n",
    "\n",
    "plot_confusion_matrix(y_true = y_test, estimator = clf_xgb, X = X_test)\n",
    "\n",
    "plt.show()"
   ]
  },
  {
   "cell_type": "markdown",
   "metadata": {},
   "source": [
    "Nice, without any parameter tuning it got one percent better.\n",
    "\n",
    "It is rather common to see improvements of 5% to 10% after\n",
    "parameter tuning, so we expect to cross the threshold of 70%.\n",
    "\n",
    "Lets start by looking at the number of trees in our forest"
   ]
  },
  {
   "cell_type": "code",
   "execution_count": 6,
   "metadata": {},
   "outputs": [
    {
     "name": "stdout",
     "output_type": "stream",
     "text": [
      "20\n",
      "40\n",
      "60\n",
      "80\n",
      "100\n",
      "120\n",
      "140\n",
      "160\n",
      "180\n",
      "200\n",
      "220\n",
      "240\n",
      "260\n",
      "280\n",
      "300\n",
      "320\n",
      "340\n",
      "360\n",
      "380\n",
      "400\n"
     ]
    }
   ],
   "source": [
    "#X_min = X_min2.copy()\n",
    "\n",
    "er_train = []\n",
    "er_test = []\n",
    "n_ests = []\n",
    "\n",
    "## Setting the feature table and the target into the DMatrix format\n",
    "#D_train = xgb.DMatrix(X_train, label = y_train)\n",
    "#D_test = xgb.DMatrix(X_test, label = y_test)\n",
    "\n",
    "## Some parameters that won't be updated\n",
    "eval_metric = ['auc', 'error']\n",
    "eval_set = [(X_train, y_train), (X_test, y_test)]\n",
    "\n",
    "for n_estimators in range(20, 420, 20):\n",
    "    clf = XGBClassifier(objective = 'binary:logistic', seed = 0,\n",
    "                        max_depth = 2, n_estimators = n_estimators)\n",
    "\n",
    "    clf.fit(X_train, y_train, verbose = False,\n",
    "            eval_metric = eval_metric,\n",
    "            eval_set = eval_set,\n",
    "            early_stopping_rounds = 50)\n",
    "\n",
    "    y_pred_train = clf.predict(X_train)\n",
    "    y_pred_test = clf.predict(X_test)\n",
    "    \n",
    "    error_train = round(1 - accuracy_score(y_train, y_pred_train), 2)\n",
    "    error_test = round(1 - accuracy_score(y_test, y_pred_test), 2)\n",
    "    \n",
    "    er_train.append(error_train)\n",
    "    er_test.append(error_test)\n",
    "    n_ests.append(n_estimators)\n",
    "    print(n_estimators)\n",
    "    "
   ]
  },
  {
   "cell_type": "code",
   "execution_count": 7,
   "metadata": {},
   "outputs": [
    {
     "data": {
      "image/png": "[encoded data removed]",
      "text/plain": [
       "<Figure size 432x288 with 1 Axes>"
      ]
     },
     "metadata": {
      "needs_background": "light"
     },
     "output_type": "display_data"
    }
   ],
   "source": [
    "fig, ax = plt.subplots()\n",
    "\n",
    "ax.plot(n_ests, er_train, label = 'Train error')\n",
    "ax.plot(n_ests, er_test, label = 'Test error', alpha = 0.6)\n",
    "\n",
    "plt.legend()\n",
    "plt.show()"
   ]
  },
  {
   "cell_type": "markdown",
   "metadata": {},
   "source": [
    "Let's them keep 180 trees and we will tune the other parameters below\n",
    "\n",
    "### Max depth optimization"
   ]
  },
  {
   "cell_type": "code",
   "execution_count": 22,
   "metadata": {},
   "outputs": [
    {
     "name": "stdout",
     "output_type": "stream",
     "text": [
      " \n",
      "Accuracy analysis for 2 levels in the tree:\n",
      " \n",
      "Cross validation over 5 folds: 0.6628\n",
      "Accuracy for the training set: 0.6661 \n",
      "Accuracy for the testing set: 0.6647 \n",
      "----------------------------------------------\n",
      " \n",
      " \n",
      "Accuracy analysis for 5 levels in the tree:\n",
      " \n",
      "Cross validation over 5 folds: 0.6522\n",
      "Accuracy for the training set: 0.6729 \n",
      "Accuracy for the testing set: 0.6639 \n",
      "----------------------------------------------\n",
      " \n",
      " \n",
      "Accuracy analysis for 10 levels in the tree:\n",
      " \n",
      "Cross validation over 5 folds: 0.6315\n",
      "Accuracy for the training set: 0.7388 \n",
      "Accuracy for the testing set: 0.656 \n",
      "----------------------------------------------\n",
      " \n",
      " \n",
      "Accuracy analysis for 20 levels in the tree:\n",
      " \n",
      "Cross validation over 5 folds: 0.6294\n",
      "Accuracy for the training set: 0.9559 \n",
      "Accuracy for the testing set: 0.6255 \n",
      "----------------------------------------------\n",
      " \n"
     ]
    }
   ],
   "source": [
    "for max_depth in [2, 5, 10, 20]:\n",
    "    clf = XGBClassifier(objective = 'binary:logistic', seed = 0,\n",
    "                        verbosity = 0,\n",
    "                        n_estimators = 180,\n",
    "                        max_depth = max_depth)\n",
    "\n",
    "    clf.fit(X_train, y_train, verbose = 0,\n",
    "            eval_metric = eval_metric,\n",
    "            eval_set = eval_set,\n",
    "            early_stopping_rounds = 18)\n",
    "\n",
    "    y_pred_train = clf.predict(X_train)\n",
    "    y_pred_test = clf.predict(X_test)\n",
    "    \n",
    "    print (' ')\n",
    "    print ('Accuracy analysis for {} levels in the tree:'.format(max_depth))\n",
    "    \n",
    "    acc_cv = round(cross_val_score(clf, X_train, y_train, cv = 5).mean(), 4)\n",
    "    acc_train = round(accuracy_score(y_train, y_pred_train), 4)\n",
    "    acc_test = round(accuracy_score(y_test, y_pred_test), 4)\n",
    "    \n",
    "    print(' ')\n",
    "    print('Cross validation over 5 folds: {}'.format(acc_cv))\n",
    "    print('Accuracy for the training set: {} '.format(acc_train)) \n",
    "    print('Accuracy for the testing set: {} '.format(acc_test))\n",
    "    print ('----------------------------------------------')\n",
    "    print (' ')"
   ]
  },
  {
   "cell_type": "markdown",
   "metadata": {},
   "source": [
    "A tree with only two levels is performing better than the one with 5 levels.\n",
    "However, let's check it out if there is a higher performance in between."
   ]
  },
  {
   "cell_type": "code",
   "execution_count": 23,
   "metadata": {},
   "outputs": [
    {
     "name": "stdout",
     "output_type": "stream",
     "text": [
      " \n",
      "Accuracy analysis for 2 levels in the tree:\n",
      " \n",
      "Cross validation over 5 folds: 0.6628\n",
      "Accuracy for the training set: 0.6661 \n",
      "Accuracy for the testing set: 0.6647 \n",
      "----------------------------------------------\n",
      " \n",
      " \n",
      "Accuracy analysis for 3 levels in the tree:\n",
      " \n",
      "Cross validation over 5 folds: 0.6606\n",
      "Accuracy for the training set: 0.6626 \n",
      "Accuracy for the testing set: 0.6652 \n",
      "----------------------------------------------\n",
      " \n",
      " \n",
      "Accuracy analysis for 4 levels in the tree:\n",
      " \n",
      "Cross validation over 5 folds: 0.6592\n",
      "Accuracy for the training set: 0.6745 \n",
      "Accuracy for the testing set: 0.6654 \n",
      "----------------------------------------------\n",
      " \n",
      " \n",
      "Accuracy analysis for 5 levels in the tree:\n",
      " \n",
      "Cross validation over 5 folds: 0.6522\n",
      "Accuracy for the training set: 0.6729 \n",
      "Accuracy for the testing set: 0.6639 \n",
      "----------------------------------------------\n",
      " \n"
     ]
    }
   ],
   "source": [
    "for max_depth in [2, 3, 4, 5]:\n",
    "    clf = XGBClassifier(objective = 'binary:logistic', seed = 0,\n",
    "                        verbosity = 0,\n",
    "                        n_estimators = 180,\n",
    "                        max_depth = max_depth)\n",
    "\n",
    "    clf.fit(X_train, y_train, verbose = 0,\n",
    "            eval_metric = eval_metric,\n",
    "            eval_set = eval_set,\n",
    "            early_stopping_rounds = 18)\n",
    "\n",
    "    y_pred_train = clf.predict(X_train)\n",
    "    y_pred_test = clf.predict(X_test)\n",
    "    \n",
    "    \n",
    "    print (' ')\n",
    "    print ('Accuracy analysis for {} levels in the tree:'.format(max_depth))\n",
    "    \n",
    "    acc_cv = round(cross_val_score(clf, X_train, y_train, cv = 5).mean(), 4)\n",
    "    acc_train = round(accuracy_score(y_train, y_pred_train), 4)\n",
    "    acc_test = round(accuracy_score(y_test, y_pred_test), 4)\n",
    "    \n",
    "    print(' ')\n",
    "    print('Cross validation over 5 folds: {}'.format(acc_cv))\n",
    "    print('Accuracy for the training set: {} '.format(acc_train)) \n",
    "    print('Accuracy for the testing set: {} '.format(acc_test))\n",
    "    print ('----------------------------------------------')\n",
    "    print (' ')"
   ]
  },
  {
   "cell_type": "markdown",
   "metadata": {},
   "source": [
    "Interestingly we clearly observe a beginning of overfitting for max_depth = 10\n",
    "it becomes astonishing for max_depth = 20, where the accuracy on the training\n",
    "set goes up, to 0.9559, and the accuracy on the testing set drops to 0.6255.\n",
    "After a closer look to what happens in between the levels 2 and 5, one observes\n",
    "that a max_depth of 4 is the best. Let's stick with it then.\n",
    "### Learning rate - eta - optimization"
   ]
  },
  {
   "cell_type": "code",
   "execution_count": 25,
   "metadata": {},
   "outputs": [
    {
     "name": "stdout",
     "output_type": "stream",
     "text": [
      " \n",
      "Accuracy analysis for eta = 0.01 \n",
      " \n",
      "Cross validation over 5 folds: 0.6473\n",
      "Accuracy for the training set: 0.6386 \n",
      "Accuracy for the testing set: 0.6392 \n",
      "----------------------------------------------\n",
      " \n",
      " \n",
      "Accuracy analysis for eta = 0.05 \n",
      " \n",
      "Cross validation over 5 folds: 0.6591\n",
      "Accuracy for the training set: 0.6657 \n",
      "Accuracy for the testing set: 0.6643 \n",
      "----------------------------------------------\n",
      " \n",
      " \n",
      "Accuracy analysis for eta = 0.1 \n",
      " \n",
      "Cross validation over 5 folds: 0.6614\n",
      "Accuracy for the training set: 0.6646 \n",
      "Accuracy for the testing set: 0.6652 \n",
      "----------------------------------------------\n",
      " \n",
      " \n",
      "Accuracy analysis for eta = 0.3 \n",
      " \n",
      "Cross validation over 5 folds: 0.6592\n",
      "Accuracy for the training set: 0.6745 \n",
      "Accuracy for the testing set: 0.6654 \n",
      "----------------------------------------------\n",
      " \n"
     ]
    }
   ],
   "source": [
    "for eta  in [0.01, 0.05, 0.1, 0.3]:\n",
    "    clf = XGBClassifier(objective = 'binary:logistic', seed = 0,\n",
    "                        n_estimators = 120, max_depth = 4,\n",
    "                        eta = eta)\n",
    "\n",
    "    clf.fit(X_train, y_train, verbose = False,\n",
    "            eval_metric = eval_metric,\n",
    "            eval_set = eval_set,\n",
    "            early_stopping_rounds = 12)\n",
    "\n",
    "    y_pred_train = clf.predict(X_train)\n",
    "    y_pred_test = clf.predict(X_test)\n",
    "    \n",
    "    print (' ')\n",
    "    print ('Accuracy analysis for eta = {} '.format(eta))\n",
    "    \n",
    "    acc_cv = round(cross_val_score(clf, X_train, y_train, cv = 5).mean(), 4)\n",
    "    acc_train = round(accuracy_score(y_train, y_pred_train), 4)\n",
    "    acc_test = round(accuracy_score(y_test, y_pred_test), 4)\n",
    "    \n",
    "    print(' ')\n",
    "    print('Cross validation over 5 folds: {}'.format(acc_cv))\n",
    "    print('Accuracy for the training set: {} '.format(acc_train)) \n",
    "    print('Accuracy for the testing set: {} '.format(acc_test))\n",
    "    print ('----------------------------------------------')\n",
    "    #0.6654 "
   ]
  },
  {
   "cell_type": "markdown",
   "metadata": {},
   "source": [
    "We observe that the highest accuracy on the testing set is for eta = 0.3.\n",
    "Since we observe an increasing trend from 0.01 to 0.3, we observe what happens\n",
    "is that we are not reaching the saddle point/minimum of the gradient boosting.\n",
    "This fact is well know, we need, when changing the learning rate, also change\n",
    "the number of trees (which is essentially how many steps we take to go towards\n",
    "the minimum). Let's see what happens when we increase the number of estimators/trees"
   ]
  },
  {
   "cell_type": "markdown",
   "metadata": {},
   "source": [
    "As expected we have surpassed the previous values. let's make analyze\n",
    "the number of trees which better fit our model"
   ]
  },
  {
   "cell_type": "code",
   "execution_count": null,
   "metadata": {},
   "outputs": [
    {
     "name": "stdout",
     "output_type": "stream",
     "text": [
      "Accuracy analysis for 100 trees and eta = 0.01\n",
      " \n",
      "Cross validation over 5 folds: 0.6465\n",
      "Accuracy for the training set: 0.6482 \n",
      "Accuracy for the testing set: 0.6479 \n",
      "----------------------------------------------\n",
      "Accuracy analysis for 200 trees and eta = 0.01\n",
      " \n",
      "Cross validation over 5 folds: 0.6515\n",
      "Accuracy for the training set: 0.6546 \n",
      "Accuracy for the testing set: 0.6537 \n",
      "----------------------------------------------\n",
      "Accuracy analysis for 300 trees and eta = 0.01\n",
      " \n",
      "Cross validation over 5 folds: 0.6547\n",
      "Accuracy for the training set: 0.6585 \n",
      "Accuracy for the testing set: 0.6584 \n",
      "----------------------------------------------\n",
      "Accuracy analysis for 400 trees and eta = 0.01\n",
      " \n",
      "Cross validation over 5 folds: 0.6567\n",
      "Accuracy for the training set: 0.6607 \n",
      "Accuracy for the testing set: 0.6615 \n",
      "----------------------------------------------\n",
      "Accuracy analysis for 500 trees and eta = 0.01\n",
      " \n",
      "Cross validation over 5 folds: 0.6578\n",
      "Accuracy for the training set: 0.664 \n",
      "Accuracy for the testing set: 0.6638 \n",
      "----------------------------------------------\n",
      "Accuracy analysis for 600 trees and eta = 0.01\n",
      " \n",
      "Cross validation over 5 folds: 0.6592\n",
      "Accuracy for the training set: 0.6651 \n",
      "Accuracy for the testing set: 0.6648 \n",
      "----------------------------------------------\n",
      "Accuracy analysis for 700 trees and eta = 0.01\n",
      " \n",
      "Cross validation over 5 folds: 0.6602\n",
      "Accuracy for the training set: 0.6676 \n",
      "Accuracy for the testing set: 0.6659 \n",
      "----------------------------------------------\n",
      "Accuracy analysis for 800 trees and eta = 0.01\n",
      " \n",
      "Cross validation over 5 folds: 0.6604\n",
      "Accuracy for the training set: 0.6676 \n",
      "Accuracy for the testing set: 0.6659 \n",
      "----------------------------------------------\n",
      "Accuracy analysis for 900 trees and eta = 0.01\n",
      " \n",
      "Cross validation over 5 folds: 0.661\n",
      "Accuracy for the training set: 0.6676 \n",
      "Accuracy for the testing set: 0.6659 \n",
      "----------------------------------------------\n",
      "Accuracy analysis for 1000 trees and eta = 0.01\n",
      " \n",
      "Cross validation over 5 folds: 0.6609\n",
      "Accuracy for the training set: 0.6676 \n",
      "Accuracy for the testing set: 0.6659 \n",
      "----------------------------------------------\n",
      "Accuracy analysis for 1100 trees and eta = 0.01\n",
      " \n",
      "Cross validation over 5 folds: 0.6613\n",
      "Accuracy for the training set: 0.6676 \n",
      "Accuracy for the testing set: 0.6659 \n",
      "----------------------------------------------\n",
      "Accuracy analysis for 1200 trees and eta = 0.01\n",
      " \n",
      "Cross validation over 5 folds: 0.6612\n",
      "Accuracy for the training set: 0.6676 \n",
      "Accuracy for the testing set: 0.6659 \n",
      "----------------------------------------------\n",
      "Accuracy analysis for 1300 trees and eta = 0.01\n",
      " \n",
      "Cross validation over 5 folds: 0.6614\n",
      "Accuracy for the training set: 0.6676 \n",
      "Accuracy for the testing set: 0.6659 \n",
      "----------------------------------------------\n",
      "Accuracy analysis for 1400 trees and eta = 0.01\n",
      " \n",
      "Cross validation over 5 folds: 0.6617\n",
      "Accuracy for the training set: 0.6676 \n",
      "Accuracy for the testing set: 0.6659 \n",
      "----------------------------------------------\n",
      "Accuracy analysis for 1500 trees and eta = 0.01\n",
      " \n",
      "Cross validation over 5 folds: 0.6616\n",
      "Accuracy for the training set: 0.6676 \n",
      "Accuracy for the testing set: 0.6659 \n",
      "----------------------------------------------\n"
     ]
    }
   ],
   "source": [
    "n_trees = []\n",
    "ac_test = []\n",
    "\n",
    "for n_tree in np.linspace(100, 2000, 20):\n",
    "    n_tree = int(n_tree)\n",
    "\n",
    "    clf = XGBClassifier(objective = 'binary:logistic', seed = 0,\n",
    "                        n_estimators = n_tree, max_depth = 4,\n",
    "                        eta = 0.01)\n",
    "\n",
    "    clf.fit(X_train, y_train, verbose = False,\n",
    "            eval_metric = eval_metric,\n",
    "            eval_set = eval_set,\n",
    "            early_stopping_rounds = 120)\n",
    "\n",
    "    y_pred_train = clf.predict(X_train)\n",
    "    y_pred_test = clf.predict(X_test)\n",
    "\n",
    "    print ('Accuracy analysis for {} trees and eta = 0.01'.format(n_tree))\n",
    "\n",
    "    acc_cv = round(cross_val_score(clf, X_train, y_train, cv = 5).mean(), 4)\n",
    "    acc_train = round(accuracy_score(y_train, y_pred_train), 4)\n",
    "    acc_test = round(accuracy_score(y_test, y_pred_test), 4)\n",
    "    \n",
    "    n_trees.append(n_tree)\n",
    "    ac_test.append(acc_test)\n",
    "\n",
    "    print(' ')\n",
    "    print('Cross validation over 5 folds: {}'.format(acc_cv))\n",
    "    print('Accuracy for the training set: {} '.format(acc_train)) \n",
    "    print('Accuracy for the testing set: {} '.format(acc_test))\n",
    "    print ('----------------------------------------------')"
   ]
  },
  {
   "cell_type": "markdown",
   "metadata": {},
   "source": [
    "We observe that it apparently reached the bottom of the gradient descendent/boosting process\n",
    "for 700 trees. If we increase the \"size\" of our step one might be there in less steps (consequently,\n",
    "less trees). However, there is also the chance that one overshoots the minimum and overpass it.\n",
    "\n",
    "Let's see what happens in the case of eta = 0.1"
   ]
  },
  {
   "cell_type": "code",
   "execution_count": 9,
   "metadata": {},
   "outputs": [
    {
     "name": "stdout",
     "output_type": "stream",
     "text": [
      "Accuracy analysis for 1200 trees and eta = 0.1\n",
      " \n",
      "Cross validation over 5 folds: 0.6602\n",
      "Accuracy for the training set: 0.6774 \n",
      "Accuracy for the testing set: 0.6648 \n",
      "----------------------------------------------\n"
     ]
    }
   ],
   "source": [
    "eval_metric = ['error', 'auc']\n",
    "eval_set = [(X_train, y_train), (X_test, y_test)]\n",
    "\n",
    "clf = XGBClassifier(objective = 'binary:logistic', seed = 0,\n",
    "                    verbosity = 0,\n",
    "                    n_estimators = 500, max_depth = 4,\n",
    "                    eta = 0.1)\n",
    "\n",
    "clf.fit(X_train, y_train, verbose = False,\n",
    "        eval_metric = eval_metric,\n",
    "        eval_set = eval_set,\n",
    "        early_stopping_rounds = 50)\n",
    "\n",
    "y_pred_train = clf.predict(X_train)\n",
    "y_pred_test = clf.predict(X_test)\n",
    "\n",
    "print ('Accuracy analysis for 1200 trees and eta = 0.1')\n",
    "\n",
    "acc_cv = round(cross_val_score(clf, X_train, y_train, cv = 5).mean(), 4)\n",
    "acc_train = round(accuracy_score(y_train, y_pred_train), 4)\n",
    "acc_test = round(accuracy_score(y_test, y_pred_test), 4)\n",
    "\n",
    "print(' ')\n",
    "print('Cross validation over 5 folds: {}'.format(acc_cv))\n",
    "print('Accuracy for the training set: {} '.format(acc_train)) \n",
    "print('Accuracy for the testing set: {} '.format(acc_test))\n",
    "print ('----------------------------------------------')"
   ]
  },
  {
   "cell_type": "code",
   "execution_count": 10,
   "metadata": {},
   "outputs": [
    {
     "name": "stdout",
     "output_type": "stream",
     "text": [
      "Accuracy analysis for 1200 trees and eta = 0.05\n",
      " \n",
      "Cross validation over 5 folds: 0.6615\n",
      "Accuracy for the training set: 0.6774 \n",
      "Accuracy for the testing set: 0.6664 \n",
      "----------------------------------------------\n"
     ]
    }
   ],
   "source": [
    "## Trying eta = 0.05\n",
    "\n",
    "eval_metric = ['error', 'auc']\n",
    "eval_set = [(X_train, y_train), (X_test, y_test)]\n",
    "\n",
    "clf = XGBClassifier(objective = 'binary:logistic', seed = 0,\n",
    "                    verbosity = 0,\n",
    "                    n_estimators = 500, max_depth = 4,\n",
    "                    eta = 0.05)\n",
    "\n",
    "clf.fit(X_train, y_train, verbose = False,\n",
    "        eval_metric = eval_metric,\n",
    "        eval_set = eval_set,\n",
    "        early_stopping_rounds = 50)\n",
    "\n",
    "y_pred_train = clf.predict(X_train)\n",
    "y_pred_test = clf.predict(X_test)\n",
    "\n",
    "print ('Accuracy analysis for 1200 trees and eta = 0.05')\n",
    "\n",
    "acc_cv = round(cross_val_score(clf, X_train, y_train, cv = 5).mean(), 4)\n",
    "acc_train = round(accuracy_score(y_train, y_pred_train), 4)\n",
    "acc_test = round(accuracy_score(y_test, y_pred_test), 4)\n",
    "\n",
    "print(' ')\n",
    "print('Cross validation over 5 folds: {}'.format(acc_cv))\n",
    "print('Accuracy for the training set: {} '.format(acc_train)) \n",
    "print('Accuracy for the testing set: {} '.format(acc_test))\n",
    "print ('----------------------------------------------')"
   ]
  },
  {
   "cell_type": "markdown",
   "metadata": {},
   "source": [
    "Wow! So we managed to get even further in our accuracy, as a last test, let's see what\n",
    "happens if we set n_estimators = 1000 for instance \n",
    "\n",
    "#### P.S.: It was used 500 trees not 1200 as it states"
   ]
  },
  {
   "cell_type": "code",
   "execution_count": 11,
   "metadata": {},
   "outputs": [
    {
     "name": "stdout",
     "output_type": "stream",
     "text": [
      "Accuracy analysis for 1000 trees and eta = 0.05\n",
      " \n",
      "Cross validation over 5 folds: 0.6608\n",
      "Accuracy for the training set: 0.6774 \n",
      "Accuracy for the testing set: 0.6664 \n",
      "----------------------------------------------\n"
     ]
    }
   ],
   "source": [
    "## Trying eta = 0.05\n",
    "\n",
    "eval_metric = ['error', 'auc']\n",
    "eval_set = [(X_train, y_train), (X_test, y_test)]\n",
    "\n",
    "clf = XGBClassifier(objective = 'binary:logistic', seed = 0,\n",
    "                    verbosity = 0,\n",
    "                    n_estimators = 1000, max_depth = 4,\n",
    "                    eta = 0.05)\n",
    "\n",
    "clf.fit(X_train, y_train, verbose = False,\n",
    "        eval_metric = eval_metric,\n",
    "        eval_set = eval_set,\n",
    "        early_stopping_rounds = 50)\n",
    "\n",
    "y_pred_train = clf.predict(X_train)\n",
    "y_pred_test = clf.predict(X_test)\n",
    "\n",
    "print ('Accuracy analysis for 1000 trees and eta = 0.05')\n",
    "\n",
    "acc_cv = round(cross_val_score(clf, X_train, y_train, cv = 5).mean(), 4)\n",
    "acc_train = round(accuracy_score(y_train, y_pred_train), 4)\n",
    "acc_test = round(accuracy_score(y_test, y_pred_test), 4)\n",
    "\n",
    "print(' ')\n",
    "print('Cross validation over 5 folds: {}'.format(acc_cv))\n",
    "print('Accuracy for the training set: {} '.format(acc_train)) \n",
    "print('Accuracy for the testing set: {} '.format(acc_test))\n",
    "print ('----------------------------------------------')"
   ]
  },
  {
   "cell_type": "markdown",
   "metadata": {},
   "source": [
    "Consequently we will stick with the values of eta = 0.05 and n_estimators = 500\n",
    "\n",
    "### Bagging parameters\n",
    "\n",
    "XGBoost alows us to perform bagging as one of the features to avoid overfitting.\n",
    "Although it seems we are not doing so, let's investigate if we can achieve a\n",
    "better accuracy by changing the percentage of rows chosen for the boosting\n",
    "and the percentage of features used"
   ]
  },
  {
   "cell_type": "code",
   "execution_count": 13,
   "metadata": {},
   "outputs": [
    {
     "name": "stdout",
     "output_type": "stream",
     "text": [
      "Accuracy considering a subsample of 0.7\n",
      " \n",
      "Cross validation over 5 folds: 0.6619\n",
      "Accuracy for the training set: 0.6752 \n",
      "Accuracy for the testing set: 0.6646 \n",
      "----------------------------------------------\n",
      "Accuracy considering a subsample of 0.75\n",
      " \n",
      "Cross validation over 5 folds: 0.6626\n",
      "Accuracy for the training set: 0.6764 \n",
      "Accuracy for the testing set: 0.665 \n",
      "----------------------------------------------\n",
      "Accuracy considering a subsample of 0.8\n",
      " \n",
      "Cross validation over 5 folds: 0.6629\n",
      "Accuracy for the training set: 0.6757 \n",
      "Accuracy for the testing set: 0.665 \n",
      "----------------------------------------------\n",
      "Accuracy considering a subsample of 0.85\n",
      " \n",
      "Cross validation over 5 folds: 0.662\n",
      "Accuracy for the training set: 0.6788 \n",
      "Accuracy for the testing set: 0.6641 \n",
      "----------------------------------------------\n",
      "Accuracy considering a subsample of 0.9\n",
      " \n",
      "Cross validation over 5 folds: 0.6624\n",
      "Accuracy for the training set: 0.6786 \n",
      "Accuracy for the testing set: 0.6641 \n",
      "----------------------------------------------\n"
     ]
    }
   ],
   "source": [
    "for subsample  in [0.7, 0.75, 0.8, 0.85, 0.9]:\n",
    "    clf = XGBClassifier(objective = 'binary:logistic', seed = 0,\n",
    "                        n_estimators = 500, max_depth = 4, eta = 0.05,\n",
    "                        subsample = subsample)\n",
    "\n",
    "    clf.fit(X_train, y_train, verbose = False,\n",
    "            eval_metric = eval_metric,\n",
    "            eval_set = eval_set,\n",
    "            early_stopping_rounds = 50)\n",
    "\n",
    "    y_pred_train = clf.predict(X_train)\n",
    "    y_pred_test = clf.predict(X_test)\n",
    "    \n",
    "    print ('Accuracy considering a subsample of {}'.format(subsample))\n",
    "\n",
    "    acc_cv = round(cross_val_score(clf, X_train, y_train, cv = 5).mean(), 4)\n",
    "    acc_train = round(accuracy_score(y_train, y_pred_train), 4)\n",
    "    acc_test = round(accuracy_score(y_test, y_pred_test), 4)\n",
    "\n",
    "    print(' ')\n",
    "    print('Cross validation over 5 folds: {}'.format(acc_cv))\n",
    "    print('Accuracy for the training set: {} '.format(acc_train)) \n",
    "    print('Accuracy for the testing set: {} '.format(acc_test))\n",
    "    print ('----------------------------------------------') "
   ]
  },
  {
   "cell_type": "code",
   "execution_count": 14,
   "metadata": {},
   "outputs": [
    {
     "name": "stdout",
     "output_type": "stream",
     "text": [
      "Accuracy considering a subsample of 0.9\n",
      " \n",
      "Cross validation over 5 folds: 0.6619\n",
      "Accuracy for the training set: 0.6733 \n",
      "Accuracy for the testing set: 0.6641 \n",
      "----------------------------------------------\n",
      "Accuracy considering a subsample of 0.9\n",
      " \n",
      "Cross validation over 5 folds: 0.6615\n",
      "Accuracy for the training set: 0.6745 \n",
      "Accuracy for the testing set: 0.6658 \n",
      "----------------------------------------------\n",
      "Accuracy considering a subsample of 0.9\n",
      " \n",
      "Cross validation over 5 folds: 0.6614\n",
      "Accuracy for the training set: 0.6727 \n",
      "Accuracy for the testing set: 0.6656 \n",
      "----------------------------------------------\n",
      "Accuracy considering a subsample of 0.9\n",
      " \n",
      "Cross validation over 5 folds: 0.6629\n",
      "Accuracy for the training set: 0.6724 \n",
      "Accuracy for the testing set: 0.665 \n",
      "----------------------------------------------\n",
      "Accuracy considering a subsample of 0.9\n",
      " \n",
      "Cross validation over 5 folds: 0.6613\n",
      "Accuracy for the training set: 0.6751 \n",
      "Accuracy for the testing set: 0.6652 \n",
      "----------------------------------------------\n",
      "Accuracy considering a subsample of 0.9\n",
      " \n",
      "Cross validation over 5 folds: 0.6615\n",
      "Accuracy for the training set: 0.6753 \n",
      "Accuracy for the testing set: 0.6654 \n",
      "----------------------------------------------\n"
     ]
    }
   ],
   "source": [
    "## Percentage of features\n",
    "\n",
    "for colsample_bytree  in [0.7, 0.75, 0.8, 0.85, 0.9, 1.0]:\n",
    "    clf = XGBClassifier(objective = 'binary:logistic', seed = 0,\n",
    "                        n_estimators = 500, max_depth = 4, eta = 0.05,\n",
    "                        colsample_bytree = colsample_bytree\n",
    "                        )\n",
    "\n",
    "    clf.fit(X_train, y_train, verbose = False,\n",
    "            eval_metric = eval_metric,\n",
    "            eval_set = eval_set,\n",
    "            early_stopping_rounds = 12)\n",
    "\n",
    "    y_pred_train = clf.predict(X_train)\n",
    "    y_pred_test = clf.predict(X_test)\n",
    "    \n",
    "    acc_train = round(accuracy_score(y_train, y_pred_train), 2)\n",
    "    acc_test = round(accuracy_score(y_test, y_pred_test), 2)\n",
    "    \n",
    "    print ('Accuracy considering a subsample of {}'.format(subsample))\n",
    "\n",
    "    acc_cv = round(cross_val_score(clf, X_train, y_train, cv = 5).mean(), 4)\n",
    "    acc_train = round(accuracy_score(y_train, y_pred_train), 4)\n",
    "    acc_test = round(accuracy_score(y_test, y_pred_test), 4)\n",
    "\n",
    "    print(' ')\n",
    "    print('Cross validation over 5 folds: {}'.format(acc_cv))\n",
    "    print('Accuracy for the training set: {} '.format(acc_train)) \n",
    "    print('Accuracy for the testing set: {} '.format(acc_test))\n",
    "    print ('----------------------------------------------')"
   ]
  },
  {
   "cell_type": "markdown",
   "metadata": {},
   "source": [
    "### Conclusion about xgboost\n",
    "\n",
    "So the best XGBoost model that we have obtained reached an accuracy of 0.6658 and it was the following"
   ]
  },
  {
   "cell_type": "code",
   "execution_count": null,
   "metadata": {},
   "outputs": [],
   "source": [
    "eval_metric = ['error', 'auc']\n",
    "eval_set = [(X_train, y_train), (X_test, y_test)]\n",
    "\n",
    "clf = XGBClassifier(objective = 'binary:logistic', seed = 0,\n",
    "                    verbosity = 0,\n",
    "                    n_estimators = 500, max_depth = 4,\n",
    "                    eta = 0.05)\n",
    "\n",
    "clf.fit(X_train, y_train, verbose = False,\n",
    "        eval_metric = eval_metric,\n",
    "        eval_set = eval_set,\n",
    "        early_stopping_rounds = 50)"
   ]
  },
  {
   "cell_type": "markdown",
   "metadata": {},
   "source": [
    "Comparing to the baseline model that we have worked on, using Logistic Regression, \n",
    "we  have an improvement of $|0.655 - 0.6664|/0.655 \\simeq 0.017$ which corresponds\n",
    "an improvement of 1.7%.\n",
    "\n",
    "Since it was a rather small improvement, let's see what we can do using LightGBM\n",
    "\n",
    "<a id='lgbm'></a>\n",
    "\n",
    "## LightGBM Classifier"
   ]
  },
  {
   "cell_type": "code",
   "execution_count": 3,
   "metadata": {},
   "outputs": [],
   "source": [
    "X_wo_in = pd.read_csv('X_wo_in.csv')\n",
    "y_cn = pd.read_csv('y_cn.csv')\n",
    "\n",
    "X_train, X_test, y_train, y_test = train_test_split(X_wo_in, y_cn, train_size = 0.8, random_state = 0)\n",
    "\n",
    "## part of the model's information\n",
    "\n",
    "eval_metric = ['error', 'auc']\n",
    "eval_set = [(X_train, y_train), (X_test, y_test)]"
   ]
  },
  {
   "cell_type": "code",
   "execution_count": 41,
   "metadata": {},
   "outputs": [
    {
     "name": "stdout",
     "output_type": "stream",
     "text": [
      " \n",
      "Cross validation over 5 folds: 0.6619\n",
      "Accuracy for the training set: 0.6864 \n",
      "Accuracy for the testing set: 0.6623 \n",
      "----------------------------------------------\n"
     ]
    }
   ],
   "source": [
    "# X_train, X_test, y_train, y_test = train_test_split(X, y_cn, test_size = 0.2, random_state = 0)\n",
    "\n",
    "clf = lgb.LGBMClassifier(objective = 'binary', seed = 0, verbosity = -1)\n",
    "\n",
    "clf.fit(X_train, y_train,\n",
    "        eval_metric = eval_metric,\n",
    "        eval_set = eval_set,\n",
    "        early_stopping_rounds = 50, verbose = False)\n",
    "\n",
    "y_pred_train = clf.predict(X_train)\n",
    "y_pred_test = clf.predict(X_test)\n",
    "\n",
    "acc_cv = round(cross_val_score(clf, X_train, y_train, cv = 5).mean(), 4)\n",
    "acc_train = round(accuracy_score(y_train, y_pred_train), 4)\n",
    "acc_test = round(accuracy_score(y_test, y_pred_test), 4)\n",
    "\n",
    "print(' ')\n",
    "print('Cross validation over 5 folds: {}'.format(acc_cv))\n",
    "print('Accuracy for the training set: {} '.format(acc_train)) \n",
    "print('Accuracy for the testing set: {} '.format(acc_test))\n",
    "print('----------------------------------------------')"
   ]
  },
  {
   "cell_type": "markdown",
   "metadata": {},
   "source": [
    "Schön! This is quite good. Using the baseline model of LightGBM we observe\n",
    "that we obtained the best score in testing set and a not much higher score\n",
    "in the training set, which might be a spot light in the end of this dark tunnel.\n",
    "Let's perform the same tests as before and see what happens.\n",
    "\n",
    "Basic accuracy in **Log. Reg.** : 0.6550\n",
    "\n",
    "Basic accuracy in **XGBoost**   : 0.6575\n",
    "\n",
    "Basic accuracy in **LightGBM**  : 0.6623\n",
    "\n",
    "<a id='fi_lgbm'></a>\n",
    "### Feature importance"
   ]
  },
  {
   "cell_type": "code",
   "execution_count": 24,
   "metadata": {},
   "outputs": [
    {
     "data": {
      "image/png": "[encoded data removed]",
      "text/plain": [
       "<Figure size 864x576 with 1 Axes>"
      ]
     },
     "metadata": {
      "needs_background": "light"
     },
     "output_type": "display_data"
    }
   ],
   "source": [
    "feature_importance = lgb.plot_importance(clf, max_num_features = 25, figsize = (12, 8))\n",
    "\n",
    "plt.show()"
   ]
  },
  {
   "cell_type": "markdown",
   "metadata": {},
   "source": [
    "So we can drammatically reduce the number of feature (95 to 25 features)\n",
    "and keep the same accuracy.\n",
    "\n",
    "### Hyperparameter tunning in LightGBM\n",
    "\n",
    "Despite of all similarities, LightGBM has a a significant\n",
    "difference when compared to XGBoost: whereas the latter\n",
    "is based in the is a tree growth based algorithm and the\n",
    "main ways to control the complexity of the tree is through max_depth,\n",
    "that is not directly true for the former. LightGBM bases itself\n",
    "on the number of leaves, which might be connect to how shallow/deeper\n",
    "is the tree, but **not necessarily**. For further information check the\n",
    "[documentation](https://lightgbm.readthedocs.io/en/latest/Parameters-Tuning.html)"
   ]
  },
  {
   "cell_type": "code",
   "execution_count": 38,
   "metadata": {},
   "outputs": [
    {
     "name": "stdout",
     "output_type": "stream",
     "text": [
      "Accuracy test for LightGBM considering 2 leaves\n",
      " \n",
      "Cross validation over 5 folds: 0.6545\n",
      "Accuracy for the training set: 0.6552 \n",
      "Accuracy for the testing set: 0.6561 \n",
      "----------------------------------------------\n",
      "Accuracy test for LightGBM considering 4 leaves\n",
      " \n",
      "Cross validation over 5 folds: 0.6589\n",
      "Accuracy for the training set: 0.6607 \n",
      "Accuracy for the testing set: 0.6619 \n",
      "----------------------------------------------\n",
      "Accuracy test for LightGBM considering 8 leaves\n",
      " \n",
      "Cross validation over 5 folds: 0.6603\n",
      "Accuracy for the training set: 0.666 \n",
      "Accuracy for the testing set: 0.6633 \n",
      "----------------------------------------------\n",
      "Accuracy test for LightGBM considering 32 leaves\n",
      " \n",
      "Cross validation over 5 folds: 0.6615\n",
      "Accuracy for the training set: 0.6733 \n",
      "Accuracy for the testing set: 0.6646 \n",
      "----------------------------------------------\n",
      "Accuracy test for LightGBM considering 64 leaves\n",
      " \n",
      "Cross validation over 5 folds: 0.6599\n",
      "Accuracy for the training set: 0.6877 \n",
      "Accuracy for the testing set: 0.6611 \n",
      "----------------------------------------------\n",
      "Accuracy test for LightGBM considering 128 leaves\n",
      " \n",
      "Cross validation over 5 folds: 0.657\n",
      "Accuracy for the training set: 0.7056 \n",
      "Accuracy for the testing set: 0.6616 \n",
      "----------------------------------------------\n",
      "Accuracy test for LightGBM considering 256 leaves\n",
      " \n",
      "Cross validation over 5 folds: 0.6503\n",
      "Accuracy for the training set: 0.7226 \n",
      "Accuracy for the testing set: 0.66 \n",
      "----------------------------------------------\n",
      "Accuracy test for LightGBM considering 512 leaves\n",
      " \n",
      "Cross validation over 5 folds: 0.6448\n",
      "Accuracy for the training set: 0.7666 \n",
      "Accuracy for the testing set: 0.65 \n",
      "----------------------------------------------\n",
      "Accuracy test for LightGBM considering 1024 leaves\n",
      " \n",
      "Cross validation over 5 folds: 0.638\n",
      "Accuracy for the training set: 0.8052 \n",
      "Accuracy for the testing set: 0.6461 \n",
      "----------------------------------------------\n",
      "Accuracy test for LightGBM considering 2056 leaves\n",
      " \n",
      "Cross validation over 5 folds: 0.6359\n",
      "Accuracy for the training set: 0.8362 \n",
      "Accuracy for the testing set: 0.6424 \n",
      "----------------------------------------------\n"
     ]
    }
   ],
   "source": [
    "for num_leaves in [2, 4, 8, 32, 64, 128, 256, 512, 1024, 2056]:\n",
    "    clf = lgb.LGBMClassifier(objective = 'binary', seed = 0, verbosity = -1,\n",
    "                            num_leaves = num_leaves)\n",
    "\n",
    "    clf.fit(X_train, y_train,\n",
    "            eval_metric = eval_metric,\n",
    "            eval_set = eval_set,\n",
    "            early_stopping_rounds = 50, verbose = False)\n",
    "\n",
    "    y_pred_train = clf.predict(X_train)\n",
    "    y_pred_test = clf.predict(X_test)\n",
    "\n",
    "    acc_cv = round(cross_val_score(clf, X_train, y_train, cv = 5).mean(), 4)\n",
    "    acc_train = round(accuracy_score(y_train, y_pred_train), 4)\n",
    "    acc_test = round(accuracy_score(y_test, y_pred_test), 4)\n",
    "\n",
    "    print('Accuracy test for LightGBM considering {} leaves'.format(num_leaves))\n",
    "    print(' ')\n",
    "    print('Cross validation over 5 folds: {}'.format(acc_cv))\n",
    "    print('Accuracy for the training set: {} '.format(acc_train)) \n",
    "    print('Accuracy for the testing set: {} '.format(acc_test))\n",
    "    print('----------------------------------------------')\n",
    "\n",
    "# 0.6623"
   ]
  },
  {
   "cell_type": "markdown",
   "metadata": {},
   "source": [
    "Let's analyze what happens around the 32 leaves, trying to make a fine tune of it."
   ]
  },
  {
   "cell_type": "code",
   "execution_count": 47,
   "metadata": {},
   "outputs": [
    {
     "name": "stdout",
     "output_type": "stream",
     "text": [
      "Accuracy test for LightGBM considering 32 leaves\n",
      " \n",
      "Cross validation over 5 folds: 0.6615\n",
      "Accuracy for the training set: 0.6733 \n",
      "Accuracy for the testing set: 0.6646 \n",
      "----------------------------------------------\n",
      "Accuracy test for LightGBM considering 34 leaves\n",
      " \n",
      "Cross validation over 5 folds: 0.6619\n",
      "Accuracy for the training set: 0.6881 \n",
      "Accuracy for the testing set: 0.6611 \n",
      "----------------------------------------------\n",
      "Accuracy test for LightGBM considering 36 leaves\n",
      " \n",
      "Cross validation over 5 folds: 0.6613\n",
      "Accuracy for the training set: 0.6904 \n",
      "Accuracy for the testing set: 0.6628 \n",
      "----------------------------------------------\n",
      "Accuracy test for LightGBM considering 38 leaves\n",
      " \n",
      "Cross validation over 5 folds: 0.6603\n",
      "Accuracy for the training set: 0.6766 \n",
      "Accuracy for the testing set: 0.6639 \n",
      "----------------------------------------------\n",
      "Accuracy test for LightGBM considering 40 leaves\n",
      " \n",
      "Cross validation over 5 folds: 0.6607\n",
      "Accuracy for the training set: 0.6934 \n",
      "Accuracy for the testing set: 0.6641 \n",
      "----------------------------------------------\n",
      "Accuracy test for LightGBM considering 42 leaves\n",
      " \n",
      "Cross validation over 5 folds: 0.6602\n",
      "Accuracy for the training set: 0.6964 \n",
      "Accuracy for the testing set: 0.6618 \n",
      "----------------------------------------------\n"
     ]
    }
   ],
   "source": [
    "for num_leaves in np.arange(32, 43, 2):\n",
    "    clf = lgb.LGBMClassifier(objective = 'binary', seed = 0, verbosity = -1,\n",
    "                            num_leaves = num_leaves)\n",
    "\n",
    "    clf.fit(X_train, y_train,\n",
    "            eval_metric = eval_metric,\n",
    "            eval_set = eval_set,\n",
    "            early_stopping_rounds = 50, verbose = False)\n",
    "\n",
    "    y_pred_train = clf.predict(X_train)\n",
    "    y_pred_test = clf.predict(X_test)\n",
    "\n",
    "    acc_cv = round(cross_val_score(clf, X_train, y_train, cv = 5).mean(), 4)\n",
    "    acc_train = round(accuracy_score(y_train, y_pred_train), 4)\n",
    "    acc_test = round(accuracy_score(y_test, y_pred_test), 4)\n",
    "\n",
    "    print('Accuracy test for LightGBM considering {} leaves'.format(num_leaves))\n",
    "    print(' ')\n",
    "    print('Cross validation over 5 folds: {}'.format(acc_cv))\n",
    "    print('Accuracy for the training set: {} '.format(acc_train)) \n",
    "    print('Accuracy for the testing set: {} '.format(acc_test))\n",
    "    print('----------------------------------------------')\n",
    "\n",
    "# 0.6646 "
   ]
  },
  {
   "cell_type": "markdown",
   "metadata": {},
   "source": [
    "Let's then stick with num_leaves = 32\n",
    "\n",
    "\n",
    "### Minimum data in leaf tuning\n",
    "This tells us about the minimum amount of data to be in in a leaf. This\n",
    "is quite helpful in some cases because it helps to avoid trees to grow\n",
    "too deeply. However, in our case it is not that helpful, since we are\n",
    "basically not overfitting. But let's play with some values."
   ]
  },
  {
   "cell_type": "code",
   "execution_count": 53,
   "metadata": {},
   "outputs": [
    {
     "name": "stdout",
     "output_type": "stream",
     "text": [
      "[LightGBM] [Warning] min_data_in_leaf is set=20, min_child_samples=20 will be ignored. Current value: min_data_in_leaf=20\n",
      "[LightGBM] [Warning] min_data_in_leaf is set=20, min_child_samples=20 will be ignored. Current value: min_data_in_leaf=20\n",
      "[LightGBM] [Warning] min_data_in_leaf is set=20, min_child_samples=20 will be ignored. Current value: min_data_in_leaf=20\n",
      "[LightGBM] [Warning] min_data_in_leaf is set=20, min_child_samples=20 will be ignored. Current value: min_data_in_leaf=20\n",
      "[LightGBM] [Warning] min_data_in_leaf is set=20, min_child_samples=20 will be ignored. Current value: min_data_in_leaf=20\n",
      "[LightGBM] [Warning] min_data_in_leaf is set=20, min_child_samples=20 will be ignored. Current value: min_data_in_leaf=20\n",
      "Accuracy test for minimum data to split\n",
      " \n",
      "Cross validation over 5 folds: 0.6615\n",
      "Accuracy for the training set: 0.6733 \n",
      "Accuracy for the testing set: 0.6646 \n",
      "----------------------------------------------\n",
      "[LightGBM] [Warning] min_data_in_leaf is set=100, min_child_samples=20 will be ignored. Current value: min_data_in_leaf=100\n",
      "[LightGBM] [Warning] min_data_in_leaf is set=100, min_child_samples=20 will be ignored. Current value: min_data_in_leaf=100\n",
      "[LightGBM] [Warning] min_data_in_leaf is set=100, min_child_samples=20 will be ignored. Current value: min_data_in_leaf=100\n",
      "[LightGBM] [Warning] min_data_in_leaf is set=100, min_child_samples=20 will be ignored. Current value: min_data_in_leaf=100\n",
      "[LightGBM] [Warning] min_data_in_leaf is set=100, min_child_samples=20 will be ignored. Current value: min_data_in_leaf=100\n",
      "[LightGBM] [Warning] min_data_in_leaf is set=100, min_child_samples=20 will be ignored. Current value: min_data_in_leaf=100\n",
      "Accuracy test for minimum data to split\n",
      " \n",
      "Cross validation over 5 folds: 0.662\n",
      "Accuracy for the training set: 0.6856 \n",
      "Accuracy for the testing set: 0.6641 \n",
      "----------------------------------------------\n",
      "[LightGBM] [Warning] min_data_in_leaf is set=1000, min_child_samples=20 will be ignored. Current value: min_data_in_leaf=1000\n",
      "[LightGBM] [Warning] min_data_in_leaf is set=1000, min_child_samples=20 will be ignored. Current value: min_data_in_leaf=1000\n",
      "[LightGBM] [Warning] min_data_in_leaf is set=1000, min_child_samples=20 will be ignored. Current value: min_data_in_leaf=1000\n",
      "[LightGBM] [Warning] min_data_in_leaf is set=1000, min_child_samples=20 will be ignored. Current value: min_data_in_leaf=1000\n",
      "[LightGBM] [Warning] min_data_in_leaf is set=1000, min_child_samples=20 will be ignored. Current value: min_data_in_leaf=1000\n",
      "[LightGBM] [Warning] min_data_in_leaf is set=1000, min_child_samples=20 will be ignored. Current value: min_data_in_leaf=1000\n",
      "Accuracy test for minimum data to split\n",
      " \n",
      "Cross validation over 5 folds: 0.6619\n",
      "Accuracy for the training set: 0.6801 \n",
      "Accuracy for the testing set: 0.6632 \n",
      "----------------------------------------------\n"
     ]
    }
   ],
   "source": [
    "for min_child_samples in [20, 100, 1000]:# default = 20\n",
    "    clf = lgb.LGBMClassifier(objective = 'binary', seed = 0, verbosity = -1,\n",
    "                            num_leaves = 32,\n",
    "                            min_data_in_leaf = min_child_samples\n",
    "                            )\n",
    "\n",
    "    clf.fit(X_train, y_train,\n",
    "            eval_metric = eval_metric,\n",
    "            eval_set = eval_set,\n",
    "            early_stopping_rounds = 50, verbose = False)\n",
    "\n",
    "    y_pred_train = clf.predict(X_train)\n",
    "    y_pred_test = clf.predict(X_test)\n",
    "\n",
    "    acc_cv = round(cross_val_score(clf, X_train, y_train, cv = 5).mean(), 4)\n",
    "    acc_train = round(accuracy_score(y_train, y_pred_train), 4)\n",
    "    acc_test = round(accuracy_score(y_test, y_pred_test), 4)\n",
    "\n",
    "    print('Accuracy test for minimum data to split'.format(min_child_samples))\n",
    "    print(' ')\n",
    "    print('Cross validation over 5 folds: {}'.format(acc_cv))\n",
    "    print('Accuracy for the training set: {} '.format(acc_train)) \n",
    "    print('Accuracy for the testing set: {} '.format(acc_test))\n",
    "    print('----------------------------------------------')\n",
    "\n",
    "# 0.6646"
   ]
  },
  {
   "cell_type": "markdown",
   "metadata": {},
   "source": [
    "As we expected it played no role in our model's improvement. Let's try other parameters\n",
    "\n",
    "### Learning rate and number of iterations"
   ]
  },
  {
   "cell_type": "code",
   "execution_count": 57,
   "metadata": {
    "scrolled": false
   },
   "outputs": [
    {
     "name": "stdout",
     "output_type": "stream",
     "text": [
      "Accuracy test for 1000 trees and eta = 0.01\n",
      " \n",
      "Cross validation over 5 folds: 0.6618\n",
      "Accuracy for the training set: 0.6704 \n",
      "Accuracy for the testing set: 0.663 \n",
      "----------------------------------------------\n",
      "Accuracy test for 1000 trees and eta = 0.05\n",
      " \n",
      "Cross validation over 5 folds: 0.6547\n",
      "Accuracy for the training set: 0.6774 \n",
      "Accuracy for the testing set: 0.6652 \n",
      "----------------------------------------------\n",
      "Accuracy test for 1000 trees and eta = 0.1\n",
      " \n",
      "Cross validation over 5 folds: 0.6502\n",
      "Accuracy for the training set: 0.6733 \n",
      "Accuracy for the testing set: 0.6646 \n",
      "----------------------------------------------\n",
      "Accuracy test for 1000 trees and eta = 0.3\n",
      " \n",
      "Cross validation over 5 folds: 0.6285\n",
      "Accuracy for the training set: 0.6691 \n",
      "Accuracy for the testing set: 0.6623 \n",
      "----------------------------------------------\n"
     ]
    }
   ],
   "source": [
    "num_iterations = 1000\n",
    "\n",
    "for eta in [0.01, 0.05, 0.1, 0.3]:\n",
    "    clf = lgb.LGBMClassifier(objective = 'binary', seed = 0, verbosity = -1,\n",
    "                             num_leaves = 32, num_iterations = num_iterations,\n",
    "                             learning_rate = eta\n",
    "                             )\n",
    "\n",
    "    clf.fit(X_train, y_train,\n",
    "            eval_metric = eval_metric,\n",
    "            eval_set = eval_set,\n",
    "            early_stopping_rounds = 50, verbose = False)\n",
    "\n",
    "    y_pred_train = clf.predict(X_train)\n",
    "    y_pred_test = clf.predict(X_test)\n",
    "\n",
    "    acc_cv = round(cross_val_score(clf, X_train, y_train, cv = 5).mean(), 4)\n",
    "    acc_train = round(accuracy_score(y_train, y_pred_train), 4)\n",
    "    acc_test = round(accuracy_score(y_test, y_pred_test), 4)\n",
    "\n",
    "    print('Accuracy test for 1000 trees and eta = {}'.format(eta))\n",
    "    print(' ')\n",
    "    print('Cross validation over 5 folds: {}'.format(acc_cv))\n",
    "    print('Accuracy for the training set: {} '.format(acc_train)) \n",
    "    print('Accuracy for the testing set: {} '.format(acc_test))\n",
    "    print('----------------------------------------------')\n",
    "\n",
    "# 0.6646"
   ]
  },
  {
   "cell_type": "markdown",
   "metadata": {},
   "source": [
    "Schön! We managed to improve it a little bit!!! However, we\n",
    "might be able to improve it even more. Let's see what happens if\n",
    "we increase the number of trees (for eta = 0.01 we didn't reach the\n",
    "the values associated to 0.05 nor 0.1. To what concerns eta = 0.3,\n",
    "we can drop it now, since we see that it is overshooting the minimum."
   ]
  },
  {
   "cell_type": "code",
   "execution_count": 5,
   "metadata": {},
   "outputs": [
    {
     "name": "stdout",
     "output_type": "stream",
     "text": [
      "Accuracy test for 1000 trees and eta = 0.01\n",
      " \n",
      "Cross validation over 5 folds: 0.6618\n",
      "Accuracy for the training set: 0.6767 \n",
      "Accuracy for the testing set: 0.6646 \n",
      "----------------------------------------------\n",
      "Accuracy test for 1000 trees and eta = 0.05\n",
      " \n",
      "Cross validation over 5 folds: 0.6547\n",
      "Accuracy for the training set: 0.6774 \n",
      "Accuracy for the testing set: 0.6652 \n",
      "----------------------------------------------\n",
      "Accuracy test for 1000 trees and eta = 0.1\n",
      " \n",
      "Cross validation over 5 folds: 0.6502\n",
      "Accuracy for the training set: 0.6733 \n",
      "Accuracy for the testing set: 0.6646 \n",
      "----------------------------------------------\n",
      "Accuracy test for 1500 trees and eta = 0.01\n",
      " \n",
      "Cross validation over 5 folds: 0.6618\n",
      "Accuracy for the training set: 0.6767 \n",
      "Accuracy for the testing set: 0.6646 \n",
      "----------------------------------------------\n",
      "Accuracy test for 1500 trees and eta = 0.05\n",
      " \n",
      "Cross validation over 5 folds: 0.653\n",
      "Accuracy for the training set: 0.6856 \n",
      "Accuracy for the testing set: 0.6643 \n",
      "----------------------------------------------\n",
      "Accuracy test for 1500 trees and eta = 0.1\n",
      " \n",
      "Cross validation over 5 folds: 0.6452\n",
      "Accuracy for the training set: 0.6733 \n",
      "Accuracy for the testing set: 0.6646 \n",
      "----------------------------------------------\n"
     ]
    }
   ],
   "source": [
    "for num_iterations in [1000, 1500]:\n",
    "    for eta in [0.01, 0.05, 0.1]:\n",
    "        clf = lgb.LGBMClassifier(objective = 'binary', seed = 0, verbosity = -1,\n",
    "                                 num_leaves = 32, num_iterations = num_iterations,\n",
    "                                 learning_rate = eta\n",
    "                                 )\n",
    "\n",
    "        clf.fit(X_train, y_train,\n",
    "                eval_metric = eval_metric,\n",
    "                eval_set = eval_set,\n",
    "                early_stopping_rounds = int(num_iterations/10), verbose = False)\n",
    "\n",
    "        y_pred_train = clf.predict(X_train)\n",
    "        y_pred_test = clf.predict(X_test)\n",
    "\n",
    "        acc_cv = round(cross_val_score(clf, X_train, y_train, cv = 5).mean(), 4)\n",
    "        acc_train = round(accuracy_score(y_train, y_pred_train), 4)\n",
    "        acc_test = round(accuracy_score(y_test, y_pred_test), 4)\n",
    "\n",
    "        print('Accuracy test for {} trees and eta = {}'.format(num_iterations, eta))\n",
    "        print(' ')\n",
    "        print('Cross validation over 5 folds: {}'.format(acc_cv))\n",
    "        print('Accuracy for the training set: {} '.format(acc_train)) \n",
    "        print('Accuracy for the testing set: {} '.format(acc_test))\n",
    "        print('----------------------------------------------')\n",
    "\n",
    "# 0.6652 "
   ]
  },
  {
   "cell_type": "markdown",
   "metadata": {},
   "source": [
    "We observe that the best accuracy was achieved for 1000 trees\n",
    "and learning rate of 0.05."
   ]
  },
  {
   "cell_type": "markdown",
   "metadata": {},
   "source": [
    "<a id='partial_conclusion'></a>\n",
    "\n",
    "# Partial conclusion about what has been achieved so far\n",
    "\n",
    "### About the models\n",
    "\n",
    "For this problem specifically we observed that the baseline models, all of them,\n",
    "started with accuracy above 60%, but we didn't manage to increase its accuracy\n",
    "much beyond that, even after a detailed parameter tunning in lightgbm and xgboost.\n",
    "A proper feature engineering might be necessary if one wants to improve its accuracy\n",
    "and cross the 70% border. An idea to be implemented later is the creation of a \n",
    "\"social status parameter\", which is a composition of several parameters in a single one.\n",
    "\n",
    "\n",
    "However, before embarking in this journey, let's do some stuff before:\n",
    "\n",
    "1) Let's analyze the accuracy curve of our model and see how if is possible, by changing\n",
    "the threshold, to improve the model's accuracy.\n",
    "\n",
    "2) Understand better whether this small improvement can have any impact or not."
   ]
  },
  {
   "cell_type": "code",
   "execution_count": 4,
   "metadata": {},
   "outputs": [
    {
     "name": "stdout",
     "output_type": "stream",
     "text": [
      "Accuracy test for 1000 trees and eta = 0.05\n",
      " \n",
      "Cross validation over 5 folds: 0.6547\n",
      "Accuracy for the training set: 0.6774 \n",
      "Accuracy for the testing set: 0.6652 \n",
      "----------------------------------------------\n"
     ]
    }
   ],
   "source": [
    "num_iterations = 1000\n",
    "eta = 0.05\n",
    "\n",
    "clf = lgb.LGBMClassifier(objective = 'binary', seed = 0, verbosity = -1,\n",
    "                         num_leaves = 32, num_iterations = num_iterations,\n",
    "                         learning_rate = eta\n",
    "                         )\n",
    "\n",
    "clf.fit(X_train, y_train,\n",
    "        eval_metric = eval_metric,\n",
    "        eval_set = eval_set,\n",
    "        early_stopping_rounds = int(num_iterations/10), verbose = False)\n",
    "\n",
    "y_pred_train = clf.predict(X_train)\n",
    "y_pred_test = clf.predict(X_test)\n",
    "\n",
    "acc_cv = round(cross_val_score(clf, X_train, y_train, cv = 5).mean(), 4)\n",
    "acc_train = round(accuracy_score(y_train, y_pred_train), 4)\n",
    "acc_test = round(accuracy_score(y_test, y_pred_test), 4)\n",
    "\n",
    "print('Accuracy test for {} trees and eta = {}'.format(num_iterations, eta))\n",
    "print(' ')\n",
    "print('Cross validation over 5 folds: {}'.format(acc_cv))\n",
    "print('Accuracy for the training set: {} '.format(acc_train)) \n",
    "print('Accuracy for the testing set: {} '.format(acc_test))\n",
    "print('----------------------------------------------')\n",
    "\n",
    "# 0.6652 "
   ]
  },
  {
   "cell_type": "code",
   "execution_count": 9,
   "metadata": {},
   "outputs": [],
   "source": [
    "threshold_list = []\n",
    "accuracy_list  = []\n",
    "for threshold in np.arange(0.1, 1, 0.01):\n",
    "    threshold = round(threshold, 2)\n",
    "    predicted_proba = clf.predict_proba(X_test)\n",
    "    predicted = (predicted_proba [:,1] >= threshold).astype('int')\n",
    "\n",
    "    accuracy = accuracy_score(y_test, predicted)\n",
    "    \n",
    "    threshold_list.append(threshold)\n",
    "    accuracy_list.append(accuracy)"
   ]
  },
  {
   "cell_type": "markdown",
   "metadata": {},
   "source": [
    "<a id='diff_th_lgbm'></a>"
   ]
  },
  {
   "cell_type": "code",
   "execution_count": 15,
   "metadata": {},
   "outputs": [
    {
     "data": {
      "image/png": "[encoded data removed]",
      "text/plain": [
       "<Figure size 720x576 with 1 Axes>"
      ]
     },
     "metadata": {
      "needs_background": "light"
     },
     "output_type": "display_data"
    }
   ],
   "source": [
    "fig, ax = plt.subplots(figsize = (10, 8))\n",
    "\n",
    "ax.set_xlabel('Threshold', fontsize = 14)\n",
    "ax.set_ylabel('Accuracy', fontsize = 14)\n",
    "ax.plot(threshold_list, accuracy_list, color = 'black', alpha = 0.6)\n",
    "ax.axvline(x=0.5, color = 'tomato', linestyle = '--', label = 'threshold = 0.5')\n",
    "ax.set_title('Max accuracy of \\n{}'.format(round(max(accuracy_list), 4)))\n",
    "ax.scatter(x = 0.5, y = max(accuracy_list), marker = 'D', c = 'blue', label = 'Point of max acc')\n",
    "\n",
    "plt.legend()\n",
    "\n",
    "plt.show()"
   ]
  },
  {
   "cell_type": "markdown",
   "metadata": {},
   "source": [
    "So we observe that indeed this was the better split that we could have done.\n",
    "Let's then check whether this small improvement has any impact or not.\n",
    "<a id='final_conc'></a>\n",
    "## Final conclusion about the natural science classification problem\n",
    "\n",
    "This small improvement is related to students all over the country and it has\n",
    "for sure an impact on the brazilian economy (and we will analyze how much\n",
    "that could help soon).\n",
    "\n",
    "Nowadays we are facing a lot of problems regarding people which do not trust scientific evidences.\n",
    "Let's suppose that a future president wants to improve the performance of the students in natural\n",
    "science exams, because he/she thinks that is quite relevant that people trust in science, otherwise\n",
    "there will be more people thinking that is okay to not take the vaccines, not wearing masks during\n",
    "the pandemic, etc... The first move of this new president is to create reinforcement classes for\n",
    "the students which have a greater chance to score below the mean of 2018 and the president wants\n",
    "to know how much teachers he would need to hire for natural sciences (i.e., Physics Chemistry and\n",
    "Biology) (this is a hypothetical situation, it is most likely that the solutions for science\n",
    "education in Brazil are others (although the number of teachers might be an issue as well)).\n",
    "\n",
    "Firstly, lets analyze the following: *TP_DEPENDENCIA_ADM_ESC* contains the kind of school\n",
    "that the applicant came from. Let's see if indeed the majority are coming from public schools"
   ]
  },
  {
   "cell_type": "code",
   "execution_count": 16,
   "metadata": {},
   "outputs": [
    {
     "name": "stdout",
     "output_type": "stream",
     "text": [
      "Number of applicants which didn't reply: TP_DEPENDENCIA_ADM_ESC    722625\n",
      "dtype: int64\n"
     ]
    },
    {
     "data": {
      "image/png": "[encoded data removed]",
      "text/plain": [
       "<Figure size 432x288 with 1 Axes>"
      ]
     },
     "metadata": {
      "needs_background": "light"
     },
     "output_type": "display_data"
    }
   ],
   "source": [
    "df_tp_escola = pd.read_csv('DADOS/MICRODADOS_ENEM_2018.csv', usecols = ['TP_DEPENDENCIA_ADM_ESC'],\n",
    "                           nrows = 1000000, sep = ';', encoding = 'ISO-8859-1')\n",
    "\n",
    "\n",
    "print (\"Number of applicants which didn't reply: {}\".format(df_tp_escola.isna().sum()))\n",
    "\n",
    "sns.countplot(df_tp_escola.TP_DEPENDENCIA_ADM_ESC)\n",
    "plt.show()\n",
    "\n",
    "##We observe that among those which replied, the vast majority are from public schools"
   ]
  },
  {
   "cell_type": "code",
   "execution_count": 17,
   "metadata": {},
   "outputs": [
    {
     "name": "stdout",
     "output_type": "stream",
     "text": [
      "Percentage of students in public school: 78.02\n"
     ]
    }
   ],
   "source": [
    "public = len(df_tp_escola[df_tp_escola.TP_DEPENDENCIA_ADM_ESC == 2] )\n",
    "total = df_tp_escola.TP_DEPENDENCIA_ADM_ESC.notna().sum()\n",
    "\n",
    "percentage = round(100*public/total, 2)\n",
    "\n",
    "print('Percentage of students in public school: {}'.format(percentage))\n",
    "\n",
    "## Let's extrapolate this value for all the applicants."
   ]
  },
  {
   "cell_type": "markdown",
   "metadata": {},
   "source": [
    "### Identifying the amount of students from public schools\n",
    "\n",
    "Since the average of applicants in enem last year was around [5 millions](https://veja.abril.com.br/educacao/com-5-milhoes-de-inscritos-confirmados-enem-segue-tendencia-de-queda/)\n",
    "we are going to assume that $78\\pm 7.8\\%$ were from public schools. Being\n",
    "conservative regarding these numbers, let's take the lower bound of $71.2\\%$.\n",
    "Therefore, 3.560.000 students were from public schools and are paid by the government.\n",
    "\n",
    "### Identifying the amount of Physics, Chemistry and Biology teachers necessary\n",
    "\n",
    "The classes in public high schools have the average of $30.5$ students per class, according\n",
    "to the [Ministery of Education](http://portal.mec.gov.br/component/tags/tag/media.).\n",
    "Since to complete the studies one needs three years, it means that one student is going\n",
    "to have nine teachers in natural sciences along the high school.\n",
    "\n",
    "As we have $3.560.000$ students from public schools applying to ENEM, these students, when\n",
    "grouped together, represent $3.560.000/30.5 \\simeq 116.721$ classes, such that each of\n",
    "these classes during the high school have had $116.721*9 = 1.050.492$ teachers in natural\n",
    "science. However, the relation is not one teacher per class. Physics and Chemistry for\n",
    "example have three classes during the week, while Biology has two. Let's take as fixed\n",
    "value three classes a week. Since most teachers have $20$ hours of in-class working hours,\n",
    "it means that each of them have around $7$ classes per year. Therefore, we need to divide\n",
    "the number $1.050.492/7 \\simeq 150.070$ and the **number of teachers** to train the students\n",
    "go through the public high schools is $\\simeq 150.070$.\n",
    "\n",
    "\n",
    "%%%Ensino Médio: R\\% 2.872,00\n",
    "\n",
    "### Project of a governmental plan to improve Science in Brazil\n",
    "\n",
    "After looking the data, the Federal government observes that there are more students\n",
    "below the mean rather than above the mean as we show below"
   ]
  },
  {
   "cell_type": "code",
   "execution_count": 19,
   "metadata": {},
   "outputs": [
    {
     "name": "stdout",
     "output_type": "stream",
     "text": [
      "In Brazil 46.06% of the students are above the mean, whereas 53.94% are below the mean in Natural Sciences\n"
     ]
    }
   ],
   "source": [
    "above = round(100*y_cn.above_below_avg_cn.sum()/len(y_cn), 2)\n",
    "below = 100 - above\n",
    "\n",
    "n_above = y_cn.above_below_avg_cn.sum()\n",
    "n_below = len(y_cn) - n_above\n",
    "\n",
    "print('In Brazil {}% of the students are above the mean, whereas {}% are below the mean in Natural Sciences'.format(above, below))"
   ]
  },
  {
   "cell_type": "code",
   "execution_count": 20,
   "metadata": {},
   "outputs": [
    {
     "name": "stdout",
     "output_type": "stream",
     "text": [
      "33113\n",
      "38777\n"
     ]
    }
   ],
   "source": [
    "print(n_above)\n",
    "print(n_below)"
   ]
  },
  {
   "cell_type": "markdown",
   "metadata": {},
   "source": [
    "<a id='final_conc'></a>\n",
    "\n",
    "The government then decides to develop a plan to have all\n",
    "of the students above the mean in Natural Sciences of 2018. For doing so,\n",
    "they decided to hire more teachers for reinforcement classes for the three\n",
    "natural sciences subjects.\n",
    "\n",
    "According to [Agencia Brasil website](https://agenciabrasil.ebc.com.br/educacao/noticia/2020-10/redes-publicas-de-ensino-registram-361-milhoes-matriculas) there was 6.220.817\n",
    "students enrolled in public high schools. Assuming a equal division among\n",
    "the different levels, one has $2073606$ students in the first year of the\n",
    "high school. Taking the national value where $53.94\\%$ of the students are\n",
    "below the mean, it corresponds to $1118503$ students belonging to this class\n",
    "(below the mean of 2018). The former model had an accuracy of $65.50\\%$ whereas\n",
    "the best has an accuracy of $66.62\\%$. This information tells us that the latter\n",
    "can identify **up to** $13422$ more students than the former correctly that are\n",
    "below the mean. However, this is not the only impact though.\n",
    "\n",
    "Whether it is considered the opposite limit (identification of this $1.2%$\n",
    "are in the class 1) one can prevent up to $13422$ to be missclassified\n",
    "in the class 0 and it could save some money for the Brazilian government.\n",
    "Let's estimate how much money we are talking about.\n",
    "\n",
    "One student needs nine teachers throughout his/her course in high school,\n",
    "consequently one has $9\\cdot13422 = 120798$ teachers. Each class has, in\n",
    "average, $30.5$ students, it means that one would need $3961$ teachers.\n",
    "Each teacher is responsible for approximatelly 7 classes, which lead us to\n",
    "$3961/7 = 566$ teachers to be hired. The mean salary of teachers in public\n",
    "high schools in Brazilian reais is [2886.24](http://portal.mec.gov.br/component/tags/tag/32666),\n",
    "which corresponds to an anual income of $13\\cdot2886.24 = 37521.12$, for\n",
    "all the teachers one would have $566\\cdot37521.12 = 21236953.92$, a little\n",
    "over $21$ millions in Brazilian reais per year (and we are considering only\n",
    "the liquid salary). Over one cycle (three years) one group of students\n",
    "will go through the entire highschool. Another group will have two years\n",
    "in the high school (when the first group go from the first to the second year)\n",
    "and a third one will be starting. Therefore, in three years we have\n",
    "the expense of $6\\cdot 21236953.92 \\simeq 128$ millions.\n",
    "\n",
    "For the federal government, according to the [UNICAMP website](https://www.unicamp.br/unicamp/coronavirus/quanto-custa), $128\\cdot10^6$ is equivalent to:\n",
    "\n",
    "- Test almost 1.9 million Brazilian people for COVID-19;\n",
    "- Implantation of a little over 700 ICU rooms;\n",
    "- For attending 1000 ICU rooms for COVID-patients, it costs $207000R\\$$ in medical supplies.\n",
    "One could mantain these ICU for almost two years.\n",
    "\n",
    "Also, related to the education per se, it is informed that during 2020 [$143.3$](https://g1.globo.com/educacao/noticia/2021/02/21/ministerio-da-educacao-nao-gasta-o-dinheiro-que-tem-disponivel-e-sofre-reducao-de-recursos-em-2020-aponta-relatorio.ghtml)\n",
    "billions Brazilian reais was reserved to the education. Accordingly to our value, that is approximatelly\n",
    "$0.01\\%$ of the total income used in the entire education in the country.\n",
    "\n",
    "Another interesting example regarding education, according to [this news](https://g1.globo.com/educacao/noticia/2019/09/02/capes-deixa-de-oferecer-5613-bolsas-a-partir-deste-mes-e-preve-economia-de-r-544-milhoes-em-4-anos.ghtml)\n",
    "the federal funding agency was planning to cancel 5.613 scholarships for PhD\n",
    "and Master researchers and that would allow them to save 544 millions in Brazilian reais\n",
    "in four years, which corresponds to 136 millions in one year. Our calculation basic\n",
    "improvement shows a saving of 32 millions per year, which corresponds to roughly $25\\%$\n",
    "of this value."
   ]
  },
  {
   "cell_type": "markdown",
   "metadata": {},
   "source": [
    "<a id='diff_path'></a>\n",
    "\n",
    "# Different analysis that could have been done\n",
    "\n",
    "As it has been seen throughout this work, although we have aimed in the accuracy of the model\n",
    "we were able to have an idea of what this **small** improvement can produce regarding real values and,\n",
    "interestingly, for some factors small improvements can return sizable profits.\n",
    "\n",
    "Also, depending on the situation of the company/institution accuracy might not be the most\n",
    "relevant to be checked. For example, considere the following confusion_matrix and the two cases\n",
    "below:\n",
    "\n",
    "<img src=\"https://static.packt-cdn.com/products/9781838555078/graphics/C13314_06_05.jpg\" alt=\"Confusion Matrix\" style=\"height: 300px; width:400px;\"/>\n",
    "\n",
    "\n",
    "**Case (I):** The government is really focused on improving those students which\n",
    "are below the mean, even if it costs making wrong predictions about those which are\n",
    "above the mean. In this case, the quantity that one is interested in maximizing is\n",
    "\n",
    "$$\\frac{TN}{TN+FP}\\,,$$\n",
    "which is the recall for the negative class (or specificity).\n",
    "\n",
    "On the other hand, we have the case (II) below.\n",
    "\n",
    "**Case (II):** Although the government really wants to improve the grades\n",
    "in natural sciences it really wants to avoid making wrong predictions\n",
    "and including those students which are above the mean. In this case the\n",
    "pertinent quantity is\n",
    "\n",
    "$$\\frac{TN}{TN + FN}\\,,$$\n",
    "which is the precision for the negative class of the model.\n"
   ]
  },
  {
   "cell_type": "code",
   "execution_count": null,
   "metadata": {},
   "outputs": [],
   "source": []
  },
  {
   "cell_type": "code",
   "execution_count": null,
   "metadata": {},
   "outputs": [],
   "source": []
  },
  {
   "cell_type": "code",
   "execution_count": null,
   "metadata": {},
   "outputs": [],
   "source": []
  },
  {
   "cell_type": "code",
   "execution_count": null,
   "metadata": {},
   "outputs": [],
   "source": []
  },
  {
   "cell_type": "code",
   "execution_count": null,
   "metadata": {},
   "outputs": [],
   "source": []
  },
  {
   "cell_type": "code",
   "execution_count": null,
   "metadata": {},
   "outputs": [],
   "source": []
  }
 ],
 "metadata": {
  "kernelspec": {
   "display_name": "Python 3",
   "language": "python",
   "name": "python3"
  },
  "language_info": {
   "codemirror_mode": {
    "name": "ipython",
    "version": 3
   },
   "file_extension": ".py",
   "mimetype": "text/x-python",
   "name": "python",
   "nbconvert_exporter": "python",
   "pygments_lexer": "ipython3",
   "version": "3.8.5"
  }
 },
 "nbformat": 4,
 "nbformat_minor": 4
}
