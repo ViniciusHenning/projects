{
 "cells": [
  {
   "cell_type": "markdown",
   "metadata": {},
   "source": [
    "# Dataset creation\n",
    "\n",
    "There are a lot of non-pertinent data in the datasets provided by INPE. In this notebook\n",
    "I create functions to simplify the datasets where we are left solely with the relevant information"
   ]
  },
  {
   "cell_type": "code",
   "execution_count": 1,
   "metadata": {},
   "outputs": [],
   "source": [
    "import pandas as pd"
   ]
  },
  {
   "cell_type": "code",
   "execution_count": 60,
   "metadata": {},
   "outputs": [],
   "source": [
    "file2014 = '../../dataset/data2014.csv'\n",
    "file2015 = '../../dataset/data2015.csv'\n",
    "file2016 = '../../dataset/data2016.csv'\n",
    "file2017 = '../../dataset/data2017.csv'\n",
    "file2018 = '../../dataset/data2018.csv'\n",
    "file2019 = '../../dataset/data2019.csv'\n",
    "file2020 = '../../dataset/data2020.csv'"
   ]
  },
  {
   "cell_type": "code",
   "execution_count": 62,
   "metadata": {},
   "outputs": [],
   "source": [
    "def fire_prec_creator(filename):\n",
    "    cols = ['datahora', 'bioma', 'riscofogo', 'latitude', 'longitude', 'precipitacao']\n",
    "    dataframe = pd.read_csv(filename, usecols = cols, parse_dates = True, index_col = 'datahora')\n",
    "    \n",
    "    df_fogo = dataframe.drop(columns = ['latitude', 'longitude', 'precipitacao']).copy()\n",
    "\n",
    "    df_fogo = df_fogo[df_fogo.riscofogo == 1]\n",
    "\n",
    "    gb_biome  = df_fogo.groupby('bioma')\n",
    "\n",
    "    new_df_fogo = pd.DataFrame(columns = ['bioma', 'riscofogo'])\n",
    "    for biome, df in gb_biome:\n",
    "        df = df.resample('W').sum().sort_index()\n",
    "        df['bioma'] = biome\n",
    "        new_df_fogo = pd.concat([new_df_fogo, df])\n",
    "\n",
    "    df_prec = dataframe.drop(columns = ['latitude', 'longitude', 'riscofogo']).copy()\n",
    "\n",
    "    gb_biome  = df_prec.groupby('bioma')\n",
    "\n",
    "    new_df_prec = pd.DataFrame(columns = ['bioma', 'precipitacao'])\n",
    "\n",
    "    for biome, df in gb_biome:\n",
    "        df = df.resample('W').mean().sort_index()\n",
    "        df['bioma'] = biome\n",
    "        new_df_prec = pd.concat([new_df_prec, df])\n",
    "\n",
    "    new_df_prec.head()\n",
    "\n",
    "    new_dataframe = pd.DataFrame(columns = ['bioma', 'riscofogo', 'precipitacao'])\n",
    "    for biome in new_df_prec.bioma.unique():\n",
    "        df1 = new_df_fogo[new_df_fogo.bioma == biome].drop(columns = 'bioma')\n",
    "        df2 = new_df_prec[new_df_prec.bioma == biome].drop(columns = 'bioma')\n",
    "        df3 = pd.merge(df1, df2, left_index = True, right_index = True)\n",
    "        df3['bioma'] = biome\n",
    "        new_dataframe = pd.concat([new_dataframe, df3])\n",
    "    return new_dataframe"
   ]
  },
  {
   "cell_type": "code",
   "execution_count": 63,
   "metadata": {},
   "outputs": [
    {
     "data": {
      "text/html": [
       "<div>\n",
       "<style scoped>\n",
       "    .dataframe tbody tr th:only-of-type {\n",
       "        vertical-align: middle;\n",
       "    }\n",
       "\n",
       "    .dataframe tbody tr th {\n",
       "        vertical-align: top;\n",
       "    }\n",
       "\n",
       "    .dataframe thead th {\n",
       "        text-align: right;\n",
       "    }\n",
       "</style>\n",
       "<table border=\"1\" class=\"dataframe\">\n",
       "  <thead>\n",
       "    <tr style=\"text-align: right;\">\n",
       "      <th></th>\n",
       "      <th>bioma</th>\n",
       "      <th>riscofogo</th>\n",
       "      <th>precipitacao</th>\n",
       "    </tr>\n",
       "  </thead>\n",
       "  <tbody>\n",
       "    <tr>\n",
       "      <th>2014-01-05</th>\n",
       "      <td>Amazonia</td>\n",
       "      <td>1462.0</td>\n",
       "      <td>1.367618</td>\n",
       "    </tr>\n",
       "    <tr>\n",
       "      <th>2014-01-12</th>\n",
       "      <td>Amazonia</td>\n",
       "      <td>528.0</td>\n",
       "      <td>2.994492</td>\n",
       "    </tr>\n",
       "    <tr>\n",
       "      <th>2014-01-19</th>\n",
       "      <td>Amazonia</td>\n",
       "      <td>357.0</td>\n",
       "      <td>2.270912</td>\n",
       "    </tr>\n",
       "    <tr>\n",
       "      <th>2014-01-26</th>\n",
       "      <td>Amazonia</td>\n",
       "      <td>1347.0</td>\n",
       "      <td>0.987918</td>\n",
       "    </tr>\n",
       "    <tr>\n",
       "      <th>2014-02-02</th>\n",
       "      <td>Amazonia</td>\n",
       "      <td>423.0</td>\n",
       "      <td>1.589529</td>\n",
       "    </tr>\n",
       "    <tr>\n",
       "      <th>...</th>\n",
       "      <td>...</td>\n",
       "      <td>...</td>\n",
       "      <td>...</td>\n",
       "    </tr>\n",
       "    <tr>\n",
       "      <th>2014-12-07</th>\n",
       "      <td>Pantanal</td>\n",
       "      <td>10.0</td>\n",
       "      <td>1.925424</td>\n",
       "    </tr>\n",
       "    <tr>\n",
       "      <th>2014-12-14</th>\n",
       "      <td>Pantanal</td>\n",
       "      <td>6.0</td>\n",
       "      <td>2.913043</td>\n",
       "    </tr>\n",
       "    <tr>\n",
       "      <th>2014-12-21</th>\n",
       "      <td>Pantanal</td>\n",
       "      <td>16.0</td>\n",
       "      <td>4.351948</td>\n",
       "    </tr>\n",
       "    <tr>\n",
       "      <th>2014-12-28</th>\n",
       "      <td>Pantanal</td>\n",
       "      <td>8.0</td>\n",
       "      <td>0.271875</td>\n",
       "    </tr>\n",
       "    <tr>\n",
       "      <th>2015-01-04</th>\n",
       "      <td>Pantanal</td>\n",
       "      <td>3.0</td>\n",
       "      <td>0.065116</td>\n",
       "    </tr>\n",
       "  </tbody>\n",
       "</table>\n",
       "<p>315 rows × 3 columns</p>\n",
       "</div>"
      ],
      "text/plain": [
       "               bioma  riscofogo  precipitacao\n",
       "2014-01-05  Amazonia     1462.0      1.367618\n",
       "2014-01-12  Amazonia      528.0      2.994492\n",
       "2014-01-19  Amazonia      357.0      2.270912\n",
       "2014-01-26  Amazonia     1347.0      0.987918\n",
       "2014-02-02  Amazonia      423.0      1.589529\n",
       "...              ...        ...           ...\n",
       "2014-12-07  Pantanal       10.0      1.925424\n",
       "2014-12-14  Pantanal        6.0      2.913043\n",
       "2014-12-21  Pantanal       16.0      4.351948\n",
       "2014-12-28  Pantanal        8.0      0.271875\n",
       "2015-01-04  Pantanal        3.0      0.065116\n",
       "\n",
       "[315 rows x 3 columns]"
      ]
     },
     "execution_count": 63,
     "metadata": {},
     "output_type": "execute_result"
    }
   ],
   "source": [
    "df2014 = fire_prec_creator(file2014)\n"
   ]
  },
  {
   "cell_type": "code",
   "execution_count": 80,
   "metadata": {},
   "outputs": [],
   "source": [
    "## Work on the localization\n",
    "\n",
    "cols = ['bioma', 'riscofogo', 'latitude', 'longitude']\n",
    "dataframe = pd.read_csv(file2014, usecols = cols)#, index_col = ['latitude', 'longitude'])\n",
    "dataframe = dataframe[dataframe.riscofogo == 1]\n",
    "dataframe = dataframe.round(1)"
   ]
  },
  {
   "cell_type": "code",
   "execution_count": 88,
   "metadata": {},
   "outputs": [],
   "source": [
    "def fire_loc_creator(filename):\n",
    "    cols = ['bioma', 'riscofogo', 'latitude', 'longitude']\n",
    "    dataframe = pd.read_csv(filename, usecols = cols)\n",
    "    dataframe = dataframe[dataframe.riscofogo == 1]\n",
    "    dataframe = dataframe.round(1)\n",
    "    \n",
    "    gb_biome = dataframe.groupby('bioma')\n",
    "\n",
    "    df_loc_fire = pd.DataFrame(columns = ['latitude', 'longitude', 'riscofogo', 'bioma'])\n",
    "\n",
    "    for biome, df in gb_biome:\n",
    "        number_events = []\n",
    "        lat = []\n",
    "        long = []\n",
    "        loc_gb = dataframe.groupby(['latitude', 'longitude'])\n",
    "        for info, df_loc in loc_gb:\n",
    "            lat.append(info[0])\n",
    "            long.append(info[1])\n",
    "            number_events.append(len(df_loc))\n",
    "\n",
    "        df_partial = pd.DataFrame({'latitude' : lat, 'longitude' : long, 'riscofogo' : number_events, 'bioma' : biome})\n",
    "\n",
    "        df_loc_fire = pd.concat([df_loc_fire, df_partial])\n",
    "        \n",
    "        return df_loc_fire"
   ]
  },
  {
   "cell_type": "code",
   "execution_count": 87,
   "metadata": {},
   "outputs": [
    {
     "data": {
      "text/plain": [
       "2572"
      ]
     },
     "execution_count": 87,
     "metadata": {},
     "output_type": "execute_result"
    }
   ],
   "source": [
    "df2014 = fire_prec_creator(file2014)\n",
    "df2015 = fire_prec_creator(file2015)\n",
    "df2016 = fire_prec_creator(file2016)\n",
    "df2017 = fire_prec_creator(file2017)\n",
    "df2018 = fire_prec_creator(file2018)\n",
    "df2019 = fire_prec_creator(file2019)\n",
    "df2020 = fire_prec_creator(file2020)\n",
    "\n",
    "\n",
    "df2014_loc = fire_loc_creator(file2014)\n",
    "df2015_loc = fire_loc_creator(file2015)\n",
    "df2016_loc = fire_loc_creator(file2016)\n",
    "df2017_loc = fire_loc_creator(file2017)\n",
    "df2018_loc = fire_loc_creator(file2018)\n",
    "df2019_loc = fire_loc_creator(file2019)\n",
    "df2020_loc = fire_loc_creator(file2020)"
   ]
  },
  {
   "cell_type": "code",
   "execution_count": 89,
   "metadata": {},
   "outputs": [],
   "source": [
    "df2014 = fire_prec_creator(file2014)"
   ]
  },
  {
   "cell_type": "code",
   "execution_count": null,
   "metadata": {},
   "outputs": [],
   "source": []
  },
  {
   "cell_type": "code",
   "execution_count": null,
   "metadata": {},
   "outputs": [],
   "source": []
  }
 ],
 "metadata": {
  "kernelspec": {
   "display_name": "Python 3",
   "language": "python",
   "name": "python3"
  },
  "language_info": {
   "codemirror_mode": {
    "name": "ipython",
    "version": 3
   },
   "file_extension": ".py",
   "mimetype": "text/x-python",
   "name": "python",
   "nbconvert_exporter": "python",
   "pygments_lexer": "ipython3",
   "version": "3.8.5"
  }
 },
 "nbformat": 4,
 "nbformat_minor": 4
}
