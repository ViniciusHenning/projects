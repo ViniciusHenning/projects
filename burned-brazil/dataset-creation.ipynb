{
 "cells": [
  {
   "cell_type": "markdown",
   "metadata": {},
   "source": [
    "# Dataset creation\n",
    "\n",
    "There are a lot of non-pertinent data in the datasets provided by INPE. In this notebook\n",
    "I create functions to simplify the datasets where we are left solely with the relevant information"
   ]
  },
  {
   "cell_type": "code",
   "execution_count": 39,
   "metadata": {},
   "outputs": [],
   "source": [
    "import pandas as pd"
   ]
  },
  {
   "cell_type": "code",
   "execution_count": 40,
   "metadata": {},
   "outputs": [],
   "source": [
    "file2014 = '../../dataset/data2014.csv'\n",
    "file2015 = '../../dataset/data2015.csv'\n",
    "file2016 = '../../dataset/data2016.csv'\n",
    "file2017 = '../../dataset/data2017.csv'\n",
    "file2018 = '../../dataset/data2018.csv'\n",
    "file2019 = '../../dataset/data2019.csv'\n",
    "file2020 = '../../dataset/data2020.csv'"
   ]
  },
  {
   "cell_type": "code",
   "execution_count": 35,
   "metadata": {},
   "outputs": [],
   "source": [
    "def fire_prec_creator(filename):\n",
    "    cols = ['datahora', 'bioma', 'riscofogo', 'precipitacao']\n",
    "    dataframe = pd.read_csv(filename, usecols = cols, parse_dates = True, index_col = 'datahora')\n",
    "    \n",
    "    df_fogo = dataframe.drop(columns = ['precipitacao']).copy()\n",
    "\n",
    "    df_fogo = df_fogo[df_fogo.riscofogo == 1]\n",
    "\n",
    "    gb_biome  = df_fogo.groupby('bioma')\n",
    "\n",
    "    new_df_fogo = pd.DataFrame(columns = ['bioma', 'riscofogo'])\n",
    "    for biome, df in gb_biome:\n",
    "        df = df.resample('D').sum().sort_index()\n",
    "        df['bioma'] = biome\n",
    "        new_df_fogo = pd.concat([new_df_fogo, df])\n",
    "\n",
    "    df_prec = dataframe.drop(columns = ['riscofogo']).copy()\n",
    "\n",
    "    gb_biome  = df_prec.groupby('bioma')\n",
    "\n",
    "    new_df_prec = pd.DataFrame(columns = ['bioma', 'precipitacao'])\n",
    "\n",
    "    for biome, df in gb_biome:\n",
    "        df = df.resample('D').mean().sort_index()\n",
    "        df['bioma'] = biome\n",
    "        new_df_prec = pd.concat([new_df_prec, df])\n",
    "\n",
    "    new_df_prec.head()\n",
    "\n",
    "    new_dataframe = pd.DataFrame(columns = ['bioma', 'riscofogo', 'precipitacao'])\n",
    "    for biome in new_df_prec.bioma.unique():\n",
    "        df1 = new_df_fogo[new_df_fogo.bioma == biome].drop(columns = 'bioma')\n",
    "        df2 = new_df_prec[new_df_prec.bioma == biome].drop(columns = 'bioma')\n",
    "        df3 = pd.merge(df1, df2, left_index = True, right_index = True)\n",
    "        df3['bioma'] = biome\n",
    "        new_dataframe = pd.concat([new_dataframe, df3])\n",
    "    return new_dataframe"
   ]
  },
  {
   "cell_type": "code",
   "execution_count": 45,
   "metadata": {},
   "outputs": [],
   "source": [
    "def fire_loc_creator(filename):\n",
    "    df = pd.read_csv(filename, usecols = ['latitude', 'longitude', 'riscofogo', 'bioma'])\n",
    "\n",
    "    df = df[df.riscofogo == 1]\n",
    "    df = df.round(1)\n",
    "    \n",
    "    loc_gb = df.groupby(['latitude', 'longitude', 'bioma'])\n",
    "    number_events = []\n",
    "    lat = []\n",
    "    long = []\n",
    "    biome = []\n",
    "    \n",
    "    for info, df_loc in loc_gb:\n",
    "        lat.append(info[0])\n",
    "        long.append(info[1])\n",
    "        biome.append(info[2])\n",
    "        number_events.append(len(df_loc))\n",
    "\n",
    "    df_loc_fire = pd.DataFrame({'latitude' : lat, 'longitude' : long, 'riscofogo' : number_events, 'bioma' : biome})\n",
    "    \n",
    "    return df_loc_fire"
   ]
  },
  {
   "cell_type": "code",
   "execution_count": 46,
   "metadata": {},
   "outputs": [],
   "source": [
    "df2014 = fire_prec_creator(file2014)\n",
    "df2015 = fire_prec_creator(file2015)\n",
    "df2016 = fire_prec_creator(file2016)\n",
    "df2017 = fire_prec_creator(file2017)\n",
    "df2018 = fire_prec_creator(file2018)\n",
    "df2019 = fire_prec_creator(file2019)\n",
    "df2020 = fire_prec_creator(file2020)\n",
    "\n",
    "\n",
    "df2014_loc = fire_loc_creator(file2014)\n",
    "df2015_loc = fire_loc_creator(file2015)\n",
    "df2016_loc = fire_loc_creator(file2016)\n",
    "df2017_loc = fire_loc_creator(file2017)\n",
    "df2018_loc = fire_loc_creator(file2018)\n",
    "df2019_loc = fire_loc_creator(file2019)\n",
    "df2020_loc = fire_loc_creator(file2020)"
   ]
  },
  {
   "cell_type": "code",
   "execution_count": 49,
   "metadata": {},
   "outputs": [],
   "source": [
    "df2014.to_csv('webapp/datasets/df2014.csv')\n",
    "df2014_loc.to_csv('webapp/datasets/df2014_loc.csv')\n",
    "\n",
    "df2015.to_csv('webapp/datasets/df2015.csv')\n",
    "df2015_loc.to_csv('webapp/datasets/df2015_loc.csv')\n",
    "\n",
    "df2016.to_csv('webapp/datasets/df2016.csv')\n",
    "df2016_loc.to_csv('webapp/datasets/df2016_loc.csv')\n",
    "\n",
    "df2017.to_csv('webapp/datasets/df2017.csv')\n",
    "df2017_loc.to_csv('webapp/datasets/df2017_loc.csv')\n",
    "\n",
    "df2018.to_csv('webapp/datasets/df2018.csv')\n",
    "df2018_loc.to_csv('webapp/datasets/df2018_loc.csv')\n",
    "\n",
    "df2019.to_csv('webapp/datasets/df2019.csv')\n",
    "df2019_loc.to_csv('webapp/datasets/df2019_loc.csv')\n",
    "\n",
    "df2020.to_csv('webapp/datasets/df2020.csv')\n",
    "df2020_loc.to_csv('webapp/datasets/df2020_loc.csv')"
   ]
  },
  {
   "cell_type": "code",
   "execution_count": 32,
   "metadata": {},
   "outputs": [],
   "source": [
    "## Creating a df for map\n",
    "\n",
    "def fire_biome(df, biome, ax, dfmap):\n",
    "        df_biome = dfmap.copy()\n",
    "        gb_biome = df_biome.groupby('bioma')\n",
    "\n",
    "        biomes = ['Amazonia', 'Mata Atlantica', 'Cerrado', 'Pampa', 'Caatinga', 'Pantanal']\n",
    "        colors = ['indianred', 'yellowgreen', 'cadetblue', 'mediumpurple', 'lightsteelblue', 'bisque']\n",
    "        color_dict = dict(zip(biomes, colors))\n",
    "        \n",
    "        ## Looping through the biomes\n",
    "        for biome_name, df in gb_biome:\n",
    "            if biome_name != biome:\n",
    "                ax.plot(df.longitude, df.latitude, marker = '*',\n",
    "                label = biome_name, linestyle = '', c = color_dict[biome_name])\n",
    "\n",
    "        ax.set_xlabel('Latitude', fontsize = 14)\n",
    "        ax.set_ylabel('Longitude', fontsize = 14)\n",
    "        ax.set_title('Fire events distribution in {} \\nduring {}'.format(biome, self.year), fontsize = 16)\n",
    "        ax.legend(loc = 'lower left')"
   ]
  },
  {
   "cell_type": "code",
   "execution_count": null,
   "metadata": {},
   "outputs": [],
   "source": []
  }
 ],
 "metadata": {
  "kernelspec": {
   "display_name": "Python 3",
   "language": "python",
   "name": "python3"
  },
  "language_info": {
   "codemirror_mode": {
    "name": "ipython",
    "version": 3
   },
   "file_extension": ".py",
   "mimetype": "text/x-python",
   "name": "python",
   "nbconvert_exporter": "python",
   "pygments_lexer": "ipython3",
   "version": "3.8.5"
  }
 },
 "nbformat": 4,
 "nbformat_minor": 4
}
